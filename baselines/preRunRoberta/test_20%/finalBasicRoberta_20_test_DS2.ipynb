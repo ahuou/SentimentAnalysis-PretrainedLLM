{
 "cells": [
  {
   "cell_type": "code",
   "execution_count": 1,
   "metadata": {
    "id": "RTbL6P0DPT-l",
    "jupyter": {
     "is_executing": true
    },
    "outputId": "ff792b6c-5e67-4439-a160-ff5b2e6f5051"
   },
   "outputs": [
    {
     "name": "stderr",
     "output_type": "stream",
     "text": [
      "[nltk_data] Downloading package omw-1.4 to\n",
      "[nltk_data]     C:\\Users\\alexh\\AppData\\Roaming\\nltk_data...\n",
      "[nltk_data]   Package omw-1.4 is already up-to-date!\n",
      "[nltk_data] Downloading package stopwords to\n",
      "[nltk_data]     C:\\Users\\alexh\\AppData\\Roaming\\nltk_data...\n",
      "[nltk_data]   Package stopwords is already up-to-date!\n",
      "[nltk_data] Downloading package wordnet to\n",
      "[nltk_data]     C:\\Users\\alexh\\AppData\\Roaming\\nltk_data...\n",
      "[nltk_data]   Package wordnet is already up-to-date!\n",
      "[nltk_data] Downloading package brown to\n",
      "[nltk_data]     C:\\Users\\alexh\\AppData\\Roaming\\nltk_data...\n",
      "[nltk_data]   Package brown is already up-to-date!\n"
     ]
    }
   ],
   "source": [
    "import numpy as np\n",
    "import pandas as pd \n",
    "import nltk\n",
    "import matplotlib.pyplot as plt\n",
    "from wordcloud import WordCloud,STOPWORDS\n",
    "from PIL import Image\n",
    "from sklearn.utils import resample\n",
    "import seaborn as sns\n",
    "from sklearn.feature_extraction.text import CountVectorizer\n",
    "import re\n",
    "from nltk.corpus import stopwords\n",
    "from nltk.stem import WordNetLemmatizer\n",
    "from nltk.probability import FreqDist\n",
    "from transformers import RobertaTokenizer\n",
    "from transformers import TFRobertaModel\n",
    "from sklearn.model_selection import train_test_split\n",
    "from tensorflow.keras.layers import Dense,Dropout\n",
    "from tensorflow.keras.layers import Flatten\n",
    "from sklearn.metrics import precision_recall_curve\n",
    "\n",
    "import tensorflow as tf\n",
    "from sklearn.metrics import roc_auc_score, roc_curve,auc\n",
    "from keras import regularizers\n",
    "from sklearn import preprocessing\n",
    "from sklearn.metrics import confusion_matrix,f1_score,classification_report\n",
    "from mlxtend.plotting import plot_confusion_matrix\n",
    "from sklearn.metrics import accuracy_score\n",
    "from sklearn.preprocessing import OneHotEncoder\n",
    "from sklearn.preprocessing import LabelEncoder\n",
    "from sklearn.preprocessing import label_binarize\n",
    "from sklearn.metrics import average_precision_score\n",
    "from itertools import cycle\n",
    "\n",
    "lemma = WordNetLemmatizer()\n",
    "stopword = set(STOPWORDS)\n",
    "nltk.download('omw-1.4')\n",
    "%matplotlib inline\n",
    "import nltk\n",
    "nltk.download('stopwords')\n",
    "import nltk\n",
    "nltk.download('wordnet')\n",
    "\n",
    "\n",
    "from nltk.corpus import brown\n",
    "nltk.download(\"brown\")\n",
    "import warnings\n",
    "warnings.filterwarnings(\"ignore\")\n"
   ]
  },
  {
   "cell_type": "markdown",
   "metadata": {
    "id": "4WMfDUifPu9s"
   },
   "source": [
    "# Import Train Data"
   ]
  },
  {
   "cell_type": "markdown",
   "metadata": {},
   "source": [
    "# Data preprocessing"
   ]
  },
  {
   "cell_type": "code",
   "execution_count": 5,
   "metadata": {},
   "outputs": [
    {
     "name": "stdout",
     "output_type": "stream",
     "text": [
      "C:\\Users\\alexh\\PycharmProjects\\proj_bach\n"
     ]
    }
   ],
   "source": [
    "%cd PycharmProjects/proj_bach"
   ]
  },
  {
   "cell_type": "code",
   "execution_count": 6,
   "metadata": {
    "jupyter": {
     "is_executing": true
    }
   },
   "outputs": [
    {
     "name": "stdout",
     "output_type": "stream",
     "text": [
      "File simple_emotions.txt already exists. Not overwriting.\n",
      "File simple_sentiments.txt already exists. Not overwriting.\n",
      "File clean_tweet_emotions.txt already exists. Not overwriting.\n",
      "File clean_tweet_sentiments.txt already exists. Not overwriting.\n",
      "                                                Text Sentiment\n",
      "0  During the period of falling in love, each tim...  Positive\n",
      "1         When I was involved in a traffic accident.  Negative\n",
      "2  When I was driving home after  several days of...  Negative\n",
      "3   When I lost the person who meant the most to me.  Negative\n",
      "4  The time I knocked a deer down - the sight of ...  Negative\n",
      "Index(['Text', 'Sentiment'], dtype='object')\n",
      "                                                   Text Sentiment\n",
      "0     During the period of falling in love, each tim...  Positive\n",
      "1            When I was involved in a traffic accident.  Negative\n",
      "2     When I was driving home after  several days of...  Negative\n",
      "3      When I lost the person who meant the most to me.  Negative\n",
      "4     The time I knocked a deer down - the sight of ...  Negative\n",
      "...                                                 ...       ...\n",
      "7475  Two years back someone invited me to be the tu...  Negative\n",
      "7476  I had taken the responsibility to do something...  Negative\n",
      "7477  I was at home and I heard a loud sound of spit...  Negative\n",
      "7478  I did not do the homework that the teacher had...  Negative\n",
      "7479  I had shouted at my younger brother and he was...  Negative\n",
      "\n",
      "[7480 rows x 2 columns]\n"
     ]
    }
   ],
   "source": [
    "from data_retriever import data1, data2"
   ]
  },
  {
   "cell_type": "code",
   "execution_count": 7,
   "metadata": {
    "ExecuteTime": {
     "end_time": "2024-06-12T11:45:44.981963Z",
     "start_time": "2024-06-12T11:45:44.965963Z"
    }
   },
   "outputs": [],
   "source": [
    "def clean_text(tweet):\n",
    "    tweets = \" \".join(filter(lambda x: x[0]!= '@' , tweet.split()))\n",
    "    tweets = re.sub('[^a-zA-Z]', ' ', tweets)\n",
    "    tweets = tweets.lower()\n",
    "    tweets = tweets.split()\n",
    "    tweets = [word for word in tweets if not word in set(stopwords.words('english'))]\n",
    "    tweets = [lemma.lemmatize(word) for word in tweets]\n",
    "    tweets = \" \".join(tweets)\n",
    "    return tweets"
   ]
  },
  {
   "cell_type": "code",
   "execution_count": 8,
   "metadata": {
    "ExecuteTime": {
     "end_time": "2024-06-12T11:45:45.771184Z",
     "start_time": "2024-06-12T11:45:45.757670Z"
    }
   },
   "outputs": [],
   "source": [
    "train_data = data2.astype(str).copy()"
   ]
  },
  {
   "cell_type": "code",
   "execution_count": 9,
   "metadata": {
    "ExecuteTime": {
     "end_time": "2024-06-12T11:46:07.269536Z",
     "start_time": "2024-06-12T11:45:46.126947Z"
    },
    "execution": {
     "iopub.execute_input": "2023-06-08T14:50:12.943209Z",
     "iopub.status.busy": "2023-06-08T14:50:12.942562Z",
     "iopub.status.idle": "2023-06-08T14:51:15.385674Z",
     "shell.execute_reply": "2023-06-08T14:51:15.384598Z",
     "shell.execute_reply.started": "2023-06-08T14:50:12.943167Z"
    },
    "id": "EksOwZ3fPZCE"
   },
   "outputs": [],
   "source": [
    "train_data['clean_tweet_text'] = train_data.Text.apply(clean_text)"
   ]
  },
  {
   "cell_type": "code",
   "execution_count": 10,
   "metadata": {
    "ExecuteTime": {
     "end_time": "2024-06-12T11:46:07.285044Z",
     "start_time": "2024-06-12T11:46:07.270529Z"
    },
    "execution": {
     "iopub.execute_input": "2023-06-08T14:51:15.387861Z",
     "iopub.status.busy": "2023-06-08T14:51:15.387433Z",
     "iopub.status.idle": "2023-06-08T14:51:15.39881Z",
     "shell.execute_reply": "2023-06-08T14:51:15.397586Z",
     "shell.execute_reply.started": "2023-06-08T14:51:15.387821Z"
    },
    "id": "lFIZ299MPZGG",
    "outputId": "f66a7c7a-e86d-4925-f071-17590f293b5d"
   },
   "outputs": [
    {
     "name": "stdout",
     "output_type": "stream",
     "text": [
      "                                                Text Sentiment  \\\n",
      "0                                                nan   neutral   \n",
      "1                     Sage Act upgrade list tommorow  Positive   \n",
      "2  WAY HOMEGIRL BABY FUNERAL MAN HATE FUNERALS SH...  Negative   \n",
      "3  eye  true hazel eyeand brilliant  Regular feat...  Positive   \n",
      "4    ugh babe hugggzzz u  babe naamazed nga ako e...  Positive   \n",
      "\n",
      "                                    clean_tweet_text  \n",
      "0                                                nan  \n",
      "1                     sage act upgrade list tommorow  \n",
      "2  way homegirl baby funeral man hate funeral sho...  \n",
      "3  eye true hazel eyeand brilliant regular featur...  \n",
      "4  ugh babe hugggzzz u babe naamazed nga ako e ba...  \n"
     ]
    }
   ],
   "source": [
    "print(train_data.head())"
   ]
  },
  {
   "cell_type": "code",
   "execution_count": 11,
   "metadata": {
    "ExecuteTime": {
     "end_time": "2024-06-12T11:49:19.122427Z",
     "start_time": "2024-06-12T11:49:19.114427Z"
    },
    "execution": {
     "iopub.execute_input": "2023-06-08T14:51:20.566097Z",
     "iopub.status.busy": "2023-06-08T14:51:20.56572Z",
     "iopub.status.idle": "2023-06-08T14:51:20.574943Z",
     "shell.execute_reply": "2023-06-08T14:51:20.573839Z",
     "shell.execute_reply.started": "2023-06-08T14:51:20.566057Z"
    },
    "id": "FgRRUAEqaOeb"
   },
   "outputs": [],
   "source": [
    "train_data=train_data.drop([\"Text\"],axis=1)"
   ]
  },
  {
   "cell_type": "code",
   "execution_count": 12,
   "metadata": {
    "ExecuteTime": {
     "end_time": "2024-06-12T11:49:21.515839Z",
     "start_time": "2024-06-12T11:49:21.509840Z"
    },
    "execution": {
     "iopub.execute_input": "2023-06-08T14:51:20.577147Z",
     "iopub.status.busy": "2023-06-08T14:51:20.576837Z",
     "iopub.status.idle": "2023-06-08T14:51:20.590134Z",
     "shell.execute_reply": "2023-06-08T14:51:20.588981Z",
     "shell.execute_reply.started": "2023-06-08T14:51:20.577119Z"
    },
    "id": "gLDi1WypaOnG",
    "outputId": "022cbe18-5c8e-44aa-cef6-574105f4f31f"
   },
   "outputs": [
    {
     "data": {
      "text/html": [
       "<div>\n",
       "<style scoped>\n",
       "    .dataframe tbody tr th:only-of-type {\n",
       "        vertical-align: middle;\n",
       "    }\n",
       "\n",
       "    .dataframe tbody tr th {\n",
       "        vertical-align: top;\n",
       "    }\n",
       "\n",
       "    .dataframe thead th {\n",
       "        text-align: right;\n",
       "    }\n",
       "</style>\n",
       "<table border=\"1\" class=\"dataframe\">\n",
       "  <thead>\n",
       "    <tr style=\"text-align: right;\">\n",
       "      <th></th>\n",
       "      <th>Sentiment</th>\n",
       "      <th>clean_tweet_text</th>\n",
       "    </tr>\n",
       "  </thead>\n",
       "  <tbody>\n",
       "    <tr>\n",
       "      <th>0</th>\n",
       "      <td>neutral</td>\n",
       "      <td>nan</td>\n",
       "    </tr>\n",
       "    <tr>\n",
       "      <th>1</th>\n",
       "      <td>Positive</td>\n",
       "      <td>sage act upgrade list tommorow</td>\n",
       "    </tr>\n",
       "    <tr>\n",
       "      <th>2</th>\n",
       "      <td>Negative</td>\n",
       "      <td>way homegirl baby funeral man hate funeral sho...</td>\n",
       "    </tr>\n",
       "    <tr>\n",
       "      <th>3</th>\n",
       "      <td>Positive</td>\n",
       "      <td>eye true hazel eyeand brilliant regular featur...</td>\n",
       "    </tr>\n",
       "    <tr>\n",
       "      <th>4</th>\n",
       "      <td>Positive</td>\n",
       "      <td>ugh babe hugggzzz u babe naamazed nga ako e ba...</td>\n",
       "    </tr>\n",
       "  </tbody>\n",
       "</table>\n",
       "</div>"
      ],
      "text/plain": [
       "  Sentiment                                   clean_tweet_text\n",
       "0   neutral                                                nan\n",
       "1  Positive                     sage act upgrade list tommorow\n",
       "2  Negative  way homegirl baby funeral man hate funeral sho...\n",
       "3  Positive  eye true hazel eyeand brilliant regular featur...\n",
       "4  Positive  ugh babe hugggzzz u babe naamazed nga ako e ba..."
      ]
     },
     "execution_count": 12,
     "metadata": {},
     "output_type": "execute_result"
    }
   ],
   "source": [
    "train_data.head()"
   ]
  },
  {
   "cell_type": "code",
   "execution_count": 13,
   "metadata": {
    "ExecuteTime": {
     "end_time": "2024-06-12T11:49:23.721480Z",
     "start_time": "2024-06-12T11:49:23.716477Z"
    },
    "execution": {
     "iopub.execute_input": "2023-06-08T14:51:20.592181Z",
     "iopub.status.busy": "2023-06-08T14:51:20.591798Z",
     "iopub.status.idle": "2023-06-08T14:51:20.598076Z",
     "shell.execute_reply": "2023-06-08T14:51:20.596846Z",
     "shell.execute_reply.started": "2023-06-08T14:51:20.592142Z"
    },
    "id": "iIfp49hcbyhB"
   },
   "outputs": [],
   "source": [
    "max_len=128\n",
    "text_data=train_data[\"clean_tweet_text\"]\n",
    "label_data=train_data[\"Sentiment\"]"
   ]
  },
  {
   "cell_type": "markdown",
   "metadata": {
    "id": "qdaPVMYbbbbO"
   },
   "source": [
    "# roberta_tokenizer"
   ]
  },
  {
   "cell_type": "code",
   "execution_count": 14,
   "metadata": {
    "ExecuteTime": {
     "end_time": "2024-06-12T11:49:25.726813Z",
     "start_time": "2024-06-12T11:49:25.465488Z"
    },
    "execution": {
     "iopub.execute_input": "2023-06-08T14:51:20.610689Z",
     "iopub.status.busy": "2023-06-08T14:51:20.610246Z",
     "iopub.status.idle": "2023-06-08T14:51:25.541375Z",
     "shell.execute_reply": "2023-06-08T14:51:25.540311Z",
     "shell.execute_reply.started": "2023-06-08T14:51:20.610653Z"
    },
    "id": "RqTbI32waOtk"
   },
   "outputs": [],
   "source": [
    "roberta_tokenizer = RobertaTokenizer.from_pretrained(\"roberta-base\")"
   ]
  },
  {
   "cell_type": "markdown",
   "metadata": {
    "id": "5n7J2DqbbjBT"
   },
   "source": [
    "# roberta_model"
   ]
  },
  {
   "cell_type": "code",
   "execution_count": 15,
   "metadata": {
    "ExecuteTime": {
     "end_time": "2024-06-12T11:49:29.614309Z",
     "start_time": "2024-06-12T11:49:29.600301Z"
    }
   },
   "outputs": [
    {
     "name": "stdout",
     "output_type": "stream",
     "text": [
      "tf.Tensor(117.27338, shape=(), dtype=float32)\n"
     ]
    }
   ],
   "source": [
    "import tensorflow as tf\n",
    "print(tf.reduce_sum(tf.random.normal([1000, 1000])))"
   ]
  },
  {
   "cell_type": "code",
   "execution_count": 16,
   "metadata": {
    "ExecuteTime": {
     "end_time": "2024-06-12T11:57:09.376759Z",
     "start_time": "2024-06-12T11:56:24.432392Z"
    },
    "execution": {
     "iopub.execute_input": "2023-06-08T14:51:25.543545Z",
     "iopub.status.busy": "2023-06-08T14:51:25.54285Z",
     "iopub.status.idle": "2023-06-08T14:51:54.528313Z",
     "shell.execute_reply": "2023-06-08T14:51:54.527226Z",
     "shell.execute_reply.started": "2023-06-08T14:51:25.543503Z"
    },
    "id": "D4AugOATaO0f",
    "outputId": "5ff24a49-842f-408e-9695-da1838840e9f"
   },
   "outputs": [
    {
     "name": "stderr",
     "output_type": "stream",
     "text": [
      "Some weights of the PyTorch model were not used when initializing the TF 2.0 model TFRobertaModel: ['lm_head.bias', 'lm_head.dense.weight', 'lm_head.dense.bias', 'lm_head.layer_norm.weight', 'lm_head.layer_norm.bias', 'roberta.embeddings.position_ids']\n",
      "- This IS expected if you are initializing TFRobertaModel from a PyTorch model trained on another task or with another architecture (e.g. initializing a TFBertForSequenceClassification model from a BertForPreTraining model).\n",
      "- This IS NOT expected if you are initializing TFRobertaModel from a PyTorch model that you expect to be exactly identical (e.g. initializing a TFBertForSequenceClassification model from a BertForSequenceClassification model).\n",
      "Some weights or buffers of the TF 2.0 model TFRobertaModel were not initialized from the PyTorch model and are newly initialized: ['roberta.pooler.dense.weight', 'roberta.pooler.dense.bias']\n",
      "You should probably TRAIN this model on a down-stream task to be able to use it for predictions and inference.\n"
     ]
    }
   ],
   "source": [
    "roberta_model = TFRobertaModel.from_pretrained(\"roberta-base\")"
   ]
  },
  {
   "cell_type": "markdown",
   "metadata": {
    "id": "Gg_dnb_7nMXe"
   },
   "source": [
    "# Sample Text"
   ]
  },
  {
   "cell_type": "code",
   "execution_count": 17,
   "metadata": {
    "ExecuteTime": {
     "end_time": "2024-06-12T11:57:30.682821Z",
     "start_time": "2024-06-12T11:57:30.669815Z"
    },
    "execution": {
     "iopub.execute_input": "2023-06-08T14:51:54.530782Z",
     "iopub.status.busy": "2023-06-08T14:51:54.529806Z",
     "iopub.status.idle": "2023-06-08T14:51:54.56176Z",
     "shell.execute_reply": "2023-06-08T14:51:54.56067Z",
     "shell.execute_reply.started": "2023-06-08T14:51:54.530737Z"
    },
    "id": "PR-jLsKJaPCy",
    "outputId": "58d8325a-dfa0-420c-b289-2b323223b58c"
   },
   "outputs": [
    {
     "data": {
      "text/plain": [
       "'time elated vice said mr tyson'"
      ]
     },
     "execution_count": 17,
     "metadata": {},
     "output_type": "execute_result"
    }
   ],
   "source": [
    "text_data[1300]"
   ]
  },
  {
   "cell_type": "code",
   "execution_count": 18,
   "metadata": {
    "ExecuteTime": {
     "end_time": "2024-06-12T11:57:31.424552Z",
     "start_time": "2024-06-12T11:57:31.413032Z"
    },
    "execution": {
     "iopub.execute_input": "2023-06-08T14:51:54.563939Z",
     "iopub.status.busy": "2023-06-08T14:51:54.563496Z",
     "iopub.status.idle": "2023-06-08T14:51:56.152577Z",
     "shell.execute_reply": "2023-06-08T14:51:56.151382Z",
     "shell.execute_reply.started": "2023-06-08T14:51:54.563899Z"
    },
    "id": "FGGUFczEaPMb",
    "outputId": "718d54a0-6963-4b6b-acd4-19e24fd9e841"
   },
   "outputs": [],
   "source": [
    "encode_data=roberta_tokenizer.encode_plus(text_data[1300],add_special_tokens = True,max_length =40,pad_to_max_length = True,truncation=True)"
   ]
  },
  {
   "cell_type": "code",
   "execution_count": 19,
   "metadata": {
    "ExecuteTime": {
     "end_time": "2024-06-12T11:57:32.150622Z",
     "start_time": "2024-06-12T11:57:32.137597Z"
    },
    "execution": {
     "iopub.execute_input": "2023-06-08T14:51:56.154582Z",
     "iopub.status.busy": "2023-06-08T14:51:56.154195Z",
     "iopub.status.idle": "2023-06-08T14:51:56.165647Z",
     "shell.execute_reply": "2023-06-08T14:51:56.164357Z",
     "shell.execute_reply.started": "2023-06-08T14:51:56.154551Z"
    },
    "id": "c1BKS6huPZf_",
    "outputId": "11aec23f-8385-4ab6-b250-1c6f64590815"
   },
   "outputs": [
    {
     "data": {
      "text/plain": [
       "{'input_ids': [0, 958, 1615, 1070, 2626, 26, 475, 338, 326, 20216, 2, 1, 1, 1, 1, 1, 1, 1, 1, 1, 1, 1, 1, 1, 1, 1, 1, 1, 1, 1, 1, 1, 1, 1, 1, 1, 1, 1, 1, 1], 'attention_mask': [1, 1, 1, 1, 1, 1, 1, 1, 1, 1, 1, 0, 0, 0, 0, 0, 0, 0, 0, 0, 0, 0, 0, 0, 0, 0, 0, 0, 0, 0, 0, 0, 0, 0, 0, 0, 0, 0, 0, 0]}"
      ]
     },
     "execution_count": 19,
     "metadata": {},
     "output_type": "execute_result"
    }
   ],
   "source": [
    "encode_data"
   ]
  },
  {
   "cell_type": "code",
   "execution_count": 20,
   "metadata": {
    "ExecuteTime": {
     "end_time": "2024-06-12T12:10:20.758319Z",
     "start_time": "2024-06-12T12:10:20.705148Z"
    },
    "execution": {
     "iopub.execute_input": "2023-06-08T14:51:56.168314Z",
     "iopub.status.busy": "2023-06-08T14:51:56.167868Z",
     "iopub.status.idle": "2023-06-08T14:51:56.299654Z",
     "shell.execute_reply": "2023-06-08T14:51:56.298658Z",
     "shell.execute_reply.started": "2023-06-08T14:51:56.168272Z"
    },
    "id": "e9Oul71epI0R",
    "outputId": "1f630b50-9a89-41a5-f532-1ab78cca25fd",
    "scrolled": true
   },
   "outputs": [],
   "source": [
    "test_input_id=np.asarray(encode_data['input_ids'])\n",
    "test_attention_mask=np.asarray(encode_data['attention_mask'])\n"
   ]
  },
  {
   "cell_type": "code",
   "execution_count": 21,
   "metadata": {},
   "outputs": [
    {
     "name": "stdout",
     "output_type": "stream",
     "text": [
      "(40,)\n",
      "(40,)\n",
      "(1, 40)\n"
     ]
    }
   ],
   "source": [
    "print(test_input_id.shape)\n",
    "print(test_attention_mask.shape)\n",
    "\n",
    "print(test_attention_mask.reshape(1,-1).shape)"
   ]
  },
  {
   "cell_type": "code",
   "execution_count": 22,
   "metadata": {
    "scrolled": true
   },
   "outputs": [
    {
     "name": "stdout",
     "output_type": "stream",
     "text": [
      "Requirement already satisfied: transformers in c:\\users\\alexh\\miniconda3\\lib\\site-packages (4.41.2)\n",
      "Requirement already satisfied: filelock in c:\\users\\alexh\\miniconda3\\lib\\site-packages (from transformers) (3.14.0)\n",
      "Requirement already satisfied: huggingface-hub<1.0,>=0.23.0 in c:\\users\\alexh\\miniconda3\\lib\\site-packages (from transformers) (0.23.3)\n",
      "Requirement already satisfied: numpy>=1.17 in c:\\users\\alexh\\miniconda3\\lib\\site-packages (from transformers) (1.26.4)\n",
      "Requirement already satisfied: packaging>=20.0 in c:\\users\\alexh\\miniconda3\\lib\\site-packages (from transformers) (23.2)\n",
      "Requirement already satisfied: pyyaml>=5.1 in c:\\users\\alexh\\miniconda3\\lib\\site-packages (from transformers) (6.0.1)\n",
      "Requirement already satisfied: regex!=2019.12.17 in c:\\users\\alexh\\miniconda3\\lib\\site-packages (from transformers) (2024.5.15)\n",
      "Requirement already satisfied: requests in c:\\users\\alexh\\miniconda3\\lib\\site-packages (from transformers) (2.31.0)\n",
      "Requirement already satisfied: tokenizers<0.20,>=0.19 in c:\\users\\alexh\\miniconda3\\lib\\site-packages (from transformers) (0.19.1)\n",
      "Requirement already satisfied: safetensors>=0.4.1 in c:\\users\\alexh\\miniconda3\\lib\\site-packages (from transformers) (0.4.3)\n",
      "Requirement already satisfied: tqdm>=4.27 in c:\\users\\alexh\\miniconda3\\lib\\site-packages (from transformers) (4.65.0)\n",
      "Requirement already satisfied: fsspec>=2023.5.0 in c:\\users\\alexh\\miniconda3\\lib\\site-packages (from huggingface-hub<1.0,>=0.23.0->transformers) (2024.6.0)\n",
      "Requirement already satisfied: typing-extensions>=3.7.4.3 in c:\\users\\alexh\\miniconda3\\lib\\site-packages (from huggingface-hub<1.0,>=0.23.0->transformers) (4.11.0)\n",
      "Requirement already satisfied: colorama in c:\\users\\alexh\\miniconda3\\lib\\site-packages (from tqdm>=4.27->transformers) (0.4.6)\n",
      "Requirement already satisfied: charset-normalizer<4,>=2 in c:\\users\\alexh\\miniconda3\\lib\\site-packages (from requests->transformers) (2.0.4)\n",
      "Requirement already satisfied: idna<4,>=2.5 in c:\\users\\alexh\\miniconda3\\lib\\site-packages (from requests->transformers) (3.4)\n",
      "Requirement already satisfied: urllib3<3,>=1.21.1 in c:\\users\\alexh\\miniconda3\\lib\\site-packages (from requests->transformers) (2.1.0)\n",
      "Requirement already satisfied: certifi>=2017.4.17 in c:\\users\\alexh\\miniconda3\\lib\\site-packages (from requests->transformers) (2024.6.2)\n",
      "Note: you may need to restart the kernel to use updated packages.\n"
     ]
    }
   ],
   "source": [
    "pip install transformers"
   ]
  },
  {
   "cell_type": "code",
   "execution_count": 23,
   "metadata": {},
   "outputs": [],
   "source": [
    "import transformers"
   ]
  },
  {
   "cell_type": "code",
   "execution_count": 24,
   "metadata": {},
   "outputs": [
    {
     "name": "stdout",
     "output_type": "stream",
     "text": [
      "True\n"
     ]
    }
   ],
   "source": [
    "print(isinstance(roberta_model, transformers.TFRobertaModel))  # Should return True\n"
   ]
  },
  {
   "cell_type": "code",
   "execution_count": 25,
   "metadata": {},
   "outputs": [
    {
     "data": {
      "text/plain": [
       "transformers.modeling_tf_outputs.TFBaseModelOutputWithPoolingAndCrossAttentions"
      ]
     },
     "execution_count": 25,
     "metadata": {},
     "output_type": "execute_result"
    }
   ],
   "source": [
    "output_data=roberta_model([test_input_id.reshape(1,-1),test_attention_mask.reshape(1,-1)])\n",
    "\n",
    "type(output_data)"
   ]
  },
  {
   "cell_type": "code",
   "execution_count": 26,
   "metadata": {
    "execution": {
     "iopub.execute_input": "2023-06-08T14:51:56.301902Z",
     "iopub.status.busy": "2023-06-08T14:51:56.301455Z",
     "iopub.status.idle": "2023-06-08T14:51:56.325282Z",
     "shell.execute_reply": "2023-06-08T14:51:56.324114Z",
     "shell.execute_reply.started": "2023-06-08T14:51:56.301857Z"
    },
    "id": "brkCVXRYpJdE",
    "outputId": "2017c028-dc99-45d5-8129-b1b4f3f057a2"
   },
   "outputs": [
    {
     "data": {
      "text/plain": [
       "TFBaseModelOutputWithPoolingAndCrossAttentions(last_hidden_state=<tf.Tensor: shape=(1, 40, 768), dtype=float32, numpy=\n",
       "array([[[-0.06151576,  0.06928044, -0.02511747, ..., -0.11403868,\n",
       "         -0.06508613, -0.01430185],\n",
       "        [-0.22992018,  0.00537658, -0.2360584 , ..., -0.31573626,\n",
       "         -0.1950437 ,  0.00210309],\n",
       "        [ 0.07679282,  0.1645904 ,  0.03715213, ...,  0.05029377,\n",
       "          0.02517287,  0.10758667],\n",
       "        ...,\n",
       "        [ 0.04703602, -0.03357879, -0.10649902, ..., -0.4143144 ,\n",
       "         -0.0469461 ,  0.00187367],\n",
       "        [ 0.04703602, -0.03357879, -0.10649902, ..., -0.4143144 ,\n",
       "         -0.0469461 ,  0.00187367],\n",
       "        [ 0.04703602, -0.03357879, -0.10649902, ..., -0.4143144 ,\n",
       "         -0.0469461 ,  0.00187367]]], dtype=float32)>, pooler_output=<tf.Tensor: shape=(1, 768), dtype=float32, numpy=\n",
       "array([[-2.29509100e-01,  3.58325452e-01,  2.69598067e-01,\n",
       "         2.51303017e-01, -7.85267651e-02, -4.12345260e-01,\n",
       "         4.80483770e-02,  2.75966763e-01, -2.29786590e-01,\n",
       "        -1.67814791e-01, -1.40794784e-01,  1.14570610e-01,\n",
       "         3.59107717e-03, -1.81161493e-01,  2.40984842e-01,\n",
       "        -7.08023533e-02, -9.18414965e-02, -1.52166739e-01,\n",
       "         2.85799533e-01, -2.19265819e-01,  1.89582437e-01,\n",
       "        -6.42016232e-02, -2.23784223e-01,  6.98768049e-02,\n",
       "        -2.73100257e-01,  1.04186483e-01, -2.66660918e-02,\n",
       "         2.34129583e-03,  1.05191243e-03, -2.30911851e-01,\n",
       "         9.39013287e-02,  3.10345590e-01, -8.89673606e-02,\n",
       "         3.32175523e-01, -1.62053570e-01,  1.15657687e-01,\n",
       "         4.35069727e-04,  1.41281858e-01, -2.88722903e-01,\n",
       "         1.36391237e-01,  7.72078149e-03, -1.14537120e-01,\n",
       "        -1.90568790e-01, -2.47483060e-01, -7.80701414e-02,\n",
       "        -1.42359063e-01,  3.16034928e-02, -2.62360245e-01,\n",
       "         1.34976164e-01,  7.66437277e-02,  9.46376473e-02,\n",
       "        -2.03475028e-01, -1.14047915e-01,  1.10388689e-01,\n",
       "        -2.82192826e-01,  2.80997068e-01, -1.38863578e-01,\n",
       "         1.63063612e-02,  3.51542473e-01,  2.08456025e-01,\n",
       "        -3.48505676e-02, -1.22066416e-01,  1.42814219e-01,\n",
       "         1.09847657e-01, -4.28745449e-02,  1.32021055e-01,\n",
       "        -4.87975590e-02, -2.35853359e-01,  6.03415892e-02,\n",
       "         2.30957836e-01, -2.89427191e-02,  1.88417975e-02,\n",
       "        -3.51451248e-01,  6.75085420e-03,  2.03972667e-01,\n",
       "        -1.08864747e-01, -9.48627368e-02,  3.16053152e-01,\n",
       "         3.51808481e-02, -2.99934782e-02, -1.71574488e-01,\n",
       "         1.14136182e-01, -2.50746757e-01,  2.17668906e-01,\n",
       "        -1.68323949e-01,  3.61290246e-01, -2.27921724e-01,\n",
       "        -2.45649502e-01,  2.91121811e-01, -2.86255479e-01,\n",
       "        -1.21612050e-01,  1.23534268e-02,  3.67021002e-02,\n",
       "         2.20817789e-01, -2.35095218e-01, -8.36666971e-02,\n",
       "         5.63728474e-02, -8.27220455e-02, -3.82722914e-02,\n",
       "         1.14742164e-02,  2.40530834e-01,  1.60457715e-02,\n",
       "         1.25172004e-01,  4.73164860e-03, -2.10029960e-01,\n",
       "        -1.35702774e-01, -1.38414904e-01,  3.47003847e-01,\n",
       "         2.83745527e-01,  1.23509459e-01,  2.15735361e-01,\n",
       "         1.10814176e-01, -3.81025337e-02, -1.84285894e-01,\n",
       "        -1.90607861e-01, -1.36678200e-02,  1.58229604e-01,\n",
       "         3.47202152e-01, -7.59160295e-02, -1.89894632e-01,\n",
       "        -1.85073912e-02, -1.14717983e-01,  1.53740391e-01,\n",
       "         1.22374699e-01, -2.52374727e-02,  9.79255289e-02,\n",
       "         9.93060097e-02,  2.76426136e-01, -1.23921735e-03,\n",
       "        -4.91495207e-02, -9.79344845e-02,  2.82278091e-01,\n",
       "        -2.57532328e-01, -2.35495660e-02, -3.07196736e-01,\n",
       "         1.13275297e-01,  3.10832977e-01,  1.09513432e-01,\n",
       "        -1.61654785e-01, -1.00428328e-01,  2.37190470e-01,\n",
       "        -3.71970624e-01, -2.77146041e-01, -3.04341502e-02,\n",
       "        -1.13362543e-01,  1.90088358e-02, -1.14132650e-02,\n",
       "        -2.27284670e-01,  2.15850964e-01, -1.31267205e-01,\n",
       "         3.57290477e-01, -3.92550901e-02, -8.62601995e-02,\n",
       "         9.81085598e-02, -2.77790334e-02, -9.35625136e-02,\n",
       "        -1.90927565e-01,  3.60135287e-01, -3.18295509e-01,\n",
       "        -2.71606922e-01,  2.29097798e-01, -3.31041247e-01,\n",
       "        -3.56016785e-01, -1.31812215e-01, -1.34841263e-01,\n",
       "         1.84474483e-01, -2.18730137e-01,  1.88181430e-01,\n",
       "        -3.96790430e-02,  1.74585842e-02, -3.56698930e-01,\n",
       "        -8.25480372e-03,  1.94863096e-01,  4.93204072e-02,\n",
       "        -8.02725703e-02,  3.42739582e-01,  1.16427965e-01,\n",
       "         3.85296762e-01, -7.25179911e-02, -8.09673220e-02,\n",
       "         2.12629568e-02,  1.72317520e-01, -1.81262821e-01,\n",
       "         1.37969062e-01, -3.84387314e-01, -1.06912784e-01,\n",
       "         6.85000196e-02,  1.15062848e-01, -1.61477566e-01,\n",
       "         4.68012057e-02,  2.07993627e-01, -3.29133600e-01,\n",
       "         3.27185720e-01, -2.99661070e-01, -2.10106835e-01,\n",
       "         2.11540565e-01, -2.18557715e-01,  4.50979993e-02,\n",
       "         6.95563108e-02, -2.36262500e-01,  5.93078583e-02,\n",
       "        -2.44692028e-01,  4.95234840e-02, -1.25421241e-01,\n",
       "         3.33431244e-01, -3.08779746e-01,  2.85144210e-01,\n",
       "        -1.24708392e-01, -2.14020938e-01, -3.07572663e-01,\n",
       "        -4.16556038e-02,  5.25052547e-02, -9.04196650e-02,\n",
       "        -7.15551749e-02, -2.78764099e-01, -3.08582000e-02,\n",
       "         1.85158193e-01,  6.14707470e-02,  1.06723877e-02,\n",
       "         1.72936134e-02, -3.68068635e-01, -6.24099821e-02,\n",
       "         1.79969847e-01,  3.23443025e-01, -1.69457972e-01,\n",
       "         2.41544366e-01,  1.24141484e-01, -1.45037368e-01,\n",
       "        -1.41135678e-01,  2.78253883e-01, -3.78398672e-02,\n",
       "        -1.41083032e-01,  6.71508908e-02,  2.20053598e-01,\n",
       "        -3.82220179e-01,  2.99666911e-01,  2.50434548e-01,\n",
       "        -1.11514159e-01,  5.45942318e-03, -4.24854830e-03,\n",
       "        -5.16355000e-02,  5.54656722e-02,  1.51743233e-01,\n",
       "        -7.80646410e-03, -1.63794398e-01, -1.40912578e-01,\n",
       "        -1.26364961e-01, -1.08402848e-01, -1.00481398e-01,\n",
       "        -1.30654112e-01, -1.31719589e-01, -1.70205638e-01,\n",
       "        -3.04538041e-01,  7.24838376e-02,  2.58437306e-01,\n",
       "        -1.04941651e-02, -1.83455218e-02, -1.44577935e-01,\n",
       "        -6.80242777e-02, -1.30742798e-02,  1.97792321e-01,\n",
       "        -3.16926539e-02,  2.44149536e-01,  1.19550310e-01,\n",
       "         5.74494489e-02,  3.84566337e-02, -4.54549119e-02,\n",
       "         1.50594994e-01, -8.58988091e-02, -1.55686632e-01,\n",
       "        -1.48811275e-02,  3.37099373e-01, -9.40360501e-03,\n",
       "         2.07825392e-01,  6.25556381e-03,  5.72754629e-02,\n",
       "         2.99915314e-01,  1.53105527e-01, -1.52522564e-01,\n",
       "         2.80743331e-01, -4.30034459e-01,  2.34286383e-01,\n",
       "        -1.27708614e-01,  1.07219726e-01, -8.92763138e-02,\n",
       "        -3.60667855e-01,  1.40158892e-01, -2.50132769e-01,\n",
       "         1.63852781e-01, -2.18947008e-01, -2.94609278e-01,\n",
       "        -6.68959767e-02, -2.87314743e-01, -2.14561358e-01,\n",
       "         1.15286829e-02, -3.10121477e-01, -3.82611901e-02,\n",
       "         2.60453764e-02,  1.64919451e-01, -8.27258155e-02,\n",
       "         1.60072148e-01,  2.55512714e-01,  7.75741190e-02,\n",
       "        -1.04809133e-02,  1.11427501e-01,  2.75227670e-02,\n",
       "         3.22026342e-01, -1.65233642e-01, -1.38600543e-01,\n",
       "         2.66951829e-01,  8.19137841e-02, -1.31578837e-02,\n",
       "         1.85210668e-02, -1.61406413e-01, -2.73631275e-01,\n",
       "         2.00711023e-02,  3.08098584e-01, -2.57874310e-01,\n",
       "         1.20081991e-01, -3.00683171e-01, -1.33337110e-01,\n",
       "         8.16679373e-02, -1.16607636e-01,  1.10227354e-01,\n",
       "         8.39087069e-02, -1.18748479e-01,  1.17117755e-01,\n",
       "        -2.44894385e-01,  2.91764915e-01,  1.04127042e-01,\n",
       "         7.90176913e-02, -4.19574231e-02,  1.56577770e-02,\n",
       "         1.73602089e-01, -3.45366567e-01,  2.67555624e-01,\n",
       "         8.72967914e-02, -4.05350327e-01, -1.99670047e-01,\n",
       "         2.54606962e-01,  1.92887813e-01, -2.90430896e-02,\n",
       "         8.79912153e-02,  2.19999760e-01,  1.06103197e-01,\n",
       "        -2.20964357e-01, -1.68043133e-02, -5.93717806e-02,\n",
       "        -1.04788683e-01, -2.29500294e-01,  3.23288798e-01,\n",
       "         3.71170193e-01,  2.41925389e-01, -6.59586489e-02,\n",
       "        -2.75662720e-01,  2.67305970e-01,  8.18853825e-02,\n",
       "         2.61531293e-01, -7.56480694e-02, -2.85487249e-03,\n",
       "         2.19389334e-01,  6.76412284e-02, -3.23410511e-01,\n",
       "         2.47987673e-01,  1.98308483e-01, -2.22818360e-01,\n",
       "         4.71425690e-02, -2.75767833e-01,  1.28595298e-02,\n",
       "         3.34359705e-01, -2.75763571e-02, -1.77431434e-01,\n",
       "         1.56918049e-01,  6.65710047e-02,  2.92470127e-01,\n",
       "         8.41818005e-02,  2.06907392e-01,  3.29608917e-01,\n",
       "        -1.21993527e-01,  2.13838667e-01, -1.60477027e-01,\n",
       "        -1.88088819e-01, -3.38818692e-02, -1.08375169e-01,\n",
       "         9.98958349e-02,  7.94687718e-02,  2.21188456e-01,\n",
       "         2.37933233e-01, -2.26885483e-01,  2.90097028e-01,\n",
       "         2.61758529e-02, -3.35122012e-02, -1.52132124e-01,\n",
       "        -1.32111654e-01, -6.30599037e-02,  2.89406091e-01,\n",
       "         1.89015970e-01,  2.09897354e-01, -5.32491021e-02,\n",
       "         1.79456383e-01,  4.82087284e-02,  1.27266347e-01,\n",
       "        -1.27632946e-01,  1.24291830e-01, -1.25058234e-01,\n",
       "        -2.81993419e-01,  4.37483601e-02, -2.61660308e-01,\n",
       "        -1.76727071e-01, -8.61287490e-02, -1.79005489e-01,\n",
       "         1.06772453e-01, -2.88194358e-01, -6.48894161e-02,\n",
       "        -6.35370985e-02, -1.49988025e-01, -1.81303136e-02,\n",
       "         1.42233074e-01,  5.52445799e-02,  1.70516297e-01,\n",
       "        -4.91231829e-02, -2.18500290e-02,  7.37205744e-02,\n",
       "         9.80799496e-02,  2.65227050e-01, -2.64509887e-01,\n",
       "         1.92070097e-01,  2.04517290e-01, -1.07216075e-01,\n",
       "         1.33947030e-01, -1.28765017e-01,  2.58374095e-01,\n",
       "         6.80608302e-02,  1.18705705e-02,  4.21412557e-01,\n",
       "        -1.09182179e-01, -1.79585621e-01,  1.17544860e-01,\n",
       "         2.15890571e-01,  8.67322534e-02,  1.61031187e-01,\n",
       "        -8.39854255e-02,  1.04000337e-01, -2.13197991e-01,\n",
       "         1.41505718e-01,  2.20131308e-01,  3.85676593e-01,\n",
       "        -2.32428964e-03,  2.60329545e-01, -3.40120047e-01,\n",
       "         2.05026388e-01, -1.89582303e-01,  2.64734298e-01,\n",
       "         1.68574005e-01,  2.80223578e-01, -5.70782740e-03,\n",
       "        -1.32881049e-02, -3.08319867e-01,  1.93168104e-01,\n",
       "         3.87585126e-02,  2.81826258e-01, -3.32018048e-01,\n",
       "         1.02469757e-01, -2.91841421e-02,  8.88548866e-02,\n",
       "         1.78252265e-01, -8.62217098e-02,  1.06963791e-01,\n",
       "         1.05263211e-03,  2.67744482e-01, -3.05710342e-02,\n",
       "         6.06156327e-02, -7.73964971e-02,  2.32837573e-01,\n",
       "        -2.60171801e-01,  1.15977645e-01,  8.75392705e-02,\n",
       "         4.98627126e-02, -4.48135644e-01, -3.18150893e-02,\n",
       "         2.34680429e-01,  1.81287482e-01, -2.16119722e-01,\n",
       "        -3.78296703e-01,  2.17435941e-01, -1.19097136e-01,\n",
       "         2.14963406e-01,  2.41312668e-01, -2.02601880e-01,\n",
       "        -1.24392852e-01,  2.83414632e-01, -4.89881486e-02,\n",
       "        -1.57635495e-01,  2.13667050e-01,  2.82396734e-01,\n",
       "        -1.55644938e-01,  2.40118518e-01, -6.59986213e-02,\n",
       "        -1.32507786e-01,  4.10547912e-01,  5.51346056e-02,\n",
       "        -1.17941290e-01,  1.20324790e-01,  1.85988754e-01,\n",
       "        -2.02284917e-01, -1.19714849e-01,  1.17085525e-03,\n",
       "         2.95850754e-01, -2.21678317e-01,  2.43605316e-01,\n",
       "         1.48162916e-01, -7.30807260e-02, -9.48291942e-02,\n",
       "         1.50523275e-01, -3.35381597e-01, -2.08563328e-01,\n",
       "        -8.39697346e-02,  6.62718862e-02, -1.36491254e-01,\n",
       "        -1.60910159e-01, -1.77473292e-01, -3.11522596e-02,\n",
       "        -2.99405456e-01, -2.01612428e-01,  1.01792850e-02,\n",
       "         4.14613001e-02,  1.29103467e-01, -3.00691307e-01,\n",
       "         4.74315919e-02,  2.61606097e-01, -5.65381497e-02,\n",
       "        -1.28901318e-01,  2.90384561e-01,  1.87257543e-01,\n",
       "        -2.32678920e-01,  1.65429607e-01, -2.86119729e-01,\n",
       "         3.19400489e-01, -1.33550137e-01,  2.35251456e-01,\n",
       "        -2.17522442e-01, -1.40544400e-01,  3.72207344e-01,\n",
       "         8.03095922e-02, -1.60527769e-02,  7.24923238e-02,\n",
       "         3.05302322e-01, -3.64445984e-01,  2.59332120e-01,\n",
       "        -1.50304168e-01, -5.79362921e-02, -2.32670844e-01,\n",
       "         4.92790760e-03, -4.05153260e-03, -4.00657989e-02,\n",
       "         2.56982088e-01,  1.46634787e-01, -3.61364484e-01,\n",
       "         1.34048492e-01, -3.23122591e-02,  2.39453673e-01,\n",
       "         4.53261426e-03,  3.26285437e-02,  2.51111031e-01,\n",
       "         1.02778636e-01, -1.71654850e-01,  2.18687579e-01,\n",
       "        -1.53934434e-01, -9.06509906e-02, -1.11335553e-01,\n",
       "        -2.95571648e-02, -2.13804990e-01,  2.40706116e-01,\n",
       "        -2.67323136e-01,  9.14242268e-02, -3.57097656e-01,\n",
       "         3.08470093e-02, -5.64378202e-02,  2.83586204e-01,\n",
       "        -2.29730364e-03, -2.31413409e-01,  3.56082529e-01,\n",
       "         5.67108057e-02, -2.49657243e-01, -9.72764492e-02,\n",
       "         1.70757696e-01,  7.29900524e-02, -1.62665933e-01,\n",
       "        -1.04756989e-01, -1.11403808e-01, -1.32618576e-01,\n",
       "         1.43887654e-01, -1.61593840e-01,  1.79437369e-01,\n",
       "         2.08490059e-01,  2.08017722e-01, -2.69124359e-01,\n",
       "        -1.31129816e-01,  2.86464188e-02,  1.51398361e-01,\n",
       "        -2.26930097e-01, -2.94991732e-01, -6.24536835e-02,\n",
       "         7.67162070e-02, -2.02597857e-01,  6.20885529e-02,\n",
       "        -3.27678293e-01, -2.95533895e-01, -9.06859711e-02,\n",
       "        -9.28518623e-02,  1.50181428e-02, -1.83623180e-01,\n",
       "         1.79702610e-01, -1.06769957e-01, -1.95237860e-01,\n",
       "         1.50461331e-01,  3.28007638e-01,  2.84157604e-01,\n",
       "         3.74051295e-02,  3.69440526e-01, -2.77186811e-01,\n",
       "         2.28965715e-01, -3.39755900e-02, -2.56217241e-01,\n",
       "        -1.00945786e-01, -1.31384954e-01,  7.97073394e-02,\n",
       "         1.34122506e-01,  1.66083142e-01,  3.14773023e-02,\n",
       "         2.05750570e-01,  3.07955116e-01, -1.65619001e-01,\n",
       "        -2.41212338e-01,  1.33987993e-01,  1.96319427e-02,\n",
       "         1.39711127e-01, -3.04887354e-01,  2.69963235e-01,\n",
       "         1.92724675e-01, -1.77808195e-01, -2.12173179e-01,\n",
       "         6.79265484e-02,  1.53164834e-01,  1.04996458e-01,\n",
       "        -7.59306699e-02,  4.24864292e-01, -1.77314989e-02,\n",
       "         1.44074813e-01,  1.70595646e-01, -1.65433343e-02,\n",
       "        -3.06341439e-01,  1.21254310e-01, -8.41928869e-02,\n",
       "         5.14179766e-02, -2.83560287e-02,  2.30156809e-01,\n",
       "         1.57089047e-02,  2.79588401e-01,  1.05904020e-01,\n",
       "         3.18063088e-02, -3.37362319e-01, -2.72385180e-01,\n",
       "        -9.94417444e-02,  5.30609787e-02,  2.78417706e-01,\n",
       "        -3.71434875e-02,  1.42958179e-01,  2.27357775e-01,\n",
       "        -2.51396373e-02, -2.39615530e-01,  1.39385432e-01,\n",
       "        -2.52042890e-01,  7.79446587e-02, -1.64734587e-01,\n",
       "         2.75699615e-01,  3.61342132e-01,  1.75272778e-01,\n",
       "        -1.89138919e-01, -3.50364923e-01, -1.88936368e-01,\n",
       "         1.37907475e-01, -7.10333139e-02, -1.79739341e-01,\n",
       "         1.22365507e-03,  1.06377900e-01, -3.03686947e-01,\n",
       "        -3.02823693e-01,  2.02644572e-01, -2.36815631e-01,\n",
       "         2.26361141e-01,  1.76605731e-01,  4.61162403e-02,\n",
       "         1.27511427e-01, -3.31639022e-01, -3.00712496e-01,\n",
       "        -3.05106252e-01, -2.95922250e-01,  2.23487809e-01,\n",
       "        -1.58058703e-01, -3.14133227e-01,  9.42118615e-02,\n",
       "        -2.18394056e-01, -2.91909426e-01, -9.38085392e-02,\n",
       "         3.14015716e-01, -1.40861958e-01, -8.31832662e-02,\n",
       "         4.45197746e-02,  1.19843982e-01, -1.43994414e-03,\n",
       "         6.35039359e-02, -1.47763208e-01, -2.70024449e-01,\n",
       "        -2.65951365e-01,  5.87789081e-02,  1.23879239e-01,\n",
       "        -5.28832376e-02,  9.26983431e-02,  3.04972470e-01,\n",
       "        -2.87600279e-01, -1.37905538e-01, -6.03360049e-02,\n",
       "         2.99598217e-01, -9.58496928e-02, -2.49237567e-01,\n",
       "        -1.25367390e-02, -1.65542483e-01, -1.16855457e-01,\n",
       "        -2.02638239e-01,  1.55348197e-01, -3.43562633e-01,\n",
       "        -7.05070794e-02, -1.21294113e-03, -2.25674659e-01,\n",
       "        -1.08106278e-01,  8.40673223e-02, -2.51154870e-01,\n",
       "        -9.40879360e-02,  3.12583119e-01, -1.80176988e-01,\n",
       "         2.52674133e-01, -2.43904069e-01, -2.58059591e-01,\n",
       "         2.57354170e-01,  1.42043695e-01,  1.06669620e-01,\n",
       "        -5.59267551e-02, -8.17986131e-02, -1.03853503e-02,\n",
       "        -9.58731398e-02,  3.43598090e-02, -7.58621842e-02,\n",
       "         3.09357643e-02, -7.26748109e-02, -6.44544289e-02,\n",
       "         1.88052550e-01,  4.10374850e-01,  5.37891500e-02,\n",
       "        -1.82821959e-01, -1.10632859e-01, -1.66058198e-01,\n",
       "        -1.34374080e-02, -1.68588012e-01, -1.49328291e-01,\n",
       "        -3.06176931e-01, -2.86071479e-01,  3.16394158e-02]], dtype=float32)>, past_key_values=None, hidden_states=None, attentions=None, cross_attentions=None)"
      ]
     },
     "execution_count": 26,
     "metadata": {},
     "output_type": "execute_result"
    }
   ],
   "source": [
    "output_data"
   ]
  },
  {
   "cell_type": "code",
   "execution_count": 27,
   "metadata": {
    "execution": {
     "iopub.execute_input": "2023-06-08T14:51:56.327408Z",
     "iopub.status.busy": "2023-06-08T14:51:56.326996Z",
     "iopub.status.idle": "2023-06-08T14:51:57.532854Z",
     "shell.execute_reply": "2023-06-08T14:51:57.531656Z",
     "shell.execute_reply.started": "2023-06-08T14:51:56.327368Z"
    },
    "id": "laNnYyo1pJhj",
    "outputId": "8a88369f-8a42-4ebb-da2c-dfc067863395"
   },
   "outputs": [
    {
     "data": {
      "text/plain": [
       "'<s>time elated vice said mr tyson</s><pad><pad><pad><pad><pad><pad><pad><pad><pad><pad><pad><pad><pad><pad><pad><pad><pad><pad><pad><pad><pad><pad><pad><pad><pad><pad><pad><pad><pad>'"
      ]
     },
     "execution_count": 27,
     "metadata": {},
     "output_type": "execute_result"
    }
   ],
   "source": [
    "roberta_tokenizer.decode(encode_data[\"input_ids\"])"
   ]
  },
  {
   "cell_type": "code",
   "execution_count": 28,
   "metadata": {
    "execution": {
     "iopub.execute_input": "2023-06-08T14:51:57.535843Z",
     "iopub.status.busy": "2023-06-08T14:51:57.53455Z",
     "iopub.status.idle": "2023-06-08T14:51:57.541252Z",
     "shell.execute_reply": "2023-06-08T14:51:57.540023Z",
     "shell.execute_reply.started": "2023-06-08T14:51:57.53579Z"
    },
    "id": "uuM-HefYpJl8"
   },
   "outputs": [],
   "source": [
    "final_text_data=train_data[\"clean_tweet_text\"]\n",
    "final_label_data=np.array(label_data)"
   ]
  },
  {
   "cell_type": "code",
   "execution_count": 29,
   "metadata": {},
   "outputs": [],
   "source": [
    "new_final_label_data = np.array([0 if label==\"Negative\" else 1 if label==\"neutral\" else 2 for label in label_data])"
   ]
  },
  {
   "cell_type": "code",
   "execution_count": 30,
   "metadata": {},
   "outputs": [],
   "source": [
    "new_final_label_data = np.array([0 if label==\"Negative\" else 1 for label in label_data])"
   ]
  },
  {
   "cell_type": "code",
   "execution_count": 31,
   "metadata": {
    "scrolled": true
   },
   "outputs": [
    {
     "name": "stdout",
     "output_type": "stream",
     "text": [
      "[1 1 0 1 1 0 0 0 0 1 0 0 0 1 1 0 1 0 0 0 0 1 0 1 1]\n"
     ]
    }
   ],
   "source": [
    "print(new_final_label_data[:25])"
   ]
  },
  {
   "cell_type": "code",
   "execution_count": 32,
   "metadata": {
    "execution": {
     "iopub.execute_input": "2023-06-08T14:51:57.544417Z",
     "iopub.status.busy": "2023-06-08T14:51:57.543425Z",
     "iopub.status.idle": "2023-06-08T14:51:57.553051Z",
     "shell.execute_reply": "2023-06-08T14:51:57.552055Z",
     "shell.execute_reply.started": "2023-06-08T14:51:57.544377Z"
    },
    "id": "DCRWV-gRpJq2"
   },
   "outputs": [],
   "source": [
    "def roberta_encode(final_text_data,max_len):\n",
    "    input_ids=[]\n",
    "    attention_masks=[]\n",
    "    \n",
    "    for i in range(len(final_text_data)):\n",
    "        encode_data=roberta_tokenizer.encode_plus(final_text_data[i],add_special_tokens=True,max_length=max_len,pad_to_max_length=True,return_attention_mask=True)\n",
    "        input_ids.append(encode_data['input_ids'])\n",
    "        attention_masks.append(encode_data[\"attention_mask\"])\n",
    "    return np.array(input_ids),np.array(attention_masks)\n",
    "        "
   ]
  },
  {
   "cell_type": "code",
   "execution_count": 33,
   "metadata": {
    "execution": {
     "iopub.execute_input": "2023-06-08T14:51:57.555447Z",
     "iopub.status.busy": "2023-06-08T14:51:57.555Z",
     "iopub.status.idle": "2023-06-08T14:52:11.360111Z",
     "shell.execute_reply": "2023-06-08T14:52:11.358978Z",
     "shell.execute_reply.started": "2023-06-08T14:51:57.555398Z"
    },
    "id": "CZ5nCIlapJur",
    "outputId": "d26e651a-717c-49ab-cb95-64ca55801455"
   },
   "outputs": [
    {
     "name": "stderr",
     "output_type": "stream",
     "text": [
      "Truncation was not explicitly activated but `max_length` is provided a specific value, please use `truncation=True` to explicitly truncate examples to max length. Defaulting to 'longest_first' truncation strategy. If you encode pairs of sequences (GLUE-style) with the tokenizer you can select this strategy more precisely by providing a specific strategy to `truncation`.\n"
     ]
    }
   ],
   "source": [
    "text_input_ids,text_attention_masks = roberta_encode(final_text_data,max_len)"
   ]
  },
  {
   "cell_type": "code",
   "execution_count": 34,
   "metadata": {
    "execution": {
     "iopub.execute_input": "2023-06-08T14:52:11.362244Z",
     "iopub.status.busy": "2023-06-08T14:52:11.361866Z",
     "iopub.status.idle": "2023-06-08T14:52:11.372515Z",
     "shell.execute_reply": "2023-06-08T14:52:11.3713Z",
     "shell.execute_reply.started": "2023-06-08T14:52:11.362204Z"
    },
    "id": "ovMvAGgApJyB",
    "outputId": "361426d8-a9b9-466e-890d-eee27269530e"
   },
   "outputs": [
    {
     "name": "stdout",
     "output_type": "stream",
     "text": [
      "Text Input Ids Shape (30730, 128) \n",
      "Text Input Attention Mask Shape (30730, 128) \n",
      "Label Data shape (30730,)\n"
     ]
    }
   ],
   "source": [
    "print('Text Input Ids Shape {} \\nText Input Attention Mask Shape {} \\nLabel Data shape {}'.format(text_input_ids.shape,text_attention_masks.shape,new_final_label_data.shape))"
   ]
  },
  {
   "cell_type": "code",
   "execution_count": 35,
   "metadata": {
    "execution": {
     "iopub.execute_input": "2023-06-08T14:52:11.375539Z",
     "iopub.status.busy": "2023-06-08T14:52:11.37423Z",
     "iopub.status.idle": "2023-06-08T14:52:11.404837Z",
     "shell.execute_reply": "2023-06-08T14:52:11.403658Z",
     "shell.execute_reply.started": "2023-06-08T14:52:11.375496Z"
    },
    "id": "UKIjDuMspJ1g"
   },
   "outputs": [],
   "source": [
    "X_train_input,X_test_input,Y_train_label,Y_test_label,train_mask,test_mask=train_test_split(text_input_ids,new_final_label_data,text_attention_masks,test_size=0.2,random_state=42,shuffle=True)"
   ]
  },
  {
   "cell_type": "code",
   "execution_count": 36,
   "metadata": {
    "execution": {
     "iopub.execute_input": "2023-06-08T14:52:11.409319Z",
     "iopub.status.busy": "2023-06-08T14:52:11.408985Z",
     "iopub.status.idle": "2023-06-08T14:52:11.415926Z",
     "shell.execute_reply": "2023-06-08T14:52:11.414494Z",
     "shell.execute_reply.started": "2023-06-08T14:52:11.409289Z"
    },
    "id": "zqOK0UrPpJ7B",
    "outputId": "44cd5443-64ba-4ac7-9748-7c27f973c82b"
   },
   "outputs": [
    {
     "name": "stdout",
     "output_type": "stream",
     "text": [
      "Train input shape (24584, 128)\n",
      "Test input shape (6146, 128)\n",
      "Train label shape (24584,)\n",
      "Test label shape (6146,)\n",
      "Train attention mask shape (24584, 128)\n",
      "Test attention mask shape (6146, 128)\n"
     ]
    }
   ],
   "source": [
    "print('Train input shape {}\\nTest input shape {}\\nTrain label shape {}\\nTest label shape {}\\nTrain attention mask shape {}\\nTest attention mask shape {}'.format(X_train_input.shape,X_test_input.shape,Y_train_label.shape,Y_test_label.shape,train_mask.shape,test_mask.shape))"
   ]
  },
  {
   "cell_type": "code",
   "execution_count": 37,
   "metadata": {},
   "outputs": [
    {
     "name": "stdout",
     "output_type": "stream",
     "text": [
      "[0 0 0 ... 1 0 1]\n"
     ]
    }
   ],
   "source": [
    "print(Y_train_label)"
   ]
  },
  {
   "cell_type": "markdown",
   "metadata": {
    "id": "SyrrDENuy_4R"
   },
   "source": [
    "# Create Roberta Model"
   ]
  },
  {
   "cell_type": "code",
   "execution_count": null,
   "metadata": {},
   "outputs": [],
   "source": [
    "from tensorflow.keras.layers import LeakyReLU\n"
   ]
  },
  {
   "cell_type": "code",
   "execution_count": null,
   "metadata": {
    "execution": {
     "iopub.execute_input": "2023-06-08T14:52:11.418977Z",
     "iopub.status.busy": "2023-06-08T14:52:11.418666Z",
     "iopub.status.idle": "2023-06-08T14:52:11.431356Z",
     "shell.execute_reply": "2023-06-08T14:52:11.430291Z",
     "shell.execute_reply.started": "2023-06-08T14:52:11.418949Z"
    },
    "id": "5xKFWC6ATJPn"
   },
   "outputs": [],
   "source": [
    "def Create_Roberta_Model():\n",
    "    input_ids=tf.keras.Input(shape=(max_len,),dtype=\"int32\")\n",
    "    attention_masks=tf.keras.Input(shape=(max_len,),dtype=\"int32\")\n",
    "    \n",
    "    roberta_model = TFRobertaModel.from_pretrained(\"roberta-base\")\n",
    "    output_dim = roberta_model(input_ids=input_ids, attention_mask=attention_masks)[0][:,0,:]\n",
    "    \n",
    "    dense_layer = tf.keras.layers.Dense(128, activation=\"relu\")(output_dim)\n",
    "    dropout = tf.keras.layers.Dropout(0.5)(dense_layer)\n",
    "    final_layer = tf.keras.layers.Dense(2, activation='softmax')(dropout)\n",
    "\n",
    "    model = tf.keras.models.Model(inputs=[input_ids, attention_masks], outputs=final_layer)\n",
    "    \n",
    "    return model\n"
   ]
  },
  {
   "cell_type": "code",
   "execution_count": null,
   "metadata": {
    "execution": {
     "iopub.execute_input": "2023-06-08T14:52:11.433791Z",
     "iopub.status.busy": "2023-06-08T14:52:11.43273Z",
     "iopub.status.idle": "2023-06-08T14:52:19.99564Z",
     "shell.execute_reply": "2023-06-08T14:52:19.994556Z",
     "shell.execute_reply.started": "2023-06-08T14:52:11.433742Z"
    },
    "id": "HfWpP1nRpKIx",
    "outputId": "2a6f624b-49aa-46f0-c8be-163afbd65fae",
    "scrolled": false
   },
   "outputs": [],
   "source": [
    "model=Create_Roberta_Model()\n",
    "\n",
    "loss = tf.keras.losses.SparseCategoricalCrossentropy(from_logits=False)\n",
    "\n",
    "optimizer = tf.keras.optimizers.Adam(lr=1e-5)\n",
    "\n",
    "model.compile(loss=loss,optimizer=optimizer, metrics=[\"accuracy\"])"
   ]
  },
  {
   "cell_type": "code",
   "execution_count": null,
   "metadata": {
    "scrolled": true
   },
   "outputs": [],
   "source": [
    "with tf.GradientTape() as tape:\n",
    "    predictions = model([X_train_input[:1], train_mask[:1]], training=True)\n",
    "    loss = tf.keras.losses.sparse_categorical_crossentropy(Y_train_label[:1], predictions)\n",
    "grads = tape.gradient(loss, model.trainable_weights)\n",
    "for grad, weight in zip(grads, model.trainable_weights):\n",
    "    if grad is not None:\n",
    "        print(f\"Gradient for {weight.name} is okay\")\n",
    "    else:\n",
    "        print(f\"No gradient for {weight.name}\")"
   ]
  },
  {
   "cell_type": "code",
   "execution_count": null,
   "metadata": {
    "execution": {
     "iopub.execute_input": "2023-06-08T14:52:19.997402Z",
     "iopub.status.busy": "2023-06-08T14:52:19.997001Z",
     "iopub.status.idle": "2023-06-08T15:59:47.67389Z",
     "shell.execute_reply": "2023-06-08T15:59:47.672901Z",
     "shell.execute_reply.started": "2023-06-08T14:52:19.997363Z"
    },
    "id": "d1LGBF0tpKMM",
    "outputId": "0e669998-9ddb-43f2-be5b-b550d79e73ea"
   },
   "outputs": [],
   "source": [
    "history=model.fit([X_train_input,train_mask],Y_train_label,batch_size=16,epochs=10,validation_data=([X_test_input,test_mask],Y_test_label))"
   ]
  },
  {
   "cell_type": "code",
   "execution_count": null,
   "metadata": {
    "execution": {
     "iopub.execute_input": "2023-06-08T15:59:47.67614Z",
     "iopub.status.busy": "2023-06-08T15:59:47.675766Z",
     "iopub.status.idle": "2023-06-08T15:59:47.689016Z",
     "shell.execute_reply": "2023-06-08T15:59:47.687651Z",
     "shell.execute_reply.started": "2023-06-08T15:59:47.676104Z"
    }
   },
   "outputs": [],
   "source": [
    "def model_loss_and_accuracy(history):\n",
    "    \n",
    "    fig=plt.figure(figsize=(15,15))\n",
    "    plt.subplot(221)\n",
    "    plt.plot(history.history[\"accuracy\"],marker=\"o\",linestyle=\":\",markersize=10,color=\"m\",label=\"accuracy\")\n",
    "    plt.plot(history.history[\"val_accuracy\"],marker=\"D\",linestyle=\":\",markersize=10,color=\"b\",label=\"val_accuracy\")\n",
    "    plt.title(\"Model Accuracy\\n\",fontsize=20,color=\"darkorange\")\n",
    "    plt.xlabel(\"Number of Epochs\",color=\"midnightblue\",fontsize=15)\n",
    "    plt.ylabel(\"Accuracy\",color=\"midnightblue\",fontsize=15)\n",
    "    plt.grid(color = 'green', linestyle = '--', linewidth = 1)\n",
    "    plt.legend(loc=\"best\")\n",
    "    plt.tight_layout()\n",
    "    \n",
    "  \n",
    "    plt.subplot(222)\n",
    "    plt.plot(history.history[\"accuracy\"],marker=\"v\",linestyle=\"-.\",markersize=10,color=\"g\",label=\"accuracy\")\n",
    "    plt.plot(history.history[\"val_accuracy\"],marker=\"s\",linestyle=\"--\",markersize=10,color=\"r\",label=\"val_accuracy\")\n",
    "    plt.title(\"Model Loss\\n\",fontsize=20,color=\"limegreen\")\n",
    "    plt.xlabel(\"Number of Epochs\",color=\"midnightblue\",fontsize=15)\n",
    "    plt.ylabel(\"Loss\",color=\"midnightblue\",fontsize=15)\n",
    "    plt.grid(color = 'green', linestyle = '--', linewidth = 1)\n",
    "    plt.legend(loc=\"best\")\n",
    "    plt.tight_layout()\n",
    "    plt.show()"
   ]
  },
  {
   "cell_type": "code",
   "execution_count": null,
   "metadata": {
    "execution": {
     "iopub.execute_input": "2023-06-08T15:59:47.691061Z",
     "iopub.status.busy": "2023-06-08T15:59:47.690566Z",
     "iopub.status.idle": "2023-06-08T15:59:48.133763Z",
     "shell.execute_reply": "2023-06-08T15:59:48.132792Z",
     "shell.execute_reply.started": "2023-06-08T15:59:47.691002Z"
    }
   },
   "outputs": [],
   "source": [
    "model_loss_and_accuracy(history)"
   ]
  },
  {
   "cell_type": "markdown",
   "metadata": {},
   "source": [
    "# F1 Score"
   ]
  },
  {
   "cell_type": "code",
   "execution_count": null,
   "metadata": {
    "execution": {
     "iopub.execute_input": "2023-06-08T15:59:48.137362Z",
     "iopub.status.busy": "2023-06-08T15:59:48.137061Z",
     "iopub.status.idle": "2023-06-08T16:06:07.982369Z",
     "shell.execute_reply": "2023-06-08T16:06:07.981408Z",
     "shell.execute_reply.started": "2023-06-08T15:59:48.137334Z"
    }
   },
   "outputs": [],
   "source": [
    "def plot_f1_score(history):\n",
    "    f1_scores = []\n",
    "    for epoch in range(len(history.history['val_loss'])):\n",
    "        model.set_weights(history.model.get_weights())\n",
    "        predictions = model.predict([X_test_input, test_mask])\n",
    "        predictions = [round(p[0]) for p in predictions]\n",
    "    \n",
    "        f1_scores.append(f1_score(Y_test_label, predictions, average='weighted'))\n",
    "    plt.figure(figsize=(10,10))\n",
    "    plt.plot(range(len(history.history['val_loss'])), f1_scores, label='F1 score',marker=\"*\",color=\"g\",linestyle=\"--\",linewidth=4,markersize=8,markerfacecolor=\"r\")\n",
    "    plt.title(\"F1 Score\\n\",color=\"black\",fontsize=20)\n",
    "    plt.xlabel('Epochs',fontsize=15,color=\"black\")\n",
    "    plt.ylabel('F1 score',fontsize=15,color=\"black\")\n",
    "    plt.legend()\n",
    "    plt.show()\n",
    "\n",
    "\n",
    "plot_f1_score(history)\n"
   ]
  },
  {
   "cell_type": "markdown",
   "metadata": {},
   "source": [
    "# Label Names"
   ]
  },
  {
   "cell_type": "code",
   "execution_count": null,
   "metadata": {
    "execution": {
     "iopub.execute_input": "2023-06-08T16:06:07.98453Z",
     "iopub.status.busy": "2023-06-08T16:06:07.984058Z",
     "iopub.status.idle": "2023-06-08T16:06:07.989632Z",
     "shell.execute_reply": "2023-06-08T16:06:07.988677Z",
     "shell.execute_reply.started": "2023-06-08T16:06:07.984492Z"
    }
   },
   "outputs": [],
   "source": [
    "label_name=[\"Positive\",\"Racist and Sexist\"]"
   ]
  },
  {
   "cell_type": "code",
   "execution_count": null,
   "metadata": {
    "execution": {
     "iopub.execute_input": "2023-06-08T16:06:07.991738Z",
     "iopub.status.busy": "2023-06-08T16:06:07.990886Z",
     "iopub.status.idle": "2023-06-08T16:06:40.6963Z",
     "shell.execute_reply": "2023-06-08T16:06:40.695204Z",
     "shell.execute_reply.started": "2023-06-08T16:06:07.991699Z"
    }
   },
   "outputs": [],
   "source": [
    "pred=model.predict([X_test_input, test_mask])\n",
    "prediction=np.argmax(pred, axis=1)"
   ]
  },
  {
   "cell_type": "markdown",
   "metadata": {},
   "source": [
    "# Accuracy Score"
   ]
  },
  {
   "cell_type": "code",
   "execution_count": null,
   "metadata": {
    "execution": {
     "iopub.execute_input": "2023-06-08T16:06:40.69845Z",
     "iopub.status.busy": "2023-06-08T16:06:40.698062Z",
     "iopub.status.idle": "2023-06-08T16:06:40.705539Z",
     "shell.execute_reply": "2023-06-08T16:06:40.704422Z",
     "shell.execute_reply.started": "2023-06-08T16:06:40.698412Z"
    }
   },
   "outputs": [],
   "source": [
    "print(\"Accuracy Score is\",accuracy_score(Y_test_label,prediction))"
   ]
  },
  {
   "cell_type": "markdown",
   "metadata": {},
   "source": [
    "# ROC AUC Score"
   ]
  },
  {
   "cell_type": "code",
   "execution_count": null,
   "metadata": {
    "execution": {
     "iopub.execute_input": "2023-06-08T16:06:40.708016Z",
     "iopub.status.busy": "2023-06-08T16:06:40.707308Z",
     "iopub.status.idle": "2023-06-08T16:06:40.71916Z",
     "shell.execute_reply": "2023-06-08T16:06:40.717897Z",
     "shell.execute_reply.started": "2023-06-08T16:06:40.707979Z"
    }
   },
   "outputs": [],
   "source": [
    "print(\"ROC AUC Score is {}\".format(roc_auc_score(Y_test_label, pred[:,1])))"
   ]
  },
  {
   "cell_type": "markdown",
   "metadata": {},
   "source": [
    "# Average Precision Score"
   ]
  },
  {
   "cell_type": "code",
   "execution_count": null,
   "metadata": {
    "execution": {
     "iopub.execute_input": "2023-06-08T16:06:40.721181Z",
     "iopub.status.busy": "2023-06-08T16:06:40.720829Z",
     "iopub.status.idle": "2023-06-08T16:07:21.721875Z",
     "shell.execute_reply": "2023-06-08T16:07:21.72057Z",
     "shell.execute_reply.started": "2023-06-08T16:06:40.721146Z"
    }
   },
   "outputs": [],
   "source": [
    "# Get the predicted probabilities for the positive class\n",
    "pred_probs = model.predict([X_test_input, test_mask])[:,1]\n",
    "\n",
    "# Binarize the test labels\n",
    "Y_test_binarized = (Y_test_label == 1).astype(int)\n",
    "\n",
    "# Calculate the average precision score\n",
    "average_precision = average_precision_score(Y_test_binarized, pred_probs)\n",
    "\n",
    "print(\"Average Precision Score :\", average_precision)\n"
   ]
  },
  {
   "cell_type": "markdown",
   "metadata": {},
   "source": [
    "# receiver operating characteristic curve"
   ]
  },
  {
   "cell_type": "code",
   "execution_count": null,
   "metadata": {
    "execution": {
     "iopub.execute_input": "2023-06-08T16:07:21.724045Z",
     "iopub.status.busy": "2023-06-08T16:07:21.723355Z",
     "iopub.status.idle": "2023-06-08T16:07:21.963414Z",
     "shell.execute_reply": "2023-06-08T16:07:21.96249Z",
     "shell.execute_reply.started": "2023-06-08T16:07:21.724004Z"
    }
   },
   "outputs": [],
   "source": [
    "pred_positive = pred[:,1]\n",
    "fpr, tpr, thresholds = roc_curve(Y_test_label, pred_positive)\n",
    "roc_auc = auc(fpr, tpr)\n",
    "plt.figure(figsize=(10,10))\n",
    "plt.plot(fpr, tpr, label='ROC curve (area = %0.2f)' % roc_auc,color=\"g\",linestyle=\"--\",marker=\"o\",markersize=3,markerfacecolor=\"k\")\n",
    "\n",
    "plt.plot([0, 1], [0, 1],linestyle=\"--\",linewidth=3,color=\"m\")  # random predictions curve\n",
    "plt.xlim([0.0, 1.0])\n",
    "plt.ylim([0.0, 1.0])\n",
    "plt.xlabel('False Positive Rate or (1 - Specifity)')\n",
    "plt.ylabel('True Positive Rate')\n",
    "plt.title('Receiver Operating Characteristic')\n",
    "plt.legend(loc=\"lower right\")\n",
    "plt.show()\n",
    "\n"
   ]
  },
  {
   "cell_type": "code",
   "execution_count": null,
   "metadata": {
    "execution": {
     "iopub.execute_input": "2023-06-08T16:07:21.965648Z",
     "iopub.status.busy": "2023-06-08T16:07:21.965284Z",
     "iopub.status.idle": "2023-06-08T16:07:22.190504Z",
     "shell.execute_reply": "2023-06-08T16:07:22.189534Z",
     "shell.execute_reply.started": "2023-06-08T16:07:21.965596Z"
    }
   },
   "outputs": [],
   "source": [
    "# Calculate precision, recall and thresholds\n",
    "precision, recall, thresholds = precision_recall_curve(Y_test_label,pred[:,1])\n",
    "\n",
    "# Plot the PR curve\n",
    "plt.figure(figsize=(10,10))\n",
    "plt.step(recall, precision, color='b', alpha=0.2, where='post')\n",
    "plt.fill_between(recall, precision, step='post', alpha=0.2, color=\"darkmagenta\")\n",
    "plt.xlabel('Recall')\n",
    "plt.ylabel('Precision')\n",
    "plt.ylim([0.0, 1.05])\n",
    "plt.xlim([0.0, 1.0])\n",
    "plt.title('Precision-Recall Curve\\n',fontsize=20,color=\"black\")\n",
    "plt.xlabel(\"Recall\",fontsize=15,color=\"violet\")\n",
    "plt.ylabel(\"Precision\",fontsize=15,color=\"darkgreen\")\n",
    "plt.show()\n"
   ]
  },
  {
   "cell_type": "code",
   "execution_count": null,
   "metadata": {
    "execution": {
     "iopub.execute_input": "2023-06-08T16:07:22.192334Z",
     "iopub.status.busy": "2023-06-08T16:07:22.191956Z",
     "iopub.status.idle": "2023-06-08T16:07:22.436538Z",
     "shell.execute_reply": "2023-06-08T16:07:22.435572Z",
     "shell.execute_reply.started": "2023-06-08T16:07:22.192294Z"
    }
   },
   "outputs": [],
   "source": [
    "# Encode the labels\n",
    "label_encoder=LabelEncoder()\n",
    "label_encoder.fit(Y_test_label)\n",
    "test_label_data=label_encoder.transform(Y_test_label)\n",
    "classes=label_encoder.classes_\n",
    "colors = [\"navy\", \"darkorange\"]\n",
    "plt.figure(figsize=(10,10))\n",
    "\n",
    "# Compute the ROC curve and AUC for each class\n",
    "fpr = {}\n",
    "tpr = {}\n",
    "roc_auc = dict()\n",
    "for i, class_ in enumerate(classes):\n",
    "    # Binarize the label data\n",
    "    label_binarized = (test_label_data == i).astype(int)\n",
    "    fpr[i], tpr[i], _ = roc_curve(label_binarized, pred[:, i])\n",
    "    roc_auc[i] = auc(fpr[i], tpr[i])\n",
    "\n",
    "    # Plot the ROC curve for each class\n",
    "    plt.plot(fpr[i], tpr[i], label='%s ROC Curve Class  (AUC=%0.2f)' % (class_, roc_auc[i]), marker=\">\", color=colors[i])\n",
    "\n",
    "plt.plot([0,1],[0,1], marker=\"H\", color=\"k\", linestyle=\"--\", linewidth=4)\n",
    "plt.xlim([0,1])\n",
    "plt.ylim([0,1.05])\n",
    "plt.title('Compute The ROC Curve And AUC For Each Class', color=\"black\", fontsize=15)\n",
    "plt.xlabel('False Positive Rate')\n",
    "plt.ylabel('True Positive rate')\n",
    "plt.legend(loc='lower right')\n",
    "plt.show()\n"
   ]
  },
  {
   "cell_type": "markdown",
   "metadata": {},
   "source": [
    "# Compute The Precision Curve And Area Under Curve For Each Class"
   ]
  },
  {
   "cell_type": "code",
   "execution_count": null,
   "metadata": {
    "execution": {
     "iopub.execute_input": "2023-06-08T16:07:22.438448Z",
     "iopub.status.busy": "2023-06-08T16:07:22.438086Z",
     "iopub.status.idle": "2023-06-08T16:07:22.686638Z",
     "shell.execute_reply": "2023-06-08T16:07:22.68554Z",
     "shell.execute_reply.started": "2023-06-08T16:07:22.438413Z"
    }
   },
   "outputs": [],
   "source": [
    "# Encode the labels\n",
    "label_encoder=LabelEncoder()\n",
    "label_encoder.fit(Y_test_label)\n",
    "test_label_data=label_encoder.transform(Y_test_label)\n",
    "classes=label_encoder.classes_\n",
    "colors = [\"darkred\", \"purple\"]\n",
    "plt.figure(figsize=(10,10))\n",
    "\n",
    "# Compute the PR curve and AUC for each class\n",
    "precision = {}\n",
    "recall = {}\n",
    "pr_auc = dict()\n",
    "for i, class_ in enumerate(classes):\n",
    "    # Binarize the label data\n",
    "    label_binarized = (test_label_data == i).astype(int)\n",
    "    precision[i], recall[i], _ = precision_recall_curve(label_binarized, pred[:, i])\n",
    "    pr_auc[i] = auc(recall[i], precision[i])\n",
    "\n",
    "    # Plot the PR curve for each class\n",
    "    plt.plot(recall[i], precision[i], label='%s Precision Curve Class  (AUC=%0.2f)' % (class_, pr_auc[i]),color=colors[i],marker=\"D\",markersize=2,linestyle=\"-.\")\n",
    "\n",
    "plt.xlim([0,1])\n",
    "plt.ylim([0,1.05])\n",
    "plt.title('Compute The Precision Curve And Area Under Curve For Each Class\\n',color=\"darkblue\",fontsize=20)\n",
    "plt.xlabel('Recall')\n",
    "plt.ylabel('Precision')\n",
    "plt.legend(loc='lower right')\n",
    "plt.show()"
   ]
  },
  {
   "cell_type": "code",
   "execution_count": null,
   "metadata": {
    "execution": {
     "iopub.execute_input": "2023-06-08T16:07:22.688556Z",
     "iopub.status.busy": "2023-06-08T16:07:22.688166Z",
     "iopub.status.idle": "2023-06-08T16:07:22.953503Z",
     "shell.execute_reply": "2023-06-08T16:07:22.952547Z",
     "shell.execute_reply.started": "2023-06-08T16:07:22.688518Z"
    },
    "id": "m144rJyXpKjT"
   },
   "outputs": [],
   "source": [
    "plt.figure(figsize=(10,10))\n",
    "\n",
    "cf_matrix=confusion_matrix(Y_test_label,prediction)\n",
    "label_counts = [\"{0:0.0f}\".format(value) for value in cf_matrix.flatten()]\n",
    "label_percentages = [\"{0:.2%}\".format(value) for value in cf_matrix.flatten()/np.sum(cf_matrix)]\n",
    "label_names = [\"True Positive\",\"False Positive\",\"False Negative\",\"True Negative\"]\n",
    "labels = [f\"{v1}\\n{v2}\\n{v3}\" for v1, v2, v3 in zip(label_names,label_counts,label_percentages)]\n",
    "labels = np.asarray(labels).reshape(2,2)\n",
    "sns.heatmap(cf_matrix, annot=labels, fmt=\"\", cmap='gist_ncar',xticklabels=label_name,yticklabels=label_name)\n",
    "plt.title(\"Confusion Matrix\\n\",color=\"gold\",fontsize=20)\n",
    "plt.ylabel(\"True Label\\n\",fontsize=15,color=\"yellow\")\n",
    "plt.xlabel(\"\\nPredicted Label\",fontsize=15,color=\"yellow\")\n",
    "plt.show()"
   ]
  },
  {
   "cell_type": "code",
   "execution_count": null,
   "metadata": {
    "execution": {
     "iopub.execute_input": "2023-06-08T16:07:22.955774Z",
     "iopub.status.busy": "2023-06-08T16:07:22.954836Z",
     "iopub.status.idle": "2023-06-08T16:07:22.974923Z",
     "shell.execute_reply": "2023-06-08T16:07:22.973933Z",
     "shell.execute_reply.started": "2023-06-08T16:07:22.955728Z"
    }
   },
   "outputs": [],
   "source": [
    "print(classification_report(Y_test_label,prediction,target_names=label_name))"
   ]
  },
  {
   "cell_type": "markdown",
   "metadata": {},
   "source": [
    "# Custom Data Prediction\n",
    "> * 0==Positive\n",
    "> * 1==Racist And Sexist"
   ]
  },
  {
   "cell_type": "code",
   "execution_count": null,
   "metadata": {
    "execution": {
     "iopub.execute_input": "2023-06-08T16:07:22.978291Z",
     "iopub.status.busy": "2023-06-08T16:07:22.977363Z",
     "iopub.status.idle": "2023-06-08T16:07:23.057107Z",
     "shell.execute_reply": "2023-06-08T16:07:23.056156Z",
     "shell.execute_reply.started": "2023-06-08T16:07:22.978252Z"
    }
   },
   "outputs": [],
   "source": [
    "x=\"hank you very much for sharing your experience with us.We are really happy that your interaction with our brand was so positive.I just want to let you know that we are acting upon your feedback to make some vital changes to the way we operate [list of changes].As you can see, the opinions of our clients help us to provide better experiences and grow as a company.Regards,\"\n",
    "pred_input=roberta_tokenizer.encode_plus(x,add_special_tokens = True,max_length =128,pad_to_max_length = True,truncation=True)\n",
    "test_input_id=np.array(pred_input['input_ids'])\n",
    "test_input_mask=np.array(pred_input['attention_mask'])\n",
    "# Get the predicted probabilities\n",
    "text_predict = model.predict([test_input_id.reshape(1,-1), test_input_mask.reshape(1,-1)])\n",
    "\n",
    "# Get the class with the highest probability\n",
    "predicted_class = np.argmax(text_predict, axis=-1)[0]\n",
    "\n",
    "# Check if the input is toxic (1) or positive (0)\n",
    "if predicted_class == 1:\n",
    "    print(\"The input text is toxic.\")\n",
    "else:\n",
    "    print(\"The input text is positive.\")\n"
   ]
  },
  {
   "cell_type": "code",
   "execution_count": null,
   "metadata": {},
   "outputs": [],
   "source": []
  }
 ],
 "metadata": {
  "kaggle": {
   "accelerator": "none",
   "dataSources": [
    {
     "datasetId": 100982,
     "sourceId": 239192,
     "sourceType": "datasetVersion"
    },
    {
     "datasetId": 2428302,
     "sourceId": 5383266,
     "sourceType": "datasetVersion"
    }
   ],
   "dockerImageVersionId": 30301,
   "isGpuEnabled": false,
   "isInternetEnabled": false,
   "language": "python",
   "sourceType": "notebook"
  },
  "kernelspec": {
   "display_name": "Python 3 (ipykernel)",
   "language": "python",
   "name": "python3"
  },
  "language_info": {
   "codemirror_mode": {
    "name": "ipython",
    "version": 3
   },
   "file_extension": ".py",
   "mimetype": "text/x-python",
   "name": "python",
   "nbconvert_exporter": "python",
   "pygments_lexer": "ipython3",
   "version": "3.10.14"
  }
 },
 "nbformat": 4,
 "nbformat_minor": 4
}
