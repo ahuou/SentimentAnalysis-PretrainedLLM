{
 "cells": [
  {
   "cell_type": "code",
   "execution_count": 1,
   "metadata": {
    "id": "RTbL6P0DPT-l",
    "jupyter": {
     "is_executing": true
    },
    "outputId": "ff792b6c-5e67-4439-a160-ff5b2e6f5051"
   },
   "outputs": [
    {
     "name": "stderr",
     "output_type": "stream",
     "text": [
      "[nltk_data] Downloading package omw-1.4 to\n",
      "[nltk_data]     C:\\Users\\alexh\\AppData\\Roaming\\nltk_data...\n",
      "[nltk_data]   Package omw-1.4 is already up-to-date!\n",
      "[nltk_data] Downloading package stopwords to\n",
      "[nltk_data]     C:\\Users\\alexh\\AppData\\Roaming\\nltk_data...\n",
      "[nltk_data]   Package stopwords is already up-to-date!\n",
      "[nltk_data] Downloading package wordnet to\n",
      "[nltk_data]     C:\\Users\\alexh\\AppData\\Roaming\\nltk_data...\n",
      "[nltk_data]   Package wordnet is already up-to-date!\n",
      "[nltk_data] Downloading package brown to\n",
      "[nltk_data]     C:\\Users\\alexh\\AppData\\Roaming\\nltk_data...\n",
      "[nltk_data]   Package brown is already up-to-date!\n"
     ]
    }
   ],
   "source": [
    "import numpy as np\n",
    "import pandas as pd \n",
    "import nltk\n",
    "import matplotlib.pyplot as plt\n",
    "from wordcloud import WordCloud,STOPWORDS\n",
    "from PIL import Image\n",
    "from sklearn.utils import resample\n",
    "import seaborn as sns\n",
    "from sklearn.feature_extraction.text import CountVectorizer\n",
    "import re\n",
    "from nltk.corpus import stopwords\n",
    "from nltk.stem import WordNetLemmatizer\n",
    "from nltk.probability import FreqDist\n",
    "from transformers import RobertaTokenizer\n",
    "from transformers import TFRobertaModel\n",
    "from sklearn.model_selection import train_test_split\n",
    "from tensorflow.keras.layers import Dense,Dropout\n",
    "from tensorflow.keras.layers import Flatten\n",
    "from sklearn.metrics import precision_recall_curve\n",
    "\n",
    "import tensorflow as tf\n",
    "from sklearn.metrics import roc_auc_score, roc_curve,auc\n",
    "from keras import regularizers\n",
    "from sklearn import preprocessing\n",
    "from sklearn.metrics import confusion_matrix,f1_score,classification_report\n",
    "from mlxtend.plotting import plot_confusion_matrix\n",
    "from sklearn.metrics import accuracy_score\n",
    "from sklearn.preprocessing import OneHotEncoder\n",
    "from sklearn.preprocessing import LabelEncoder\n",
    "from sklearn.preprocessing import label_binarize\n",
    "from sklearn.metrics import average_precision_score\n",
    "from itertools import cycle\n",
    "\n",
    "lemma = WordNetLemmatizer()\n",
    "stopword = set(STOPWORDS)\n",
    "nltk.download('omw-1.4')\n",
    "%matplotlib inline\n",
    "import nltk\n",
    "nltk.download('stopwords')\n",
    "import nltk\n",
    "nltk.download('wordnet')\n",
    "\n",
    "\n",
    "from nltk.corpus import brown\n",
    "nltk.download(\"brown\")\n",
    "import warnings\n",
    "warnings.filterwarnings(\"ignore\")\n"
   ]
  },
  {
   "cell_type": "markdown",
   "metadata": {
    "id": "4WMfDUifPu9s"
   },
   "source": [
    "# Import Train Data"
   ]
  },
  {
   "cell_type": "markdown",
   "metadata": {},
   "source": [
    "# Data preprocessing"
   ]
  },
  {
   "cell_type": "code",
   "execution_count": 2,
   "metadata": {},
   "outputs": [
    {
     "name": "stdout",
     "output_type": "stream",
     "text": [
      "C:\\\n",
      "C:\\Users\\alexh\\PycharmProjects\\proj_bach\n"
     ]
    }
   ],
   "source": [
    "%cd ../../../../..\n",
    "%cd C:/Users/alexh/PycharmProjects/proj_bach"
   ]
  },
  {
   "cell_type": "code",
   "execution_count": 3,
   "metadata": {
    "jupyter": {
     "is_executing": true
    }
   },
   "outputs": [
    {
     "name": "stdout",
     "output_type": "stream",
     "text": [
      "File simple_emotions.txt already exists. Not overwriting.\n",
      "File simple_sentiments.txt already exists. Not overwriting.\n",
      "File clean_tweet_emotions.txt already exists. Not overwriting.\n",
      "File clean_tweet_sentiments.txt already exists. Not overwriting.\n",
      "                                                Text Sentiment\n",
      "0  During the period of falling in love, each tim...  Positive\n",
      "1         When I was involved in a traffic accident.  Negative\n",
      "2  When I was driving home after  several days of...  Negative\n",
      "3   When I lost the person who meant the most to me.  Negative\n",
      "4  The time I knocked a deer down - the sight of ...  Negative\n",
      "Index(['Text', 'Sentiment'], dtype='object')\n",
      "                                                   Text Sentiment\n",
      "0     During the period of falling in love, each tim...  Positive\n",
      "1            When I was involved in a traffic accident.  Negative\n",
      "2     When I was driving home after  several days of...  Negative\n",
      "3      When I lost the person who meant the most to me.  Negative\n",
      "4     The time I knocked a deer down - the sight of ...  Negative\n",
      "...                                                 ...       ...\n",
      "7475  Two years back someone invited me to be the tu...  Negative\n",
      "7476  I had taken the responsibility to do something...  Negative\n",
      "7477  I was at home and I heard a loud sound of spit...  Negative\n",
      "7478  I did not do the homework that the teacher had...  Negative\n",
      "7479  I had shouted at my younger brother and he was...  Negative\n",
      "\n",
      "[7480 rows x 2 columns]\n"
     ]
    }
   ],
   "source": [
    "from data_retriever import data1, data2"
   ]
  },
  {
   "cell_type": "code",
   "execution_count": 4,
   "metadata": {
    "ExecuteTime": {
     "end_time": "2024-06-12T11:45:44.981963Z",
     "start_time": "2024-06-12T11:45:44.965963Z"
    }
   },
   "outputs": [],
   "source": [
    "def clean_text(tweet):\n",
    "    tweets = \" \".join(filter(lambda x: x[0]!= '@' , tweet.split()))\n",
    "    tweets = re.sub('[^a-zA-Z]', ' ', tweets)\n",
    "    tweets = tweets.lower()\n",
    "    tweets = tweets.split()\n",
    "    tweets = [word for word in tweets if not word in set(stopwords.words('english'))]\n",
    "    tweets = [lemma.lemmatize(word) for word in tweets]\n",
    "    tweets = \" \".join(tweets)\n",
    "    return tweets"
   ]
  },
  {
   "cell_type": "code",
   "execution_count": 5,
   "metadata": {
    "ExecuteTime": {
     "end_time": "2024-06-12T11:45:45.771184Z",
     "start_time": "2024-06-12T11:45:45.757670Z"
    }
   },
   "outputs": [],
   "source": [
    "train_data = data2.astype(str).copy()"
   ]
  },
  {
   "cell_type": "code",
   "execution_count": 6,
   "metadata": {
    "ExecuteTime": {
     "end_time": "2024-06-12T11:46:07.269536Z",
     "start_time": "2024-06-12T11:45:46.126947Z"
    },
    "execution": {
     "iopub.execute_input": "2023-06-08T14:50:12.943209Z",
     "iopub.status.busy": "2023-06-08T14:50:12.942562Z",
     "iopub.status.idle": "2023-06-08T14:51:15.385674Z",
     "shell.execute_reply": "2023-06-08T14:51:15.384598Z",
     "shell.execute_reply.started": "2023-06-08T14:50:12.943167Z"
    },
    "id": "EksOwZ3fPZCE"
   },
   "outputs": [],
   "source": [
    "train_data['clean_tweet_text'] = train_data.Text.apply(clean_text)"
   ]
  },
  {
   "cell_type": "code",
   "execution_count": 7,
   "metadata": {
    "ExecuteTime": {
     "end_time": "2024-06-12T11:46:07.285044Z",
     "start_time": "2024-06-12T11:46:07.270529Z"
    },
    "execution": {
     "iopub.execute_input": "2023-06-08T14:51:15.387861Z",
     "iopub.status.busy": "2023-06-08T14:51:15.387433Z",
     "iopub.status.idle": "2023-06-08T14:51:15.39881Z",
     "shell.execute_reply": "2023-06-08T14:51:15.397586Z",
     "shell.execute_reply.started": "2023-06-08T14:51:15.387821Z"
    },
    "id": "lFIZ299MPZGG",
    "outputId": "f66a7c7a-e86d-4925-f071-17590f293b5d"
   },
   "outputs": [
    {
     "name": "stdout",
     "output_type": "stream",
     "text": [
      "                                                Text Sentiment  \\\n",
      "0                                                nan   neutral   \n",
      "1                     Sage Act upgrade list tommorow  Positive   \n",
      "2  WAY HOMEGIRL BABY FUNERAL MAN HATE FUNERALS SH...  Negative   \n",
      "3  eye  true hazel eyeand brilliant  Regular feat...  Positive   \n",
      "4    ugh babe hugggzzz u  babe naamazed nga ako e...  Positive   \n",
      "\n",
      "                                    clean_tweet_text  \n",
      "0                                                nan  \n",
      "1                     sage act upgrade list tommorow  \n",
      "2  way homegirl baby funeral man hate funeral sho...  \n",
      "3  eye true hazel eyeand brilliant regular featur...  \n",
      "4  ugh babe hugggzzz u babe naamazed nga ako e ba...  \n"
     ]
    }
   ],
   "source": [
    "print(train_data.head())"
   ]
  },
  {
   "cell_type": "code",
   "execution_count": 8,
   "metadata": {
    "ExecuteTime": {
     "end_time": "2024-06-12T11:49:19.122427Z",
     "start_time": "2024-06-12T11:49:19.114427Z"
    },
    "execution": {
     "iopub.execute_input": "2023-06-08T14:51:20.566097Z",
     "iopub.status.busy": "2023-06-08T14:51:20.56572Z",
     "iopub.status.idle": "2023-06-08T14:51:20.574943Z",
     "shell.execute_reply": "2023-06-08T14:51:20.573839Z",
     "shell.execute_reply.started": "2023-06-08T14:51:20.566057Z"
    },
    "id": "FgRRUAEqaOeb"
   },
   "outputs": [],
   "source": [
    "train_data=train_data.drop([\"Text\"],axis=1)"
   ]
  },
  {
   "cell_type": "code",
   "execution_count": 9,
   "metadata": {
    "ExecuteTime": {
     "end_time": "2024-06-12T11:49:21.515839Z",
     "start_time": "2024-06-12T11:49:21.509840Z"
    },
    "execution": {
     "iopub.execute_input": "2023-06-08T14:51:20.577147Z",
     "iopub.status.busy": "2023-06-08T14:51:20.576837Z",
     "iopub.status.idle": "2023-06-08T14:51:20.590134Z",
     "shell.execute_reply": "2023-06-08T14:51:20.588981Z",
     "shell.execute_reply.started": "2023-06-08T14:51:20.577119Z"
    },
    "id": "gLDi1WypaOnG",
    "outputId": "022cbe18-5c8e-44aa-cef6-574105f4f31f"
   },
   "outputs": [
    {
     "data": {
      "text/html": [
       "<div>\n",
       "<style scoped>\n",
       "    .dataframe tbody tr th:only-of-type {\n",
       "        vertical-align: middle;\n",
       "    }\n",
       "\n",
       "    .dataframe tbody tr th {\n",
       "        vertical-align: top;\n",
       "    }\n",
       "\n",
       "    .dataframe thead th {\n",
       "        text-align: right;\n",
       "    }\n",
       "</style>\n",
       "<table border=\"1\" class=\"dataframe\">\n",
       "  <thead>\n",
       "    <tr style=\"text-align: right;\">\n",
       "      <th></th>\n",
       "      <th>Sentiment</th>\n",
       "      <th>clean_tweet_text</th>\n",
       "    </tr>\n",
       "  </thead>\n",
       "  <tbody>\n",
       "    <tr>\n",
       "      <th>0</th>\n",
       "      <td>neutral</td>\n",
       "      <td>nan</td>\n",
       "    </tr>\n",
       "    <tr>\n",
       "      <th>1</th>\n",
       "      <td>Positive</td>\n",
       "      <td>sage act upgrade list tommorow</td>\n",
       "    </tr>\n",
       "    <tr>\n",
       "      <th>2</th>\n",
       "      <td>Negative</td>\n",
       "      <td>way homegirl baby funeral man hate funeral sho...</td>\n",
       "    </tr>\n",
       "    <tr>\n",
       "      <th>3</th>\n",
       "      <td>Positive</td>\n",
       "      <td>eye true hazel eyeand brilliant regular featur...</td>\n",
       "    </tr>\n",
       "    <tr>\n",
       "      <th>4</th>\n",
       "      <td>Positive</td>\n",
       "      <td>ugh babe hugggzzz u babe naamazed nga ako e ba...</td>\n",
       "    </tr>\n",
       "  </tbody>\n",
       "</table>\n",
       "</div>"
      ],
      "text/plain": [
       "  Sentiment                                   clean_tweet_text\n",
       "0   neutral                                                nan\n",
       "1  Positive                     sage act upgrade list tommorow\n",
       "2  Negative  way homegirl baby funeral man hate funeral sho...\n",
       "3  Positive  eye true hazel eyeand brilliant regular featur...\n",
       "4  Positive  ugh babe hugggzzz u babe naamazed nga ako e ba..."
      ]
     },
     "execution_count": 9,
     "metadata": {},
     "output_type": "execute_result"
    }
   ],
   "source": [
    "train_data.head()"
   ]
  },
  {
   "cell_type": "code",
   "execution_count": 10,
   "metadata": {
    "ExecuteTime": {
     "end_time": "2024-06-12T11:49:23.721480Z",
     "start_time": "2024-06-12T11:49:23.716477Z"
    },
    "execution": {
     "iopub.execute_input": "2023-06-08T14:51:20.592181Z",
     "iopub.status.busy": "2023-06-08T14:51:20.591798Z",
     "iopub.status.idle": "2023-06-08T14:51:20.598076Z",
     "shell.execute_reply": "2023-06-08T14:51:20.596846Z",
     "shell.execute_reply.started": "2023-06-08T14:51:20.592142Z"
    },
    "id": "iIfp49hcbyhB"
   },
   "outputs": [],
   "source": [
    "max_len=128\n",
    "text_data=train_data[\"clean_tweet_text\"]\n",
    "label_data=train_data[\"Sentiment\"]"
   ]
  },
  {
   "cell_type": "markdown",
   "metadata": {
    "id": "qdaPVMYbbbbO"
   },
   "source": [
    "# roberta_tokenizer"
   ]
  },
  {
   "cell_type": "code",
   "execution_count": 11,
   "metadata": {
    "ExecuteTime": {
     "end_time": "2024-06-12T11:49:25.726813Z",
     "start_time": "2024-06-12T11:49:25.465488Z"
    },
    "execution": {
     "iopub.execute_input": "2023-06-08T14:51:20.610689Z",
     "iopub.status.busy": "2023-06-08T14:51:20.610246Z",
     "iopub.status.idle": "2023-06-08T14:51:25.541375Z",
     "shell.execute_reply": "2023-06-08T14:51:25.540311Z",
     "shell.execute_reply.started": "2023-06-08T14:51:20.610653Z"
    },
    "id": "RqTbI32waOtk"
   },
   "outputs": [],
   "source": [
    "roberta_tokenizer = RobertaTokenizer.from_pretrained(\"roberta-base\")"
   ]
  },
  {
   "cell_type": "markdown",
   "metadata": {
    "id": "5n7J2DqbbjBT"
   },
   "source": [
    "# roberta_model"
   ]
  },
  {
   "cell_type": "code",
   "execution_count": 12,
   "metadata": {
    "ExecuteTime": {
     "end_time": "2024-06-12T11:49:29.614309Z",
     "start_time": "2024-06-12T11:49:29.600301Z"
    }
   },
   "outputs": [
    {
     "name": "stdout",
     "output_type": "stream",
     "text": [
      "tf.Tensor(175.23688, shape=(), dtype=float32)\n"
     ]
    }
   ],
   "source": [
    "import tensorflow as tf\n",
    "print(tf.reduce_sum(tf.random.normal([1000, 1000])))"
   ]
  },
  {
   "cell_type": "code",
   "execution_count": 13,
   "metadata": {
    "ExecuteTime": {
     "end_time": "2024-06-12T11:57:09.376759Z",
     "start_time": "2024-06-12T11:56:24.432392Z"
    },
    "execution": {
     "iopub.execute_input": "2023-06-08T14:51:25.543545Z",
     "iopub.status.busy": "2023-06-08T14:51:25.54285Z",
     "iopub.status.idle": "2023-06-08T14:51:54.528313Z",
     "shell.execute_reply": "2023-06-08T14:51:54.527226Z",
     "shell.execute_reply.started": "2023-06-08T14:51:25.543503Z"
    },
    "id": "D4AugOATaO0f",
    "outputId": "5ff24a49-842f-408e-9695-da1838840e9f"
   },
   "outputs": [
    {
     "name": "stderr",
     "output_type": "stream",
     "text": [
      "Some weights of the PyTorch model were not used when initializing the TF 2.0 model TFRobertaModel: ['lm_head.bias', 'lm_head.layer_norm.weight', 'lm_head.layer_norm.bias', 'lm_head.dense.bias', 'roberta.embeddings.position_ids', 'lm_head.dense.weight']\n",
      "- This IS expected if you are initializing TFRobertaModel from a PyTorch model trained on another task or with another architecture (e.g. initializing a TFBertForSequenceClassification model from a BertForPreTraining model).\n",
      "- This IS NOT expected if you are initializing TFRobertaModel from a PyTorch model that you expect to be exactly identical (e.g. initializing a TFBertForSequenceClassification model from a BertForSequenceClassification model).\n",
      "Some weights or buffers of the TF 2.0 model TFRobertaModel were not initialized from the PyTorch model and are newly initialized: ['roberta.pooler.dense.weight', 'roberta.pooler.dense.bias']\n",
      "You should probably TRAIN this model on a down-stream task to be able to use it for predictions and inference.\n"
     ]
    }
   ],
   "source": [
    "roberta_model = TFRobertaModel.from_pretrained(\"roberta-base\")"
   ]
  },
  {
   "cell_type": "markdown",
   "metadata": {
    "id": "Gg_dnb_7nMXe"
   },
   "source": [
    "# Sample Text"
   ]
  },
  {
   "cell_type": "code",
   "execution_count": 14,
   "metadata": {
    "ExecuteTime": {
     "end_time": "2024-06-12T11:57:30.682821Z",
     "start_time": "2024-06-12T11:57:30.669815Z"
    },
    "execution": {
     "iopub.execute_input": "2023-06-08T14:51:54.530782Z",
     "iopub.status.busy": "2023-06-08T14:51:54.529806Z",
     "iopub.status.idle": "2023-06-08T14:51:54.56176Z",
     "shell.execute_reply": "2023-06-08T14:51:54.56067Z",
     "shell.execute_reply.started": "2023-06-08T14:51:54.530737Z"
    },
    "id": "PR-jLsKJaPCy",
    "outputId": "58d8325a-dfa0-420c-b289-2b323223b58c"
   },
   "outputs": [
    {
     "data": {
      "text/plain": [
       "'time elated vice said mr tyson'"
      ]
     },
     "execution_count": 14,
     "metadata": {},
     "output_type": "execute_result"
    }
   ],
   "source": [
    "text_data[1300]"
   ]
  },
  {
   "cell_type": "code",
   "execution_count": 15,
   "metadata": {
    "ExecuteTime": {
     "end_time": "2024-06-12T11:57:31.424552Z",
     "start_time": "2024-06-12T11:57:31.413032Z"
    },
    "execution": {
     "iopub.execute_input": "2023-06-08T14:51:54.563939Z",
     "iopub.status.busy": "2023-06-08T14:51:54.563496Z",
     "iopub.status.idle": "2023-06-08T14:51:56.152577Z",
     "shell.execute_reply": "2023-06-08T14:51:56.151382Z",
     "shell.execute_reply.started": "2023-06-08T14:51:54.563899Z"
    },
    "id": "FGGUFczEaPMb",
    "outputId": "718d54a0-6963-4b6b-acd4-19e24fd9e841"
   },
   "outputs": [],
   "source": [
    "encode_data=roberta_tokenizer.encode_plus(text_data[1300],add_special_tokens = True,max_length =40,pad_to_max_length = True,truncation=True)"
   ]
  },
  {
   "cell_type": "code",
   "execution_count": 16,
   "metadata": {
    "ExecuteTime": {
     "end_time": "2024-06-12T11:57:32.150622Z",
     "start_time": "2024-06-12T11:57:32.137597Z"
    },
    "execution": {
     "iopub.execute_input": "2023-06-08T14:51:56.154582Z",
     "iopub.status.busy": "2023-06-08T14:51:56.154195Z",
     "iopub.status.idle": "2023-06-08T14:51:56.165647Z",
     "shell.execute_reply": "2023-06-08T14:51:56.164357Z",
     "shell.execute_reply.started": "2023-06-08T14:51:56.154551Z"
    },
    "id": "c1BKS6huPZf_",
    "outputId": "11aec23f-8385-4ab6-b250-1c6f64590815"
   },
   "outputs": [
    {
     "data": {
      "text/plain": [
       "{'input_ids': [0, 958, 1615, 1070, 2626, 26, 475, 338, 326, 20216, 2, 1, 1, 1, 1, 1, 1, 1, 1, 1, 1, 1, 1, 1, 1, 1, 1, 1, 1, 1, 1, 1, 1, 1, 1, 1, 1, 1, 1, 1], 'attention_mask': [1, 1, 1, 1, 1, 1, 1, 1, 1, 1, 1, 0, 0, 0, 0, 0, 0, 0, 0, 0, 0, 0, 0, 0, 0, 0, 0, 0, 0, 0, 0, 0, 0, 0, 0, 0, 0, 0, 0, 0]}"
      ]
     },
     "execution_count": 16,
     "metadata": {},
     "output_type": "execute_result"
    }
   ],
   "source": [
    "encode_data"
   ]
  },
  {
   "cell_type": "code",
   "execution_count": 17,
   "metadata": {
    "ExecuteTime": {
     "end_time": "2024-06-12T12:10:20.758319Z",
     "start_time": "2024-06-12T12:10:20.705148Z"
    },
    "execution": {
     "iopub.execute_input": "2023-06-08T14:51:56.168314Z",
     "iopub.status.busy": "2023-06-08T14:51:56.167868Z",
     "iopub.status.idle": "2023-06-08T14:51:56.299654Z",
     "shell.execute_reply": "2023-06-08T14:51:56.298658Z",
     "shell.execute_reply.started": "2023-06-08T14:51:56.168272Z"
    },
    "id": "e9Oul71epI0R",
    "outputId": "1f630b50-9a89-41a5-f532-1ab78cca25fd",
    "scrolled": true
   },
   "outputs": [],
   "source": [
    "test_input_id=np.asarray(encode_data['input_ids'])\n",
    "test_attention_mask=np.asarray(encode_data['attention_mask'])\n"
   ]
  },
  {
   "cell_type": "code",
   "execution_count": 18,
   "metadata": {},
   "outputs": [
    {
     "name": "stdout",
     "output_type": "stream",
     "text": [
      "(40,)\n",
      "(40,)\n",
      "(1, 40)\n"
     ]
    }
   ],
   "source": [
    "print(test_input_id.shape)\n",
    "print(test_attention_mask.shape)\n",
    "\n",
    "print(test_attention_mask.reshape(1,-1).shape)"
   ]
  },
  {
   "cell_type": "code",
   "execution_count": 19,
   "metadata": {
    "scrolled": true
   },
   "outputs": [
    {
     "name": "stdout",
     "output_type": "stream",
     "text": [
      "Requirement already satisfied: transformers in c:\\users\\alexh\\miniconda3\\lib\\site-packages (4.41.2)\n",
      "Requirement already satisfied: filelock in c:\\users\\alexh\\miniconda3\\lib\\site-packages (from transformers) (3.14.0)\n",
      "Requirement already satisfied: huggingface-hub<1.0,>=0.23.0 in c:\\users\\alexh\\miniconda3\\lib\\site-packages (from transformers) (0.23.3)\n",
      "Requirement already satisfied: numpy>=1.17 in c:\\users\\alexh\\miniconda3\\lib\\site-packages (from transformers) (1.26.4)\n",
      "Requirement already satisfied: packaging>=20.0 in c:\\users\\alexh\\miniconda3\\lib\\site-packages (from transformers) (23.2)\n",
      "Requirement already satisfied: pyyaml>=5.1 in c:\\users\\alexh\\miniconda3\\lib\\site-packages (from transformers) (6.0.1)\n",
      "Requirement already satisfied: regex!=2019.12.17 in c:\\users\\alexh\\miniconda3\\lib\\site-packages (from transformers) (2024.5.15)\n",
      "Requirement already satisfied: requests in c:\\users\\alexh\\miniconda3\\lib\\site-packages (from transformers) (2.31.0)\n",
      "Requirement already satisfied: tokenizers<0.20,>=0.19 in c:\\users\\alexh\\miniconda3\\lib\\site-packages (from transformers) (0.19.1)\n",
      "Requirement already satisfied: safetensors>=0.4.1 in c:\\users\\alexh\\miniconda3\\lib\\site-packages (from transformers) (0.4.3)\n",
      "Requirement already satisfied: tqdm>=4.27 in c:\\users\\alexh\\miniconda3\\lib\\site-packages (from transformers) (4.65.0)\n",
      "Requirement already satisfied: fsspec>=2023.5.0 in c:\\users\\alexh\\miniconda3\\lib\\site-packages (from huggingface-hub<1.0,>=0.23.0->transformers) (2024.6.0)\n",
      "Requirement already satisfied: typing-extensions>=3.7.4.3 in c:\\users\\alexh\\miniconda3\\lib\\site-packages (from huggingface-hub<1.0,>=0.23.0->transformers) (4.11.0)\n",
      "Requirement already satisfied: colorama in c:\\users\\alexh\\miniconda3\\lib\\site-packages (from tqdm>=4.27->transformers) (0.4.6)\n",
      "Requirement already satisfied: charset-normalizer<4,>=2 in c:\\users\\alexh\\miniconda3\\lib\\site-packages (from requests->transformers) (2.0.4)\n",
      "Requirement already satisfied: idna<4,>=2.5 in c:\\users\\alexh\\miniconda3\\lib\\site-packages (from requests->transformers) (3.4)\n",
      "Requirement already satisfied: urllib3<3,>=1.21.1 in c:\\users\\alexh\\miniconda3\\lib\\site-packages (from requests->transformers) (2.1.0)\n",
      "Requirement already satisfied: certifi>=2017.4.17 in c:\\users\\alexh\\miniconda3\\lib\\site-packages (from requests->transformers) (2024.6.2)\n",
      "Note: you may need to restart the kernel to use updated packages.\n"
     ]
    }
   ],
   "source": [
    "pip install transformers"
   ]
  },
  {
   "cell_type": "code",
   "execution_count": 20,
   "metadata": {},
   "outputs": [],
   "source": [
    "import transformers"
   ]
  },
  {
   "cell_type": "code",
   "execution_count": 21,
   "metadata": {},
   "outputs": [
    {
     "name": "stdout",
     "output_type": "stream",
     "text": [
      "True\n"
     ]
    }
   ],
   "source": [
    "print(isinstance(roberta_model, transformers.TFRobertaModel))  # Should return True\n"
   ]
  },
  {
   "cell_type": "code",
   "execution_count": 22,
   "metadata": {},
   "outputs": [
    {
     "data": {
      "text/plain": [
       "transformers.modeling_tf_outputs.TFBaseModelOutputWithPoolingAndCrossAttentions"
      ]
     },
     "execution_count": 22,
     "metadata": {},
     "output_type": "execute_result"
    }
   ],
   "source": [
    "output_data=roberta_model([test_input_id.reshape(1,-1),test_attention_mask.reshape(1,-1)])\n",
    "\n",
    "type(output_data)"
   ]
  },
  {
   "cell_type": "code",
   "execution_count": 23,
   "metadata": {
    "execution": {
     "iopub.execute_input": "2023-06-08T14:51:56.301902Z",
     "iopub.status.busy": "2023-06-08T14:51:56.301455Z",
     "iopub.status.idle": "2023-06-08T14:51:56.325282Z",
     "shell.execute_reply": "2023-06-08T14:51:56.324114Z",
     "shell.execute_reply.started": "2023-06-08T14:51:56.301857Z"
    },
    "id": "brkCVXRYpJdE",
    "outputId": "2017c028-dc99-45d5-8129-b1b4f3f057a2"
   },
   "outputs": [
    {
     "data": {
      "text/plain": [
       "TFBaseModelOutputWithPoolingAndCrossAttentions(last_hidden_state=<tf.Tensor: shape=(1, 40, 768), dtype=float32, numpy=\n",
       "array([[[-0.06151576,  0.06928044, -0.02511747, ..., -0.11403868,\n",
       "         -0.06508613, -0.01430185],\n",
       "        [-0.22992018,  0.00537658, -0.2360584 , ..., -0.31573626,\n",
       "         -0.1950437 ,  0.00210309],\n",
       "        [ 0.07679282,  0.1645904 ,  0.03715213, ...,  0.05029377,\n",
       "          0.02517287,  0.10758667],\n",
       "        ...,\n",
       "        [ 0.04703602, -0.03357879, -0.10649902, ..., -0.4143144 ,\n",
       "         -0.0469461 ,  0.00187367],\n",
       "        [ 0.04703602, -0.03357879, -0.10649902, ..., -0.4143144 ,\n",
       "         -0.0469461 ,  0.00187367],\n",
       "        [ 0.04703602, -0.03357879, -0.10649902, ..., -0.4143144 ,\n",
       "         -0.0469461 ,  0.00187367]]], dtype=float32)>, pooler_output=<tf.Tensor: shape=(1, 768), dtype=float32, numpy=\n",
       "array([[-2.32428089e-01, -2.63249099e-01, -3.30721587e-01,\n",
       "         1.72159150e-01,  2.75675982e-01,  2.71319002e-01,\n",
       "        -9.15694758e-02,  2.52768546e-01, -2.15371791e-02,\n",
       "         2.53167480e-01, -2.45626420e-01,  1.94377705e-01,\n",
       "        -2.28782997e-01, -1.13042340e-01, -2.00711027e-01,\n",
       "        -1.50962815e-01,  7.39840195e-02, -3.12859267e-01,\n",
       "         1.32380322e-01,  2.63525814e-01,  7.11458251e-02,\n",
       "        -1.65235829e-02, -1.23067476e-01, -1.02748714e-01,\n",
       "        -4.92173918e-02, -1.69964314e-01, -6.27647191e-02,\n",
       "        -1.30992040e-01, -9.33676958e-02,  2.28007600e-01,\n",
       "         9.84689817e-02,  2.75703380e-03, -4.20103148e-02,\n",
       "        -5.34763653e-03, -1.51907831e-01, -2.04455659e-01,\n",
       "         2.11334601e-01,  1.71793729e-01, -1.90117314e-01,\n",
       "        -2.71641225e-01, -5.48235998e-02,  1.14325941e-01,\n",
       "         2.54884273e-01,  2.85991162e-01, -3.17985937e-02,\n",
       "        -1.49537567e-02,  3.36662456e-02, -2.51049548e-01,\n",
       "        -2.83685829e-02, -2.20091507e-01,  9.33399424e-02,\n",
       "         2.15330347e-01,  2.10327774e-01,  1.78287223e-01,\n",
       "         2.42787629e-01,  8.16061571e-02, -7.90332630e-02,\n",
       "         2.02896267e-01,  4.24985647e-01, -3.10376853e-01,\n",
       "         1.62992701e-01, -2.62041599e-01, -2.79641122e-01,\n",
       "         1.59327075e-01, -1.61097590e-02, -4.83728163e-02,\n",
       "        -2.87863314e-01, -1.70348108e-01,  2.36906968e-02,\n",
       "        -1.28448591e-01, -2.44166002e-01, -2.10640654e-01,\n",
       "        -2.92617902e-02, -1.44567832e-01, -6.57710880e-02,\n",
       "         3.69532883e-01,  2.87288368e-01, -4.70479690e-02,\n",
       "        -4.62845378e-02,  2.87145376e-01,  3.72681543e-02,\n",
       "        -8.96280184e-02,  3.07773147e-02,  2.15834036e-01,\n",
       "        -4.40103747e-02,  3.23173404e-01,  7.39791170e-02,\n",
       "         4.13960814e-02, -1.84132859e-01,  1.93135917e-01,\n",
       "         2.17433602e-01,  6.58511743e-02,  8.01197588e-02,\n",
       "         1.72582507e-01, -3.04995512e-04, -2.78508086e-02,\n",
       "         9.89690609e-03, -2.74846852e-01, -1.52084872e-01,\n",
       "        -1.64973229e-01, -3.34979266e-01, -1.50464490e-01,\n",
       "        -1.73515469e-01,  1.23919070e-01,  1.15527466e-01,\n",
       "         9.77333188e-02, -1.12877540e-01,  4.45166856e-01,\n",
       "        -6.55289441e-02, -1.22121572e-01, -1.67304471e-01,\n",
       "        -3.38170797e-01,  1.45488963e-01, -1.88982666e-01,\n",
       "         3.17933410e-01,  7.73728266e-02,  1.04795881e-01,\n",
       "        -3.34899612e-02,  3.14975798e-01, -2.40493834e-01,\n",
       "         1.13194861e-01, -3.28220457e-01, -2.34614864e-01,\n",
       "         2.19318666e-04, -1.23663150e-01,  5.37483171e-02,\n",
       "         3.21070880e-01,  1.22778006e-01,  2.35628393e-02,\n",
       "         3.72759640e-01,  1.23734608e-01,  4.19172674e-01,\n",
       "         1.06022265e-02,  1.58845648e-01,  1.33987576e-01,\n",
       "        -1.34211585e-01, -3.34079564e-01, -1.26086876e-01,\n",
       "         4.98414673e-02,  7.72723481e-02, -6.55522496e-02,\n",
       "        -1.26693361e-02, -1.49316162e-01,  3.83416587e-03,\n",
       "        -2.89082259e-01, -2.89161026e-01, -3.82003486e-02,\n",
       "         3.16618264e-01,  1.31066263e-01,  7.74232373e-02,\n",
       "         7.85355344e-02,  1.06802694e-01, -2.68078800e-02,\n",
       "        -4.87626046e-02, -3.38994771e-01,  2.27497280e-01,\n",
       "         5.80538400e-02, -2.82366693e-01,  3.51306826e-01,\n",
       "        -3.19613032e-02, -2.97210902e-01,  1.73730969e-01,\n",
       "        -4.39097499e-03, -9.39575136e-02,  2.16022030e-01,\n",
       "         1.29679874e-01, -1.78078488e-01,  1.93723753e-01,\n",
       "         2.09591314e-01, -3.43662888e-01,  2.31546596e-01,\n",
       "        -1.32511064e-01, -5.43583967e-02, -1.40192032e-01,\n",
       "        -3.97672541e-02,  2.48408586e-01, -4.57494482e-02,\n",
       "        -1.22577049e-01,  1.16877578e-01,  1.36830643e-01,\n",
       "        -2.05938146e-01, -1.37812621e-03,  1.98825702e-01,\n",
       "        -1.27304882e-01,  1.59466580e-01, -2.02454645e-02,\n",
       "         3.03918868e-01,  2.88586318e-01, -3.23528647e-01,\n",
       "         2.38244161e-01,  2.52677023e-01, -1.33956641e-01,\n",
       "        -3.90822202e-01,  1.72968626e-01,  4.66856919e-02,\n",
       "         1.59513112e-02,  2.17670187e-01,  7.00152889e-02,\n",
       "        -1.09633029e-01, -1.56374961e-01,  1.81688935e-01,\n",
       "        -8.46649986e-03,  2.16818765e-01,  2.37530559e-01,\n",
       "         1.33571565e-01, -6.73124641e-02,  1.46660641e-01,\n",
       "        -3.39103653e-03, -9.28215962e-03,  3.11969668e-01,\n",
       "         7.30862394e-02,  3.23441118e-01, -1.59922078e-01,\n",
       "        -6.51887059e-02, -1.90915495e-01, -3.14160883e-01,\n",
       "         2.50281960e-01,  1.25094473e-01,  3.54311466e-01,\n",
       "        -1.68559358e-01, -6.75484538e-02,  3.70827556e-01,\n",
       "        -1.35277539e-01,  3.25928479e-01, -3.63724798e-01,\n",
       "         2.82456666e-01, -7.70244142e-03, -1.43248379e-01,\n",
       "        -2.09482685e-01,  1.56246513e-01, -1.90995291e-01,\n",
       "         1.88593581e-01, -1.30517006e-01,  6.29861578e-02,\n",
       "         3.39477450e-01, -2.34445184e-01,  2.06870481e-01,\n",
       "         1.82331994e-01, -3.90485376e-01,  2.76693046e-01,\n",
       "        -8.36787894e-02, -6.48929849e-02,  3.14223580e-03,\n",
       "         3.10490936e-01,  3.66997309e-02,  2.57045403e-02,\n",
       "         3.13691586e-01, -1.18735634e-01, -3.98216955e-02,\n",
       "        -2.33069867e-01,  4.06374782e-02, -3.37541401e-01,\n",
       "        -6.62256628e-02, -3.78637090e-02,  7.53629878e-02,\n",
       "        -3.36609781e-01, -1.10244110e-01,  1.68994650e-01,\n",
       "         2.07802281e-01,  2.52144653e-02, -2.05414638e-01,\n",
       "         1.25606105e-01, -1.94339484e-01,  4.99627367e-02,\n",
       "        -3.82429272e-01, -1.48048222e-01,  1.03026040e-01,\n",
       "        -1.97123244e-01,  1.53936341e-01,  2.28779942e-01,\n",
       "         1.92841068e-01,  1.60686135e-01, -1.41080961e-01,\n",
       "         4.76797894e-02,  4.33638155e-01,  2.93894202e-01,\n",
       "         3.11393216e-02,  2.21633330e-01,  1.94130763e-01,\n",
       "        -1.69432506e-01,  2.47857161e-02, -1.54937044e-01,\n",
       "        -6.95795789e-02, -3.81069988e-01,  2.23144248e-01,\n",
       "        -7.93936476e-02,  4.39388342e-02,  9.22196805e-02,\n",
       "        -2.75682122e-01, -3.36426944e-01, -2.75677890e-01,\n",
       "         3.01933587e-01,  3.52921188e-01,  1.27733231e-01,\n",
       "        -1.14530310e-01,  1.91161409e-02,  1.35272682e-01,\n",
       "         3.93573672e-01, -1.52783513e-01, -1.39806762e-01,\n",
       "        -2.20514033e-02,  6.05270639e-02,  2.29213163e-01,\n",
       "         2.39718566e-03, -3.19249153e-01,  6.24195002e-02,\n",
       "        -9.50130001e-02,  2.00309809e-02,  3.56989115e-01,\n",
       "         8.82716849e-02,  1.60212412e-01,  6.92556649e-02,\n",
       "         1.39653176e-01,  2.91350335e-01,  3.19648176e-01,\n",
       "        -1.74176708e-01, -3.11962843e-01,  5.68776056e-02,\n",
       "         7.13719428e-02, -8.29688087e-02, -9.32988971e-02,\n",
       "        -2.19648391e-01, -9.95448008e-02,  1.02683075e-01,\n",
       "        -7.33008236e-02, -2.04545557e-01, -2.54394501e-01,\n",
       "         1.32997409e-01,  5.81503771e-02,  2.95870453e-01,\n",
       "        -1.53098419e-01,  1.96044892e-01,  1.25165194e-01,\n",
       "         2.96850652e-02,  1.69797376e-01,  1.61637157e-01,\n",
       "        -3.60063434e-01,  3.26268733e-01,  3.62146139e-01,\n",
       "         1.69415250e-01, -1.89534783e-01,  3.09782654e-01,\n",
       "        -7.77757093e-02, -9.21484232e-02,  2.41899535e-01,\n",
       "        -7.87991881e-02, -1.73008546e-01, -3.25603545e-01,\n",
       "         1.14749499e-01, -1.49391294e-01, -2.94416308e-01,\n",
       "         2.01073050e-01, -3.39437574e-01, -4.20443475e-01,\n",
       "         1.83250144e-01,  2.76031107e-01,  1.69522360e-01,\n",
       "         2.88272709e-01, -5.04342616e-02,  1.66155100e-02,\n",
       "         1.21841811e-01,  8.77355114e-02,  1.07880309e-01,\n",
       "         1.04658548e-02,  3.23756039e-02,  2.02984393e-01,\n",
       "         2.05460325e-01,  1.38822407e-01, -1.76255807e-01,\n",
       "        -1.04656518e-01,  2.25545704e-01,  1.51793107e-01,\n",
       "        -1.04518168e-01,  4.41185236e-02,  2.68942624e-01,\n",
       "        -2.50554532e-01, -2.25607708e-01, -2.03908101e-01,\n",
       "         4.92050536e-02,  2.24213168e-01,  1.30990162e-01,\n",
       "         1.46895647e-01,  3.83478496e-03, -2.82897890e-01,\n",
       "         1.23248279e-01, -1.89060137e-01, -9.02546346e-02,\n",
       "        -9.32571515e-02,  3.10767796e-02,  1.07154146e-01,\n",
       "        -3.82939339e-01, -3.39286655e-01, -7.00703263e-02,\n",
       "         4.38308418e-02,  4.15995158e-02, -4.59856503e-02,\n",
       "        -3.67810071e-01, -1.03137881e-01, -1.79772615e-01,\n",
       "        -1.52343810e-01,  1.98409677e-01, -6.64699683e-03,\n",
       "        -1.61053330e-01, -3.67394835e-01, -1.68957859e-01,\n",
       "        -8.37613344e-02,  2.16119900e-01,  7.69389719e-02,\n",
       "        -1.36895880e-01,  1.15339719e-01, -3.41202766e-01,\n",
       "         2.96156574e-02, -2.18845993e-01,  2.72835761e-01,\n",
       "         2.05734894e-01, -6.94468915e-02, -2.90200800e-01,\n",
       "         2.19404787e-01, -7.35565424e-02, -9.17331353e-02,\n",
       "         2.20132545e-01,  1.05946980e-01,  1.84334591e-01,\n",
       "         2.30638444e-01, -5.58244810e-03,  8.93441290e-02,\n",
       "         2.09728837e-01,  9.00509730e-02,  3.03051859e-01,\n",
       "        -1.82533979e-01,  3.95198762e-02, -1.56775802e-01,\n",
       "         2.27997899e-01, -7.64473006e-02, -3.95341292e-02,\n",
       "         1.73721448e-01,  2.70197272e-01, -8.25238749e-02,\n",
       "         3.84633690e-01, -1.66694466e-02, -1.76651701e-01,\n",
       "         3.24561805e-01, -1.54383153e-01, -3.44019204e-01,\n",
       "         1.13142401e-01, -3.89690369e-01,  2.84715205e-01,\n",
       "        -8.10817257e-02, -1.15689069e-01, -2.08941862e-01,\n",
       "         1.98989268e-03, -1.95332810e-01,  3.47690970e-01,\n",
       "        -5.28130159e-02, -1.37883469e-01, -1.26545638e-01,\n",
       "        -9.56880823e-02,  1.25842482e-01,  5.82557656e-02,\n",
       "         1.92742962e-02, -1.02900453e-01,  2.10797250e-01,\n",
       "        -2.69738674e-01, -1.87377274e-01,  1.02975607e-01,\n",
       "        -2.37355649e-01,  3.01006705e-01, -9.13937688e-02,\n",
       "         1.81405187e-01, -1.52022736e-02,  5.92637844e-02,\n",
       "        -8.77154320e-02,  2.38044336e-01,  1.48520201e-01,\n",
       "        -9.47323442e-03,  2.79598385e-01, -2.14777216e-01,\n",
       "        -2.31715247e-01,  1.14213429e-01, -1.49470717e-01,\n",
       "         1.13296792e-01, -1.85685325e-02,  5.62974066e-02,\n",
       "        -9.92783755e-02,  3.11360568e-01, -6.12204969e-02,\n",
       "        -2.91241333e-02,  2.62602121e-01, -3.92590910e-02,\n",
       "         1.00632623e-01,  2.12772161e-01, -1.36646912e-01,\n",
       "        -1.19105257e-01,  2.67705321e-01, -4.27489653e-02,\n",
       "        -2.75612473e-01,  3.08718115e-01, -2.46913284e-01,\n",
       "        -3.63407694e-02,  1.85778081e-01, -2.69452214e-01,\n",
       "        -3.32239538e-01, -1.24134094e-01, -3.21954861e-02,\n",
       "        -1.60148963e-01, -2.47410655e-01,  1.83260664e-01,\n",
       "         5.50291352e-02, -2.44316474e-01, -1.52546212e-01,\n",
       "         1.36791930e-01, -1.36749923e-01,  7.36128613e-02,\n",
       "        -1.32735446e-01,  2.35707417e-01,  4.30804230e-02,\n",
       "        -3.19894068e-02,  1.25136733e-01, -1.41263932e-01,\n",
       "         1.06824353e-01,  6.80399314e-02, -3.17575961e-01,\n",
       "         2.21307036e-02,  5.53485379e-02, -1.89280614e-01,\n",
       "         2.53030270e-01,  2.14554995e-01,  1.58773605e-02,\n",
       "        -1.41713440e-01,  3.73893589e-01, -8.44948813e-02,\n",
       "         2.30538562e-01,  2.30908930e-01, -2.95295438e-04,\n",
       "        -4.42495309e-02, -1.30149573e-01,  4.06885445e-02,\n",
       "         1.07107967e-01,  8.83542672e-02, -1.11181155e-01,\n",
       "         1.03352338e-01,  1.78181857e-01,  7.98057765e-02,\n",
       "         7.40345120e-02,  2.76654035e-01, -2.56040961e-01,\n",
       "        -2.58734345e-01, -1.30661279e-01, -1.71838582e-01,\n",
       "        -2.84040600e-01, -6.93752691e-02,  2.85706818e-01,\n",
       "         1.82329997e-01,  3.02336276e-01, -1.10417284e-01,\n",
       "        -6.95085898e-03,  6.06464855e-02, -2.32979491e-01,\n",
       "        -2.79475063e-01, -2.09046856e-01, -4.05818708e-02,\n",
       "         1.93267599e-01,  1.16398267e-01,  2.93611407e-01,\n",
       "         1.61656603e-01, -6.27518515e-04,  4.52243127e-02,\n",
       "         9.31459963e-02,  7.54664047e-03, -3.41763824e-01,\n",
       "        -1.21273510e-01,  1.25627100e-01, -1.26992509e-01,\n",
       "        -9.30896774e-02, -2.40852788e-01, -1.49943128e-01,\n",
       "        -2.03212291e-01,  3.48548219e-02, -7.29757026e-02,\n",
       "         2.83952683e-01,  4.20129783e-02,  2.83579350e-01,\n",
       "        -3.53760757e-02,  6.83060586e-02, -3.01604837e-01,\n",
       "        -1.12295046e-01, -2.15549260e-01,  2.10446000e-01,\n",
       "        -8.11566710e-02, -4.02555838e-02,  2.63772815e-01,\n",
       "         1.61218390e-01,  3.49413306e-01,  1.86156973e-01,\n",
       "         1.63218513e-01,  1.98997572e-01,  2.52791326e-02,\n",
       "         1.22317195e-01,  1.38468504e-01,  1.50514305e-01,\n",
       "        -8.18670765e-02, -1.54257655e-01, -1.34286195e-01,\n",
       "        -1.87035739e-01, -1.49618924e-01,  2.73381770e-01,\n",
       "         3.28639373e-02, -1.24692880e-01, -2.55730271e-01,\n",
       "         2.34343298e-02, -2.08377466e-01, -2.86046299e-04,\n",
       "        -7.46628866e-02, -1.16506100e-01, -1.44405412e-02,\n",
       "        -8.43461826e-02,  1.84387565e-01, -1.91216707e-01,\n",
       "         1.91824600e-01, -1.34920940e-01, -6.37209192e-02,\n",
       "         2.77857214e-01,  5.74790724e-02, -1.89610958e-01,\n",
       "        -1.75158769e-01,  7.02128261e-02,  5.70172407e-02,\n",
       "        -1.70148555e-02, -3.18654716e-01, -8.73592645e-02,\n",
       "         1.62600607e-01,  1.83677673e-01, -1.24968164e-01,\n",
       "         8.06057919e-03,  3.32096927e-02, -1.64324462e-01,\n",
       "        -1.64652109e-01,  4.62986194e-02, -1.07158877e-01,\n",
       "         1.54751435e-01, -2.09381711e-02,  3.44836742e-01,\n",
       "         6.40368536e-02, -1.80461397e-03, -1.37844905e-02,\n",
       "        -1.10646449e-01, -2.07984909e-01, -2.64020134e-02,\n",
       "         2.08369177e-02,  5.50856069e-02, -3.52484316e-01,\n",
       "        -1.43332496e-01,  4.69852127e-02, -9.65259373e-02,\n",
       "        -1.25954226e-01, -7.35578164e-02,  9.65572670e-02,\n",
       "         5.74620441e-02,  2.90872186e-01,  2.10097477e-01,\n",
       "         4.47763741e-01,  1.24174692e-01,  4.62999977e-02,\n",
       "        -8.25941041e-02, -3.60589802e-01,  9.49360579e-02,\n",
       "         2.12517683e-03,  6.83510080e-02,  6.23746663e-02,\n",
       "         3.83666724e-01, -1.22456111e-01,  1.42884597e-01,\n",
       "        -2.32968599e-01, -9.45168659e-02,  1.00930177e-01,\n",
       "         3.68780131e-03, -3.37820053e-01,  2.85708517e-01,\n",
       "        -1.93884969e-01, -2.00425312e-02, -1.05759939e-02,\n",
       "        -2.08500847e-01,  1.79036614e-02, -3.00985366e-01,\n",
       "         2.36601710e-01, -5.74891865e-02, -2.53649116e-01,\n",
       "        -6.71244860e-02,  3.50912213e-01, -3.42443772e-02,\n",
       "        -7.56097212e-02, -2.67555490e-02, -1.10605620e-01,\n",
       "        -1.59958094e-01,  2.41584435e-01, -3.12261194e-01,\n",
       "        -1.45073310e-01, -7.03833550e-02,  4.41663638e-02,\n",
       "         2.55482495e-01,  1.56540349e-01,  3.56308334e-02,\n",
       "        -2.37854823e-01,  1.26232937e-01, -2.86268532e-01,\n",
       "         5.11285476e-02, -8.75704736e-02, -1.19016945e-01,\n",
       "        -8.97929147e-02,  2.38920301e-01, -6.70034736e-02,\n",
       "         1.68808207e-01,  1.25117421e-01,  4.13091742e-02,\n",
       "        -9.14380997e-02,  4.08004820e-01,  2.36899242e-01,\n",
       "         4.54011820e-02, -1.36110008e-01,  6.30445331e-02,\n",
       "         3.56690377e-01,  1.43250152e-01, -1.11811109e-01,\n",
       "        -1.11944601e-01,  5.10815307e-02,  4.28783707e-02,\n",
       "        -2.56659746e-01,  2.07690075e-01, -3.19676965e-01,\n",
       "         2.20241949e-01, -1.87534139e-01,  3.52877080e-01,\n",
       "         6.31342754e-02,  4.71795127e-02,  6.16284646e-02,\n",
       "        -3.41060966e-01,  2.48582467e-01,  4.36396301e-02,\n",
       "        -3.06904733e-01,  1.14918716e-01,  2.97032803e-01,\n",
       "        -2.76217133e-01,  2.29069561e-01,  2.55323291e-01,\n",
       "         1.05723165e-01,  1.50776908e-01,  1.85009122e-01,\n",
       "         1.25324085e-01, -1.19083881e-01, -7.16489404e-02,\n",
       "        -3.42983216e-01,  2.35324204e-01, -9.24092755e-02,\n",
       "        -7.58623183e-02, -1.34294018e-01, -7.69034624e-02,\n",
       "         1.45020127e-01,  2.50221491e-01, -1.66891113e-01,\n",
       "        -2.09182754e-01, -1.26912132e-01, -2.73568302e-01,\n",
       "        -1.04919687e-01, -3.19353729e-01,  1.89765200e-01,\n",
       "         6.35918006e-02, -4.02403586e-02,  8.23689625e-02]], dtype=float32)>, past_key_values=None, hidden_states=None, attentions=None, cross_attentions=None)"
      ]
     },
     "execution_count": 23,
     "metadata": {},
     "output_type": "execute_result"
    }
   ],
   "source": [
    "output_data"
   ]
  },
  {
   "cell_type": "code",
   "execution_count": 24,
   "metadata": {
    "execution": {
     "iopub.execute_input": "2023-06-08T14:51:56.327408Z",
     "iopub.status.busy": "2023-06-08T14:51:56.326996Z",
     "iopub.status.idle": "2023-06-08T14:51:57.532854Z",
     "shell.execute_reply": "2023-06-08T14:51:57.531656Z",
     "shell.execute_reply.started": "2023-06-08T14:51:56.327368Z"
    },
    "id": "laNnYyo1pJhj",
    "outputId": "8a88369f-8a42-4ebb-da2c-dfc067863395"
   },
   "outputs": [
    {
     "data": {
      "text/plain": [
       "'<s>time elated vice said mr tyson</s><pad><pad><pad><pad><pad><pad><pad><pad><pad><pad><pad><pad><pad><pad><pad><pad><pad><pad><pad><pad><pad><pad><pad><pad><pad><pad><pad><pad><pad>'"
      ]
     },
     "execution_count": 24,
     "metadata": {},
     "output_type": "execute_result"
    }
   ],
   "source": [
    "roberta_tokenizer.decode(encode_data[\"input_ids\"])"
   ]
  },
  {
   "cell_type": "code",
   "execution_count": 25,
   "metadata": {
    "execution": {
     "iopub.execute_input": "2023-06-08T14:51:57.535843Z",
     "iopub.status.busy": "2023-06-08T14:51:57.53455Z",
     "iopub.status.idle": "2023-06-08T14:51:57.541252Z",
     "shell.execute_reply": "2023-06-08T14:51:57.540023Z",
     "shell.execute_reply.started": "2023-06-08T14:51:57.53579Z"
    },
    "id": "uuM-HefYpJl8"
   },
   "outputs": [],
   "source": [
    "final_text_data=train_data[\"clean_tweet_text\"]\n",
    "final_label_data=np.array(label_data)"
   ]
  },
  {
   "cell_type": "code",
   "execution_count": 26,
   "metadata": {},
   "outputs": [],
   "source": [
    "new_final_label_data = np.array([0 if label==\"Negative\" else 1 if label==\"neutral\" else 2 for label in label_data])"
   ]
  },
  {
   "cell_type": "code",
   "execution_count": 27,
   "metadata": {},
   "outputs": [],
   "source": [
    "#new_final_label_data = np.array([0 if label==\"Negative\" else 1 for label in label_data])"
   ]
  },
  {
   "cell_type": "code",
   "execution_count": 28,
   "metadata": {
    "scrolled": true
   },
   "outputs": [
    {
     "name": "stdout",
     "output_type": "stream",
     "text": [
      "[1 2 0 2 2 0 0 0 0 2 0 0 0 2 2 0 2 0 0 0 0 2 0 2 2]\n"
     ]
    }
   ],
   "source": [
    "print(new_final_label_data[:25])"
   ]
  },
  {
   "cell_type": "code",
   "execution_count": 29,
   "metadata": {
    "execution": {
     "iopub.execute_input": "2023-06-08T14:51:57.544417Z",
     "iopub.status.busy": "2023-06-08T14:51:57.543425Z",
     "iopub.status.idle": "2023-06-08T14:51:57.553051Z",
     "shell.execute_reply": "2023-06-08T14:51:57.552055Z",
     "shell.execute_reply.started": "2023-06-08T14:51:57.544377Z"
    },
    "id": "DCRWV-gRpJq2"
   },
   "outputs": [],
   "source": [
    "def roberta_encode(final_text_data,max_len):\n",
    "    input_ids=[]\n",
    "    attention_masks=[]\n",
    "    \n",
    "    for i in range(len(final_text_data)):\n",
    "        encode_data=roberta_tokenizer.encode_plus(final_text_data[i],add_special_tokens=True,max_length=max_len,pad_to_max_length=True,return_attention_mask=True)\n",
    "        input_ids.append(encode_data['input_ids'])\n",
    "        attention_masks.append(encode_data[\"attention_mask\"])\n",
    "    return np.array(input_ids),np.array(attention_masks)\n",
    "        "
   ]
  },
  {
   "cell_type": "code",
   "execution_count": 30,
   "metadata": {
    "execution": {
     "iopub.execute_input": "2023-06-08T14:51:57.555447Z",
     "iopub.status.busy": "2023-06-08T14:51:57.555Z",
     "iopub.status.idle": "2023-06-08T14:52:11.360111Z",
     "shell.execute_reply": "2023-06-08T14:52:11.358978Z",
     "shell.execute_reply.started": "2023-06-08T14:51:57.555398Z"
    },
    "id": "CZ5nCIlapJur",
    "outputId": "d26e651a-717c-49ab-cb95-64ca55801455"
   },
   "outputs": [
    {
     "name": "stderr",
     "output_type": "stream",
     "text": [
      "Truncation was not explicitly activated but `max_length` is provided a specific value, please use `truncation=True` to explicitly truncate examples to max length. Defaulting to 'longest_first' truncation strategy. If you encode pairs of sequences (GLUE-style) with the tokenizer you can select this strategy more precisely by providing a specific strategy to `truncation`.\n"
     ]
    }
   ],
   "source": [
    "text_input_ids,text_attention_masks = roberta_encode(final_text_data,max_len)"
   ]
  },
  {
   "cell_type": "code",
   "execution_count": 31,
   "metadata": {
    "execution": {
     "iopub.execute_input": "2023-06-08T14:52:11.362244Z",
     "iopub.status.busy": "2023-06-08T14:52:11.361866Z",
     "iopub.status.idle": "2023-06-08T14:52:11.372515Z",
     "shell.execute_reply": "2023-06-08T14:52:11.3713Z",
     "shell.execute_reply.started": "2023-06-08T14:52:11.362204Z"
    },
    "id": "ovMvAGgApJyB",
    "outputId": "361426d8-a9b9-466e-890d-eee27269530e"
   },
   "outputs": [
    {
     "name": "stdout",
     "output_type": "stream",
     "text": [
      "Text Input Ids Shape (30730, 128) \n",
      "Text Input Attention Mask Shape (30730, 128) \n",
      "Label Data shape (30730,)\n"
     ]
    }
   ],
   "source": [
    "print('Text Input Ids Shape {} \\nText Input Attention Mask Shape {} \\nLabel Data shape {}'.format(text_input_ids.shape,text_attention_masks.shape,new_final_label_data.shape))"
   ]
  },
  {
   "cell_type": "code",
   "execution_count": 32,
   "metadata": {
    "execution": {
     "iopub.execute_input": "2023-06-08T14:52:11.375539Z",
     "iopub.status.busy": "2023-06-08T14:52:11.37423Z",
     "iopub.status.idle": "2023-06-08T14:52:11.404837Z",
     "shell.execute_reply": "2023-06-08T14:52:11.403658Z",
     "shell.execute_reply.started": "2023-06-08T14:52:11.375496Z"
    },
    "id": "UKIjDuMspJ1g"
   },
   "outputs": [],
   "source": [
    "X_train_input,X_test_input,Y_train_label,Y_test_label,train_mask,test_mask=train_test_split(text_input_ids,new_final_label_data,text_attention_masks,test_size=0.9,random_state=42,shuffle=True)"
   ]
  },
  {
   "cell_type": "code",
   "execution_count": 33,
   "metadata": {
    "execution": {
     "iopub.execute_input": "2023-06-08T14:52:11.409319Z",
     "iopub.status.busy": "2023-06-08T14:52:11.408985Z",
     "iopub.status.idle": "2023-06-08T14:52:11.415926Z",
     "shell.execute_reply": "2023-06-08T14:52:11.414494Z",
     "shell.execute_reply.started": "2023-06-08T14:52:11.409289Z"
    },
    "id": "zqOK0UrPpJ7B",
    "outputId": "44cd5443-64ba-4ac7-9748-7c27f973c82b"
   },
   "outputs": [
    {
     "name": "stdout",
     "output_type": "stream",
     "text": [
      "Train input shape (3073, 128)\n",
      "Test input shape (27657, 128)\n",
      "Train label shape (3073,)\n",
      "Test label shape (27657,)\n",
      "Train attention mask shape (3073, 128)\n",
      "Test attention mask shape (27657, 128)\n"
     ]
    }
   ],
   "source": [
    "print('Train input shape {}\\nTest input shape {}\\nTrain label shape {}\\nTest label shape {}\\nTrain attention mask shape {}\\nTest attention mask shape {}'.format(X_train_input.shape,X_test_input.shape,Y_train_label.shape,Y_test_label.shape,train_mask.shape,test_mask.shape))"
   ]
  },
  {
   "cell_type": "code",
   "execution_count": 34,
   "metadata": {},
   "outputs": [
    {
     "name": "stdout",
     "output_type": "stream",
     "text": [
      "[2 0 2 ... 2 0 2]\n"
     ]
    }
   ],
   "source": [
    "print(Y_train_label)"
   ]
  },
  {
   "cell_type": "markdown",
   "metadata": {
    "id": "SyrrDENuy_4R"
   },
   "source": [
    "# Create Roberta Model"
   ]
  },
  {
   "cell_type": "code",
   "execution_count": 35,
   "metadata": {},
   "outputs": [],
   "source": [
    "from tensorflow.keras.layers import LeakyReLU\n"
   ]
  },
  {
   "cell_type": "code",
   "execution_count": 36,
   "metadata": {
    "execution": {
     "iopub.execute_input": "2023-06-08T14:52:11.418977Z",
     "iopub.status.busy": "2023-06-08T14:52:11.418666Z",
     "iopub.status.idle": "2023-06-08T14:52:11.431356Z",
     "shell.execute_reply": "2023-06-08T14:52:11.430291Z",
     "shell.execute_reply.started": "2023-06-08T14:52:11.418949Z"
    },
    "id": "5xKFWC6ATJPn"
   },
   "outputs": [],
   "source": [
    "def Create_Roberta_Model():\n",
    "    input_ids=tf.keras.Input(shape=(max_len,),dtype=\"int32\")\n",
    "    attention_masks=tf.keras.Input(shape=(max_len,),dtype=\"int32\")\n",
    "    \n",
    "    roberta_model = TFRobertaModel.from_pretrained(\"roberta-base\")\n",
    "    output_dim = roberta_model(input_ids=input_ids, attention_mask=attention_masks)[0][:,0,:]\n",
    "    \n",
    "    dense_layer = tf.keras.layers.Dense(32, activation=\"relu\")(output_dim)\n",
    "    dropout = tf.keras.layers.Dropout(0.3)(dense_layer)\n",
    "    final_layer = tf.keras.layers.Dense(3, activation='softmax')(dropout)\n",
    "\n",
    "    model = tf.keras.models.Model(inputs=[input_ids, attention_masks], outputs=final_layer)\n",
    "    \n",
    "    return model\n"
   ]
  },
  {
   "cell_type": "code",
   "execution_count": 37,
   "metadata": {
    "execution": {
     "iopub.execute_input": "2023-06-08T14:52:11.433791Z",
     "iopub.status.busy": "2023-06-08T14:52:11.43273Z",
     "iopub.status.idle": "2023-06-08T14:52:19.99564Z",
     "shell.execute_reply": "2023-06-08T14:52:19.994556Z",
     "shell.execute_reply.started": "2023-06-08T14:52:11.433742Z"
    },
    "id": "HfWpP1nRpKIx",
    "outputId": "2a6f624b-49aa-46f0-c8be-163afbd65fae",
    "scrolled": false
   },
   "outputs": [
    {
     "name": "stderr",
     "output_type": "stream",
     "text": [
      "Some weights of the PyTorch model were not used when initializing the TF 2.0 model TFRobertaModel: ['lm_head.bias', 'lm_head.layer_norm.weight', 'lm_head.layer_norm.bias', 'lm_head.dense.bias', 'roberta.embeddings.position_ids', 'lm_head.dense.weight']\n",
      "- This IS expected if you are initializing TFRobertaModel from a PyTorch model trained on another task or with another architecture (e.g. initializing a TFBertForSequenceClassification model from a BertForPreTraining model).\n",
      "- This IS NOT expected if you are initializing TFRobertaModel from a PyTorch model that you expect to be exactly identical (e.g. initializing a TFBertForSequenceClassification model from a BertForSequenceClassification model).\n",
      "Some weights or buffers of the TF 2.0 model TFRobertaModel were not initialized from the PyTorch model and are newly initialized: ['roberta.pooler.dense.weight', 'roberta.pooler.dense.bias']\n",
      "You should probably TRAIN this model on a down-stream task to be able to use it for predictions and inference.\n"
     ]
    }
   ],
   "source": [
    "model=Create_Roberta_Model()\n",
    "\n",
    "loss = tf.keras.losses.SparseCategoricalCrossentropy(from_logits=False)\n",
    "\n",
    "optimizer = tf.keras.optimizers.Adam(lr=1e-5)\n",
    "\n",
    "model.compile(loss=loss,optimizer=optimizer, metrics=[\"accuracy\"])"
   ]
  },
  {
   "cell_type": "code",
   "execution_count": 38,
   "metadata": {
    "scrolled": true
   },
   "outputs": [
    {
     "name": "stdout",
     "output_type": "stream",
     "text": [
      "Gradient for tf_roberta_model_1/roberta/encoder/layer_._0/attention/self/query/kernel:0 is okay\n",
      "Gradient for tf_roberta_model_1/roberta/encoder/layer_._0/attention/self/query/bias:0 is okay\n",
      "Gradient for tf_roberta_model_1/roberta/encoder/layer_._0/attention/self/key/kernel:0 is okay\n",
      "Gradient for tf_roberta_model_1/roberta/encoder/layer_._0/attention/self/key/bias:0 is okay\n",
      "Gradient for tf_roberta_model_1/roberta/encoder/layer_._0/attention/self/value/kernel:0 is okay\n",
      "Gradient for tf_roberta_model_1/roberta/encoder/layer_._0/attention/self/value/bias:0 is okay\n",
      "Gradient for tf_roberta_model_1/roberta/encoder/layer_._0/attention/output/dense/kernel:0 is okay\n",
      "Gradient for tf_roberta_model_1/roberta/encoder/layer_._0/attention/output/dense/bias:0 is okay\n",
      "Gradient for tf_roberta_model_1/roberta/encoder/layer_._0/attention/output/LayerNorm/gamma:0 is okay\n",
      "Gradient for tf_roberta_model_1/roberta/encoder/layer_._0/attention/output/LayerNorm/beta:0 is okay\n",
      "Gradient for tf_roberta_model_1/roberta/encoder/layer_._0/intermediate/dense/kernel:0 is okay\n",
      "Gradient for tf_roberta_model_1/roberta/encoder/layer_._0/intermediate/dense/bias:0 is okay\n",
      "Gradient for tf_roberta_model_1/roberta/encoder/layer_._0/output/dense/kernel:0 is okay\n",
      "Gradient for tf_roberta_model_1/roberta/encoder/layer_._0/output/dense/bias:0 is okay\n",
      "Gradient for tf_roberta_model_1/roberta/encoder/layer_._0/output/LayerNorm/gamma:0 is okay\n",
      "Gradient for tf_roberta_model_1/roberta/encoder/layer_._0/output/LayerNorm/beta:0 is okay\n",
      "Gradient for tf_roberta_model_1/roberta/encoder/layer_._1/attention/self/query/kernel:0 is okay\n",
      "Gradient for tf_roberta_model_1/roberta/encoder/layer_._1/attention/self/query/bias:0 is okay\n",
      "Gradient for tf_roberta_model_1/roberta/encoder/layer_._1/attention/self/key/kernel:0 is okay\n",
      "Gradient for tf_roberta_model_1/roberta/encoder/layer_._1/attention/self/key/bias:0 is okay\n",
      "Gradient for tf_roberta_model_1/roberta/encoder/layer_._1/attention/self/value/kernel:0 is okay\n",
      "Gradient for tf_roberta_model_1/roberta/encoder/layer_._1/attention/self/value/bias:0 is okay\n",
      "Gradient for tf_roberta_model_1/roberta/encoder/layer_._1/attention/output/dense/kernel:0 is okay\n",
      "Gradient for tf_roberta_model_1/roberta/encoder/layer_._1/attention/output/dense/bias:0 is okay\n",
      "Gradient for tf_roberta_model_1/roberta/encoder/layer_._1/attention/output/LayerNorm/gamma:0 is okay\n",
      "Gradient for tf_roberta_model_1/roberta/encoder/layer_._1/attention/output/LayerNorm/beta:0 is okay\n",
      "Gradient for tf_roberta_model_1/roberta/encoder/layer_._1/intermediate/dense/kernel:0 is okay\n",
      "Gradient for tf_roberta_model_1/roberta/encoder/layer_._1/intermediate/dense/bias:0 is okay\n",
      "Gradient for tf_roberta_model_1/roberta/encoder/layer_._1/output/dense/kernel:0 is okay\n",
      "Gradient for tf_roberta_model_1/roberta/encoder/layer_._1/output/dense/bias:0 is okay\n",
      "Gradient for tf_roberta_model_1/roberta/encoder/layer_._1/output/LayerNorm/gamma:0 is okay\n",
      "Gradient for tf_roberta_model_1/roberta/encoder/layer_._1/output/LayerNorm/beta:0 is okay\n",
      "Gradient for tf_roberta_model_1/roberta/encoder/layer_._2/attention/self/query/kernel:0 is okay\n",
      "Gradient for tf_roberta_model_1/roberta/encoder/layer_._2/attention/self/query/bias:0 is okay\n",
      "Gradient for tf_roberta_model_1/roberta/encoder/layer_._2/attention/self/key/kernel:0 is okay\n",
      "Gradient for tf_roberta_model_1/roberta/encoder/layer_._2/attention/self/key/bias:0 is okay\n",
      "Gradient for tf_roberta_model_1/roberta/encoder/layer_._2/attention/self/value/kernel:0 is okay\n",
      "Gradient for tf_roberta_model_1/roberta/encoder/layer_._2/attention/self/value/bias:0 is okay\n",
      "Gradient for tf_roberta_model_1/roberta/encoder/layer_._2/attention/output/dense/kernel:0 is okay\n",
      "Gradient for tf_roberta_model_1/roberta/encoder/layer_._2/attention/output/dense/bias:0 is okay\n",
      "Gradient for tf_roberta_model_1/roberta/encoder/layer_._2/attention/output/LayerNorm/gamma:0 is okay\n",
      "Gradient for tf_roberta_model_1/roberta/encoder/layer_._2/attention/output/LayerNorm/beta:0 is okay\n",
      "Gradient for tf_roberta_model_1/roberta/encoder/layer_._2/intermediate/dense/kernel:0 is okay\n",
      "Gradient for tf_roberta_model_1/roberta/encoder/layer_._2/intermediate/dense/bias:0 is okay\n",
      "Gradient for tf_roberta_model_1/roberta/encoder/layer_._2/output/dense/kernel:0 is okay\n",
      "Gradient for tf_roberta_model_1/roberta/encoder/layer_._2/output/dense/bias:0 is okay\n",
      "Gradient for tf_roberta_model_1/roberta/encoder/layer_._2/output/LayerNorm/gamma:0 is okay\n",
      "Gradient for tf_roberta_model_1/roberta/encoder/layer_._2/output/LayerNorm/beta:0 is okay\n",
      "Gradient for tf_roberta_model_1/roberta/encoder/layer_._3/attention/self/query/kernel:0 is okay\n",
      "Gradient for tf_roberta_model_1/roberta/encoder/layer_._3/attention/self/query/bias:0 is okay\n",
      "Gradient for tf_roberta_model_1/roberta/encoder/layer_._3/attention/self/key/kernel:0 is okay\n",
      "Gradient for tf_roberta_model_1/roberta/encoder/layer_._3/attention/self/key/bias:0 is okay\n",
      "Gradient for tf_roberta_model_1/roberta/encoder/layer_._3/attention/self/value/kernel:0 is okay\n",
      "Gradient for tf_roberta_model_1/roberta/encoder/layer_._3/attention/self/value/bias:0 is okay\n",
      "Gradient for tf_roberta_model_1/roberta/encoder/layer_._3/attention/output/dense/kernel:0 is okay\n",
      "Gradient for tf_roberta_model_1/roberta/encoder/layer_._3/attention/output/dense/bias:0 is okay\n",
      "Gradient for tf_roberta_model_1/roberta/encoder/layer_._3/attention/output/LayerNorm/gamma:0 is okay\n",
      "Gradient for tf_roberta_model_1/roberta/encoder/layer_._3/attention/output/LayerNorm/beta:0 is okay\n",
      "Gradient for tf_roberta_model_1/roberta/encoder/layer_._3/intermediate/dense/kernel:0 is okay\n",
      "Gradient for tf_roberta_model_1/roberta/encoder/layer_._3/intermediate/dense/bias:0 is okay\n",
      "Gradient for tf_roberta_model_1/roberta/encoder/layer_._3/output/dense/kernel:0 is okay\n",
      "Gradient for tf_roberta_model_1/roberta/encoder/layer_._3/output/dense/bias:0 is okay\n",
      "Gradient for tf_roberta_model_1/roberta/encoder/layer_._3/output/LayerNorm/gamma:0 is okay\n",
      "Gradient for tf_roberta_model_1/roberta/encoder/layer_._3/output/LayerNorm/beta:0 is okay\n",
      "Gradient for tf_roberta_model_1/roberta/encoder/layer_._4/attention/self/query/kernel:0 is okay\n",
      "Gradient for tf_roberta_model_1/roberta/encoder/layer_._4/attention/self/query/bias:0 is okay\n",
      "Gradient for tf_roberta_model_1/roberta/encoder/layer_._4/attention/self/key/kernel:0 is okay\n",
      "Gradient for tf_roberta_model_1/roberta/encoder/layer_._4/attention/self/key/bias:0 is okay\n",
      "Gradient for tf_roberta_model_1/roberta/encoder/layer_._4/attention/self/value/kernel:0 is okay\n",
      "Gradient for tf_roberta_model_1/roberta/encoder/layer_._4/attention/self/value/bias:0 is okay\n",
      "Gradient for tf_roberta_model_1/roberta/encoder/layer_._4/attention/output/dense/kernel:0 is okay\n",
      "Gradient for tf_roberta_model_1/roberta/encoder/layer_._4/attention/output/dense/bias:0 is okay\n",
      "Gradient for tf_roberta_model_1/roberta/encoder/layer_._4/attention/output/LayerNorm/gamma:0 is okay\n",
      "Gradient for tf_roberta_model_1/roberta/encoder/layer_._4/attention/output/LayerNorm/beta:0 is okay\n",
      "Gradient for tf_roberta_model_1/roberta/encoder/layer_._4/intermediate/dense/kernel:0 is okay\n",
      "Gradient for tf_roberta_model_1/roberta/encoder/layer_._4/intermediate/dense/bias:0 is okay\n",
      "Gradient for tf_roberta_model_1/roberta/encoder/layer_._4/output/dense/kernel:0 is okay\n",
      "Gradient for tf_roberta_model_1/roberta/encoder/layer_._4/output/dense/bias:0 is okay\n",
      "Gradient for tf_roberta_model_1/roberta/encoder/layer_._4/output/LayerNorm/gamma:0 is okay\n",
      "Gradient for tf_roberta_model_1/roberta/encoder/layer_._4/output/LayerNorm/beta:0 is okay\n",
      "Gradient for tf_roberta_model_1/roberta/encoder/layer_._5/attention/self/query/kernel:0 is okay\n",
      "Gradient for tf_roberta_model_1/roberta/encoder/layer_._5/attention/self/query/bias:0 is okay\n",
      "Gradient for tf_roberta_model_1/roberta/encoder/layer_._5/attention/self/key/kernel:0 is okay\n",
      "Gradient for tf_roberta_model_1/roberta/encoder/layer_._5/attention/self/key/bias:0 is okay\n",
      "Gradient for tf_roberta_model_1/roberta/encoder/layer_._5/attention/self/value/kernel:0 is okay\n",
      "Gradient for tf_roberta_model_1/roberta/encoder/layer_._5/attention/self/value/bias:0 is okay\n",
      "Gradient for tf_roberta_model_1/roberta/encoder/layer_._5/attention/output/dense/kernel:0 is okay\n",
      "Gradient for tf_roberta_model_1/roberta/encoder/layer_._5/attention/output/dense/bias:0 is okay\n",
      "Gradient for tf_roberta_model_1/roberta/encoder/layer_._5/attention/output/LayerNorm/gamma:0 is okay\n",
      "Gradient for tf_roberta_model_1/roberta/encoder/layer_._5/attention/output/LayerNorm/beta:0 is okay\n",
      "Gradient for tf_roberta_model_1/roberta/encoder/layer_._5/intermediate/dense/kernel:0 is okay\n",
      "Gradient for tf_roberta_model_1/roberta/encoder/layer_._5/intermediate/dense/bias:0 is okay\n",
      "Gradient for tf_roberta_model_1/roberta/encoder/layer_._5/output/dense/kernel:0 is okay\n",
      "Gradient for tf_roberta_model_1/roberta/encoder/layer_._5/output/dense/bias:0 is okay\n",
      "Gradient for tf_roberta_model_1/roberta/encoder/layer_._5/output/LayerNorm/gamma:0 is okay\n",
      "Gradient for tf_roberta_model_1/roberta/encoder/layer_._5/output/LayerNorm/beta:0 is okay\n",
      "Gradient for tf_roberta_model_1/roberta/encoder/layer_._6/attention/self/query/kernel:0 is okay\n",
      "Gradient for tf_roberta_model_1/roberta/encoder/layer_._6/attention/self/query/bias:0 is okay\n",
      "Gradient for tf_roberta_model_1/roberta/encoder/layer_._6/attention/self/key/kernel:0 is okay\n",
      "Gradient for tf_roberta_model_1/roberta/encoder/layer_._6/attention/self/key/bias:0 is okay\n",
      "Gradient for tf_roberta_model_1/roberta/encoder/layer_._6/attention/self/value/kernel:0 is okay\n",
      "Gradient for tf_roberta_model_1/roberta/encoder/layer_._6/attention/self/value/bias:0 is okay\n",
      "Gradient for tf_roberta_model_1/roberta/encoder/layer_._6/attention/output/dense/kernel:0 is okay\n",
      "Gradient for tf_roberta_model_1/roberta/encoder/layer_._6/attention/output/dense/bias:0 is okay\n",
      "Gradient for tf_roberta_model_1/roberta/encoder/layer_._6/attention/output/LayerNorm/gamma:0 is okay\n",
      "Gradient for tf_roberta_model_1/roberta/encoder/layer_._6/attention/output/LayerNorm/beta:0 is okay\n",
      "Gradient for tf_roberta_model_1/roberta/encoder/layer_._6/intermediate/dense/kernel:0 is okay\n",
      "Gradient for tf_roberta_model_1/roberta/encoder/layer_._6/intermediate/dense/bias:0 is okay\n",
      "Gradient for tf_roberta_model_1/roberta/encoder/layer_._6/output/dense/kernel:0 is okay\n",
      "Gradient for tf_roberta_model_1/roberta/encoder/layer_._6/output/dense/bias:0 is okay\n",
      "Gradient for tf_roberta_model_1/roberta/encoder/layer_._6/output/LayerNorm/gamma:0 is okay\n",
      "Gradient for tf_roberta_model_1/roberta/encoder/layer_._6/output/LayerNorm/beta:0 is okay\n",
      "Gradient for tf_roberta_model_1/roberta/encoder/layer_._7/attention/self/query/kernel:0 is okay\n",
      "Gradient for tf_roberta_model_1/roberta/encoder/layer_._7/attention/self/query/bias:0 is okay\n",
      "Gradient for tf_roberta_model_1/roberta/encoder/layer_._7/attention/self/key/kernel:0 is okay\n",
      "Gradient for tf_roberta_model_1/roberta/encoder/layer_._7/attention/self/key/bias:0 is okay\n",
      "Gradient for tf_roberta_model_1/roberta/encoder/layer_._7/attention/self/value/kernel:0 is okay\n",
      "Gradient for tf_roberta_model_1/roberta/encoder/layer_._7/attention/self/value/bias:0 is okay\n",
      "Gradient for tf_roberta_model_1/roberta/encoder/layer_._7/attention/output/dense/kernel:0 is okay\n",
      "Gradient for tf_roberta_model_1/roberta/encoder/layer_._7/attention/output/dense/bias:0 is okay\n",
      "Gradient for tf_roberta_model_1/roberta/encoder/layer_._7/attention/output/LayerNorm/gamma:0 is okay\n",
      "Gradient for tf_roberta_model_1/roberta/encoder/layer_._7/attention/output/LayerNorm/beta:0 is okay\n",
      "Gradient for tf_roberta_model_1/roberta/encoder/layer_._7/intermediate/dense/kernel:0 is okay\n",
      "Gradient for tf_roberta_model_1/roberta/encoder/layer_._7/intermediate/dense/bias:0 is okay\n",
      "Gradient for tf_roberta_model_1/roberta/encoder/layer_._7/output/dense/kernel:0 is okay\n",
      "Gradient for tf_roberta_model_1/roberta/encoder/layer_._7/output/dense/bias:0 is okay\n",
      "Gradient for tf_roberta_model_1/roberta/encoder/layer_._7/output/LayerNorm/gamma:0 is okay\n",
      "Gradient for tf_roberta_model_1/roberta/encoder/layer_._7/output/LayerNorm/beta:0 is okay\n",
      "Gradient for tf_roberta_model_1/roberta/encoder/layer_._8/attention/self/query/kernel:0 is okay\n",
      "Gradient for tf_roberta_model_1/roberta/encoder/layer_._8/attention/self/query/bias:0 is okay\n",
      "Gradient for tf_roberta_model_1/roberta/encoder/layer_._8/attention/self/key/kernel:0 is okay\n",
      "Gradient for tf_roberta_model_1/roberta/encoder/layer_._8/attention/self/key/bias:0 is okay\n",
      "Gradient for tf_roberta_model_1/roberta/encoder/layer_._8/attention/self/value/kernel:0 is okay\n",
      "Gradient for tf_roberta_model_1/roberta/encoder/layer_._8/attention/self/value/bias:0 is okay\n",
      "Gradient for tf_roberta_model_1/roberta/encoder/layer_._8/attention/output/dense/kernel:0 is okay\n",
      "Gradient for tf_roberta_model_1/roberta/encoder/layer_._8/attention/output/dense/bias:0 is okay\n",
      "Gradient for tf_roberta_model_1/roberta/encoder/layer_._8/attention/output/LayerNorm/gamma:0 is okay\n",
      "Gradient for tf_roberta_model_1/roberta/encoder/layer_._8/attention/output/LayerNorm/beta:0 is okay\n",
      "Gradient for tf_roberta_model_1/roberta/encoder/layer_._8/intermediate/dense/kernel:0 is okay\n",
      "Gradient for tf_roberta_model_1/roberta/encoder/layer_._8/intermediate/dense/bias:0 is okay\n",
      "Gradient for tf_roberta_model_1/roberta/encoder/layer_._8/output/dense/kernel:0 is okay\n",
      "Gradient for tf_roberta_model_1/roberta/encoder/layer_._8/output/dense/bias:0 is okay\n",
      "Gradient for tf_roberta_model_1/roberta/encoder/layer_._8/output/LayerNorm/gamma:0 is okay\n",
      "Gradient for tf_roberta_model_1/roberta/encoder/layer_._8/output/LayerNorm/beta:0 is okay\n",
      "Gradient for tf_roberta_model_1/roberta/encoder/layer_._9/attention/self/query/kernel:0 is okay\n",
      "Gradient for tf_roberta_model_1/roberta/encoder/layer_._9/attention/self/query/bias:0 is okay\n",
      "Gradient for tf_roberta_model_1/roberta/encoder/layer_._9/attention/self/key/kernel:0 is okay\n",
      "Gradient for tf_roberta_model_1/roberta/encoder/layer_._9/attention/self/key/bias:0 is okay\n",
      "Gradient for tf_roberta_model_1/roberta/encoder/layer_._9/attention/self/value/kernel:0 is okay\n",
      "Gradient for tf_roberta_model_1/roberta/encoder/layer_._9/attention/self/value/bias:0 is okay\n",
      "Gradient for tf_roberta_model_1/roberta/encoder/layer_._9/attention/output/dense/kernel:0 is okay\n",
      "Gradient for tf_roberta_model_1/roberta/encoder/layer_._9/attention/output/dense/bias:0 is okay\n",
      "Gradient for tf_roberta_model_1/roberta/encoder/layer_._9/attention/output/LayerNorm/gamma:0 is okay\n",
      "Gradient for tf_roberta_model_1/roberta/encoder/layer_._9/attention/output/LayerNorm/beta:0 is okay\n",
      "Gradient for tf_roberta_model_1/roberta/encoder/layer_._9/intermediate/dense/kernel:0 is okay\n",
      "Gradient for tf_roberta_model_1/roberta/encoder/layer_._9/intermediate/dense/bias:0 is okay\n",
      "Gradient for tf_roberta_model_1/roberta/encoder/layer_._9/output/dense/kernel:0 is okay\n",
      "Gradient for tf_roberta_model_1/roberta/encoder/layer_._9/output/dense/bias:0 is okay\n",
      "Gradient for tf_roberta_model_1/roberta/encoder/layer_._9/output/LayerNorm/gamma:0 is okay\n",
      "Gradient for tf_roberta_model_1/roberta/encoder/layer_._9/output/LayerNorm/beta:0 is okay\n",
      "Gradient for tf_roberta_model_1/roberta/encoder/layer_._10/attention/self/query/kernel:0 is okay\n",
      "Gradient for tf_roberta_model_1/roberta/encoder/layer_._10/attention/self/query/bias:0 is okay\n",
      "Gradient for tf_roberta_model_1/roberta/encoder/layer_._10/attention/self/key/kernel:0 is okay\n",
      "Gradient for tf_roberta_model_1/roberta/encoder/layer_._10/attention/self/key/bias:0 is okay\n",
      "Gradient for tf_roberta_model_1/roberta/encoder/layer_._10/attention/self/value/kernel:0 is okay\n",
      "Gradient for tf_roberta_model_1/roberta/encoder/layer_._10/attention/self/value/bias:0 is okay\n",
      "Gradient for tf_roberta_model_1/roberta/encoder/layer_._10/attention/output/dense/kernel:0 is okay\n",
      "Gradient for tf_roberta_model_1/roberta/encoder/layer_._10/attention/output/dense/bias:0 is okay\n",
      "Gradient for tf_roberta_model_1/roberta/encoder/layer_._10/attention/output/LayerNorm/gamma:0 is okay\n",
      "Gradient for tf_roberta_model_1/roberta/encoder/layer_._10/attention/output/LayerNorm/beta:0 is okay\n",
      "Gradient for tf_roberta_model_1/roberta/encoder/layer_._10/intermediate/dense/kernel:0 is okay\n",
      "Gradient for tf_roberta_model_1/roberta/encoder/layer_._10/intermediate/dense/bias:0 is okay\n",
      "Gradient for tf_roberta_model_1/roberta/encoder/layer_._10/output/dense/kernel:0 is okay\n",
      "Gradient for tf_roberta_model_1/roberta/encoder/layer_._10/output/dense/bias:0 is okay\n",
      "Gradient for tf_roberta_model_1/roberta/encoder/layer_._10/output/LayerNorm/gamma:0 is okay\n",
      "Gradient for tf_roberta_model_1/roberta/encoder/layer_._10/output/LayerNorm/beta:0 is okay\n",
      "Gradient for tf_roberta_model_1/roberta/encoder/layer_._11/attention/self/query/kernel:0 is okay\n",
      "Gradient for tf_roberta_model_1/roberta/encoder/layer_._11/attention/self/query/bias:0 is okay\n",
      "Gradient for tf_roberta_model_1/roberta/encoder/layer_._11/attention/self/key/kernel:0 is okay\n",
      "Gradient for tf_roberta_model_1/roberta/encoder/layer_._11/attention/self/key/bias:0 is okay\n",
      "Gradient for tf_roberta_model_1/roberta/encoder/layer_._11/attention/self/value/kernel:0 is okay\n",
      "Gradient for tf_roberta_model_1/roberta/encoder/layer_._11/attention/self/value/bias:0 is okay\n",
      "Gradient for tf_roberta_model_1/roberta/encoder/layer_._11/attention/output/dense/kernel:0 is okay\n",
      "Gradient for tf_roberta_model_1/roberta/encoder/layer_._11/attention/output/dense/bias:0 is okay\n",
      "Gradient for tf_roberta_model_1/roberta/encoder/layer_._11/attention/output/LayerNorm/gamma:0 is okay\n",
      "Gradient for tf_roberta_model_1/roberta/encoder/layer_._11/attention/output/LayerNorm/beta:0 is okay\n",
      "Gradient for tf_roberta_model_1/roberta/encoder/layer_._11/intermediate/dense/kernel:0 is okay\n",
      "Gradient for tf_roberta_model_1/roberta/encoder/layer_._11/intermediate/dense/bias:0 is okay\n",
      "Gradient for tf_roberta_model_1/roberta/encoder/layer_._11/output/dense/kernel:0 is okay\n",
      "Gradient for tf_roberta_model_1/roberta/encoder/layer_._11/output/dense/bias:0 is okay\n",
      "Gradient for tf_roberta_model_1/roberta/encoder/layer_._11/output/LayerNorm/gamma:0 is okay\n",
      "Gradient for tf_roberta_model_1/roberta/encoder/layer_._11/output/LayerNorm/beta:0 is okay\n",
      "No gradient for tf_roberta_model_1/roberta/pooler/dense/kernel:0\n",
      "No gradient for tf_roberta_model_1/roberta/pooler/dense/bias:0\n",
      "Gradient for tf_roberta_model_1/roberta/embeddings/word_embeddings/weight:0 is okay\n",
      "Gradient for tf_roberta_model_1/roberta/embeddings/token_type_embeddings/embeddings:0 is okay\n",
      "Gradient for tf_roberta_model_1/roberta/embeddings/position_embeddings/embeddings:0 is okay\n",
      "Gradient for tf_roberta_model_1/roberta/embeddings/LayerNorm/gamma:0 is okay\n",
      "Gradient for tf_roberta_model_1/roberta/embeddings/LayerNorm/beta:0 is okay\n",
      "Gradient for dense/kernel:0 is okay\n",
      "Gradient for dense/bias:0 is okay\n",
      "Gradient for dense_1/kernel:0 is okay\n",
      "Gradient for dense_1/bias:0 is okay\n"
     ]
    }
   ],
   "source": [
    "with tf.GradientTape() as tape:\n",
    "    predictions = model([X_train_input[:1], train_mask[:1]], training=True)\n",
    "    loss = tf.keras.losses.sparse_categorical_crossentropy(Y_train_label[:1], predictions)\n",
    "grads = tape.gradient(loss, model.trainable_weights)\n",
    "for grad, weight in zip(grads, model.trainable_weights):\n",
    "    if grad is not None:\n",
    "        print(f\"Gradient for {weight.name} is okay\")\n",
    "    else:\n",
    "        print(f\"No gradient for {weight.name}\")"
   ]
  },
  {
   "cell_type": "code",
   "execution_count": 39,
   "metadata": {
    "execution": {
     "iopub.execute_input": "2023-06-08T14:52:19.997402Z",
     "iopub.status.busy": "2023-06-08T14:52:19.997001Z",
     "iopub.status.idle": "2023-06-08T15:59:47.67389Z",
     "shell.execute_reply": "2023-06-08T15:59:47.672901Z",
     "shell.execute_reply.started": "2023-06-08T14:52:19.997363Z"
    },
    "id": "d1LGBF0tpKMM",
    "outputId": "0e669998-9ddb-43f2-be5b-b550d79e73ea"
   },
   "outputs": [
    {
     "name": "stdout",
     "output_type": "stream",
     "text": [
      "Epoch 1/10\n",
      "WARNING:tensorflow:Gradients do not exist for variables ['tf_roberta_model_1/roberta/pooler/dense/kernel:0', 'tf_roberta_model_1/roberta/pooler/dense/bias:0'] when minimizing the loss. If you're using `model.compile()`, did you forget to provide a `loss` argument?\n",
      "WARNING:tensorflow:Gradients do not exist for variables ['tf_roberta_model_1/roberta/pooler/dense/kernel:0', 'tf_roberta_model_1/roberta/pooler/dense/bias:0'] when minimizing the loss. If you're using `model.compile()`, did you forget to provide a `loss` argument?\n",
      "193/193 [==============================] - 182s 854ms/step - loss: 0.7586 - accuracy: 0.6271 - val_loss: 0.5875 - val_accuracy: 0.7567\n",
      "Epoch 2/10\n",
      "193/193 [==============================] - 169s 879ms/step - loss: 0.5666 - accuracy: 0.7592 - val_loss: 0.5611 - val_accuracy: 0.7644\n",
      "Epoch 3/10\n",
      "193/193 [==============================] - 169s 879ms/step - loss: 0.4841 - accuracy: 0.8057 - val_loss: 0.5671 - val_accuracy: 0.7796\n",
      "Epoch 4/10\n",
      "193/193 [==============================] - 176s 915ms/step - loss: 0.3888 - accuracy: 0.8526 - val_loss: 0.6009 - val_accuracy: 0.7540\n",
      "Epoch 5/10\n",
      "193/193 [==============================] - 178s 926ms/step - loss: 0.3218 - accuracy: 0.8799 - val_loss: 0.6588 - val_accuracy: 0.7790\n",
      "Epoch 6/10\n",
      "193/193 [==============================] - 173s 898ms/step - loss: 0.2650 - accuracy: 0.9043 - val_loss: 0.6613 - val_accuracy: 0.7754\n",
      "Epoch 7/10\n",
      "193/193 [==============================] - 177s 919ms/step - loss: 0.2227 - accuracy: 0.9216 - val_loss: 0.7805 - val_accuracy: 0.7643\n",
      "Epoch 8/10\n",
      "193/193 [==============================] - 169s 879ms/step - loss: 0.1758 - accuracy: 0.9418 - val_loss: 0.8978 - val_accuracy: 0.7540\n",
      "Epoch 9/10\n",
      "193/193 [==============================] - 170s 884ms/step - loss: 0.1390 - accuracy: 0.9541 - val_loss: 1.0695 - val_accuracy: 0.7730\n",
      "Epoch 10/10\n",
      "193/193 [==============================] - 171s 888ms/step - loss: 0.1116 - accuracy: 0.9652 - val_loss: 1.0985 - val_accuracy: 0.7801\n"
     ]
    }
   ],
   "source": [
    "history=model.fit([X_train_input,train_mask],Y_train_label,batch_size=16,epochs=10,validation_data=([X_test_input,test_mask],Y_test_label))"
   ]
  },
  {
   "cell_type": "code",
   "execution_count": 40,
   "metadata": {
    "execution": {
     "iopub.execute_input": "2023-06-08T15:59:47.67614Z",
     "iopub.status.busy": "2023-06-08T15:59:47.675766Z",
     "iopub.status.idle": "2023-06-08T15:59:47.689016Z",
     "shell.execute_reply": "2023-06-08T15:59:47.687651Z",
     "shell.execute_reply.started": "2023-06-08T15:59:47.676104Z"
    }
   },
   "outputs": [],
   "source": [
    "def model_loss_and_accuracy(history):\n",
    "    \n",
    "    fig=plt.figure(figsize=(15,15))\n",
    "    plt.subplot(221)\n",
    "    plt.plot(history.history[\"accuracy\"],marker=\"o\",linestyle=\":\",markersize=10,color=\"m\",label=\"accuracy\")\n",
    "    plt.plot(history.history[\"val_accuracy\"],marker=\"D\",linestyle=\":\",markersize=10,color=\"b\",label=\"val_accuracy\")\n",
    "    plt.title(\"Model Accuracy\\n\",fontsize=20,color=\"darkorange\")\n",
    "    plt.xlabel(\"Number of Epochs\",color=\"midnightblue\",fontsize=15)\n",
    "    plt.ylabel(\"Accuracy\",color=\"midnightblue\",fontsize=15)\n",
    "    plt.grid(color = 'green', linestyle = '--', linewidth = 1)\n",
    "    plt.legend(loc=\"best\")\n",
    "    plt.tight_layout()\n",
    "    \n",
    "  \n",
    "    plt.subplot(222)\n",
    "    plt.plot(history.history[\"accuracy\"],marker=\"v\",linestyle=\"-.\",markersize=10,color=\"g\",label=\"accuracy\")\n",
    "    plt.plot(history.history[\"val_accuracy\"],marker=\"s\",linestyle=\"--\",markersize=10,color=\"r\",label=\"val_accuracy\")\n",
    "    plt.title(\"Model Loss\\n\",fontsize=20,color=\"limegreen\")\n",
    "    plt.xlabel(\"Number of Epochs\",color=\"midnightblue\",fontsize=15)\n",
    "    plt.ylabel(\"Loss\",color=\"midnightblue\",fontsize=15)\n",
    "    plt.grid(color = 'green', linestyle = '--', linewidth = 1)\n",
    "    plt.legend(loc=\"best\")\n",
    "    plt.tight_layout()\n",
    "    plt.show()"
   ]
  },
  {
   "cell_type": "code",
   "execution_count": 41,
   "metadata": {
    "execution": {
     "iopub.execute_input": "2023-06-08T15:59:47.691061Z",
     "iopub.status.busy": "2023-06-08T15:59:47.690566Z",
     "iopub.status.idle": "2023-06-08T15:59:48.133763Z",
     "shell.execute_reply": "2023-06-08T15:59:48.132792Z",
     "shell.execute_reply.started": "2023-06-08T15:59:47.691002Z"
    }
   },
   "outputs": [
    {
     "data": {
      "image/png": "[encoded data removed]",
      "text/plain": [
       "<Figure size 1500x1500 with 2 Axes>"
      ]
     },
     "metadata": {},
     "output_type": "display_data"
    }
   ],
   "source": [
    "model_loss_and_accuracy(history)"
   ]
  },
  {
   "cell_type": "markdown",
   "metadata": {},
   "source": [
    "# F1 Score"
   ]
  },
  {
   "cell_type": "code",
   "execution_count": 42,
   "metadata": {
    "execution": {
     "iopub.execute_input": "2023-06-08T15:59:48.137362Z",
     "iopub.status.busy": "2023-06-08T15:59:48.137061Z",
     "iopub.status.idle": "2023-06-08T16:06:07.982369Z",
     "shell.execute_reply": "2023-06-08T16:06:07.981408Z",
     "shell.execute_reply.started": "2023-06-08T15:59:48.137334Z"
    }
   },
   "outputs": [
    {
     "name": "stdout",
     "output_type": "stream",
     "text": [
      "865/865 [==============================] - 131s 146ms/step\n",
      "865/865 [==============================] - 124s 144ms/step\n",
      "865/865 [==============================] - 123s 143ms/step\n",
      "865/865 [==============================] - 123s 141ms/step\n",
      "865/865 [==============================] - 117s 135ms/step\n",
      "865/865 [==============================] - 118s 136ms/step\n",
      "865/865 [==============================] - 129s 149ms/step\n",
      "865/865 [==============================] - 126s 145ms/step\n",
      "865/865 [==============================] - 128s 148ms/step\n",
      "865/865 [==============================] - 126s 145ms/step\n"
     ]
    },
    {
     "data": {
      "image/png": "[encoded data removed]",
      "text/plain": [
       "<Figure size 1000x1000 with 1 Axes>"
      ]
     },
     "metadata": {},
     "output_type": "display_data"
    }
   ],
   "source": [
    "def plot_f1_score(history):\n",
    "    f1_scores = []\n",
    "    for epoch in range(len(history.history['val_loss'])):\n",
    "        model.set_weights(history.model.get_weights())\n",
    "        predictions = model.predict([X_test_input, test_mask])\n",
    "        predictions = [round(p[0]) for p in predictions]\n",
    "    \n",
    "        f1_scores.append(f1_score(Y_test_label, predictions, average='weighted'))\n",
    "    plt.figure(figsize=(10,10))\n",
    "    plt.plot(range(len(history.history['val_loss'])), f1_scores, label='F1 score',marker=\"*\",color=\"g\",linestyle=\"--\",linewidth=4,markersize=8,markerfacecolor=\"r\")\n",
    "    plt.title(\"F1 Score\\n\",color=\"black\",fontsize=20)\n",
    "    plt.xlabel('Epochs',fontsize=15,color=\"black\")\n",
    "    plt.ylabel('F1 score',fontsize=15,color=\"black\")\n",
    "    plt.legend()\n",
    "    plt.show()\n",
    "\n",
    "\n",
    "plot_f1_score(history)\n"
   ]
  },
  {
   "cell_type": "markdown",
   "metadata": {},
   "source": [
    "# Label Names"
   ]
  },
  {
   "cell_type": "code",
   "execution_count": 43,
   "metadata": {
    "execution": {
     "iopub.execute_input": "2023-06-08T16:06:07.98453Z",
     "iopub.status.busy": "2023-06-08T16:06:07.984058Z",
     "iopub.status.idle": "2023-06-08T16:06:07.989632Z",
     "shell.execute_reply": "2023-06-08T16:06:07.988677Z",
     "shell.execute_reply.started": "2023-06-08T16:06:07.984492Z"
    }
   },
   "outputs": [],
   "source": [
    "label_name=[\"Negative\",\"neutral\", \"Positive\"]"
   ]
  },
  {
   "cell_type": "code",
   "execution_count": 44,
   "metadata": {
    "execution": {
     "iopub.execute_input": "2023-06-08T16:06:07.991738Z",
     "iopub.status.busy": "2023-06-08T16:06:07.990886Z",
     "iopub.status.idle": "2023-06-08T16:06:40.6963Z",
     "shell.execute_reply": "2023-06-08T16:06:40.695204Z",
     "shell.execute_reply.started": "2023-06-08T16:06:07.991699Z"
    }
   },
   "outputs": [
    {
     "name": "stdout",
     "output_type": "stream",
     "text": [
      "865/865 [==============================] - 125s 144ms/step\n"
     ]
    }
   ],
   "source": [
    "pred=model.predict([X_test_input, test_mask])\n",
    "prediction=np.argmax(pred, axis=1)"
   ]
  },
  {
   "cell_type": "code",
   "execution_count": 51,
   "metadata": {},
   "outputs": [
    {
     "name": "stdout",
     "output_type": "stream",
     "text": [
      "[[9.9992108e-01 4.5684310e-06 7.4387295e-05]\n",
      " [9.9998951e-01 5.1218882e-07 1.0017537e-05]\n",
      " [5.4688998e-03 2.7090110e-07 9.9453086e-01]\n",
      " ...\n",
      " [9.9893957e-01 9.4552661e-06 1.0509734e-03]\n",
      " [6.2536788e-01 2.5140389e-04 3.7438074e-01]\n",
      " [9.9999654e-01 2.0236325e-06 1.4074707e-06]]\n"
     ]
    }
   ],
   "source": [
    "print(pred)"
   ]
  },
  {
   "cell_type": "markdown",
   "metadata": {},
   "source": [
    "# Accuracy Score"
   ]
  },
  {
   "cell_type": "code",
   "execution_count": 45,
   "metadata": {
    "execution": {
     "iopub.execute_input": "2023-06-08T16:06:40.69845Z",
     "iopub.status.busy": "2023-06-08T16:06:40.698062Z",
     "iopub.status.idle": "2023-06-08T16:06:40.705539Z",
     "shell.execute_reply": "2023-06-08T16:06:40.704422Z",
     "shell.execute_reply.started": "2023-06-08T16:06:40.698412Z"
    }
   },
   "outputs": [
    {
     "name": "stdout",
     "output_type": "stream",
     "text": [
      "Accuracy Score is 0.780055682105796\n"
     ]
    }
   ],
   "source": [
    "print(\"Accuracy Score is\",accuracy_score(Y_test_label,prediction))"
   ]
  },
  {
   "cell_type": "markdown",
   "metadata": {},
   "source": [
    "# ROC AUC Score"
   ]
  },
  {
   "cell_type": "code",
   "execution_count": 53,
   "metadata": {
    "execution": {
     "iopub.execute_input": "2023-06-08T16:06:40.708016Z",
     "iopub.status.busy": "2023-06-08T16:06:40.707308Z",
     "iopub.status.idle": "2023-06-08T16:06:40.71916Z",
     "shell.execute_reply": "2023-06-08T16:06:40.717897Z",
     "shell.execute_reply.started": "2023-06-08T16:06:40.707979Z"
    }
   },
   "outputs": [
    {
     "name": "stdout",
     "output_type": "stream",
     "text": [
      "ROC AUC Score is 0.8908683704670581\n"
     ]
    }
   ],
   "source": [
    "print(\"ROC AUC Score is {}\".format(roc_auc_score(Y_test_label, pred, multi_class='ovr')))"
   ]
  },
  {
   "cell_type": "markdown",
   "metadata": {},
   "source": [
    "# Average Precision Score"
   ]
  },
  {
   "cell_type": "code",
   "execution_count": 70,
   "metadata": {},
   "outputs": [
    {
     "name": "stdout",
     "output_type": "stream",
     "text": [
      "              precision    recall  f1-score   support\n",
      "\n",
      "           0       0.82      0.83      0.82     15686\n",
      "           1       0.73      0.71      0.72      2042\n",
      "           2       0.73      0.72      0.72      9929\n",
      "\n",
      "    accuracy                           0.78     27657\n",
      "   macro avg       0.76      0.75      0.75     27657\n",
      "weighted avg       0.78      0.78      0.78     27657\n",
      "\n"
     ]
    }
   ],
   "source": [
    "print(classification_report(Y_test_label, np.argmax(pred, axis=1)))"
   ]
  },
  {
   "cell_type": "code",
   "execution_count": null,
   "metadata": {},
   "outputs": [],
   "source": []
  }
 ],
 "metadata": {
  "kaggle": {
   "accelerator": "none",
   "dataSources": [
    {
     "datasetId": 100982,
     "sourceId": 239192,
     "sourceType": "datasetVersion"
    },
    {
     "datasetId": 2428302,
     "sourceId": 5383266,
     "sourceType": "datasetVersion"
    }
   ],
   "dockerImageVersionId": 30301,
   "isGpuEnabled": false,
   "isInternetEnabled": false,
   "language": "python",
   "sourceType": "notebook"
  },
  "kernelspec": {
   "display_name": "Python 3 (ipykernel)",
   "language": "python",
   "name": "python3"
  },
  "language_info": {
   "codemirror_mode": {
    "name": "ipython",
    "version": 3
   },
   "file_extension": ".py",
   "mimetype": "text/x-python",
   "name": "python",
   "nbconvert_exporter": "python",
   "pygments_lexer": "ipython3",
   "version": "3.10.14"
  }
 },
 "nbformat": 4,
 "nbformat_minor": 4
}
