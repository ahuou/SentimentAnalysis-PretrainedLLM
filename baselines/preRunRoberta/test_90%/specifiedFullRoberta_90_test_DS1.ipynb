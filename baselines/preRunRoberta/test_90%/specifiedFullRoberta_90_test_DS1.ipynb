{
 "cells": [
  {
   "cell_type": "code",
   "execution_count": 1,
   "metadata": {
    "id": "RTbL6P0DPT-l",
    "jupyter": {
     "is_executing": true
    },
    "outputId": "ff792b6c-5e67-4439-a160-ff5b2e6f5051"
   },
   "outputs": [
    {
     "name": "stderr",
     "output_type": "stream",
     "text": [
      "[nltk_data] Downloading package omw-1.4 to\n",
      "[nltk_data]     C:\\Users\\alexh\\AppData\\Roaming\\nltk_data...\n",
      "[nltk_data]   Package omw-1.4 is already up-to-date!\n",
      "[nltk_data] Downloading package stopwords to\n",
      "[nltk_data]     C:\\Users\\alexh\\AppData\\Roaming\\nltk_data...\n",
      "[nltk_data]   Package stopwords is already up-to-date!\n",
      "[nltk_data] Downloading package wordnet to\n",
      "[nltk_data]     C:\\Users\\alexh\\AppData\\Roaming\\nltk_data...\n",
      "[nltk_data]   Package wordnet is already up-to-date!\n",
      "[nltk_data] Downloading package brown to\n",
      "[nltk_data]     C:\\Users\\alexh\\AppData\\Roaming\\nltk_data...\n",
      "[nltk_data]   Package brown is already up-to-date!\n"
     ]
    }
   ],
   "source": [
    "import numpy as np\n",
    "import pandas as pd \n",
    "import nltk\n",
    "import matplotlib.pyplot as plt\n",
    "from wordcloud import WordCloud,STOPWORDS\n",
    "from PIL import Image\n",
    "from sklearn.utils import resample\n",
    "import seaborn as sns\n",
    "from sklearn.feature_extraction.text import CountVectorizer\n",
    "import re\n",
    "from nltk.corpus import stopwords\n",
    "from nltk.stem import WordNetLemmatizer\n",
    "from nltk.probability import FreqDist\n",
    "from transformers import RobertaTokenizer\n",
    "from transformers import TFRobertaModel\n",
    "from sklearn.model_selection import train_test_split\n",
    "from tensorflow.keras.layers import Dense,Dropout\n",
    "from tensorflow.keras.layers import Flatten\n",
    "from sklearn.metrics import precision_recall_curve\n",
    "\n",
    "import tensorflow as tf\n",
    "from sklearn.metrics import roc_auc_score, roc_curve,auc\n",
    "from keras import regularizers\n",
    "from sklearn import preprocessing\n",
    "from sklearn.metrics import confusion_matrix,f1_score,classification_report\n",
    "from mlxtend.plotting import plot_confusion_matrix\n",
    "from sklearn.metrics import accuracy_score\n",
    "from sklearn.preprocessing import OneHotEncoder\n",
    "from sklearn.preprocessing import LabelEncoder\n",
    "from sklearn.preprocessing import label_binarize\n",
    "from sklearn.metrics import average_precision_score\n",
    "from itertools import cycle\n",
    "\n",
    "lemma = WordNetLemmatizer()\n",
    "stopword = set(STOPWORDS)\n",
    "nltk.download('omw-1.4')\n",
    "%matplotlib inline\n",
    "import nltk\n",
    "nltk.download('stopwords')\n",
    "import nltk\n",
    "nltk.download('wordnet')\n",
    "\n",
    "\n",
    "from nltk.corpus import brown\n",
    "nltk.download(\"brown\")\n",
    "import warnings\n",
    "warnings.filterwarnings(\"ignore\")\n"
   ]
  },
  {
   "cell_type": "markdown",
   "metadata": {
    "id": "4WMfDUifPu9s"
   },
   "source": [
    "# Import Train Data"
   ]
  },
  {
   "cell_type": "markdown",
   "metadata": {},
   "source": [
    "# Data preprocessing"
   ]
  },
  {
   "cell_type": "code",
   "execution_count": 2,
   "metadata": {},
   "outputs": [
    {
     "name": "stdout",
     "output_type": "stream",
     "text": [
      "C:\\\n",
      "C:\\Users\\alexh\\PycharmProjects\\proj_bach\n"
     ]
    }
   ],
   "source": [
    "%cd ../../../../..\n",
    "%cd C:/Users/alexh/PycharmProjects/proj_bach"
   ]
  },
  {
   "cell_type": "code",
   "execution_count": 3,
   "metadata": {
    "jupyter": {
     "is_executing": true
    }
   },
   "outputs": [
    {
     "name": "stdout",
     "output_type": "stream",
     "text": [
      "File simple_emotions.txt already exists. Not overwriting.\n",
      "File simple_sentiments.txt already exists. Not overwriting.\n",
      "File clean_tweet_emotions.txt already exists. Not overwriting.\n",
      "File clean_tweet_sentiments.txt already exists. Not overwriting.\n",
      "                                                Text Sentiment\n",
      "0  During the period of falling in love, each tim...  Positive\n",
      "1         When I was involved in a traffic accident.  Negative\n",
      "2  When I was driving home after  several days of...  Negative\n",
      "3   When I lost the person who meant the most to me.  Negative\n",
      "4  The time I knocked a deer down - the sight of ...  Negative\n",
      "Index(['Text', 'Sentiment'], dtype='object')\n",
      "                                                   Text Sentiment\n",
      "0     During the period of falling in love, each tim...  Positive\n",
      "1            When I was involved in a traffic accident.  Negative\n",
      "2     When I was driving home after  several days of...  Negative\n",
      "3      When I lost the person who meant the most to me.  Negative\n",
      "4     The time I knocked a deer down - the sight of ...  Negative\n",
      "...                                                 ...       ...\n",
      "7475  Two years back someone invited me to be the tu...  Negative\n",
      "7476  I had taken the responsibility to do something...  Negative\n",
      "7477  I was at home and I heard a loud sound of spit...  Negative\n",
      "7478  I did not do the homework that the teacher had...  Negative\n",
      "7479  I had shouted at my younger brother and he was...  Negative\n",
      "\n",
      "[7480 rows x 2 columns]\n"
     ]
    }
   ],
   "source": [
    "from data_retriever import data1, data2"
   ]
  },
  {
   "cell_type": "code",
   "execution_count": 4,
   "metadata": {
    "ExecuteTime": {
     "end_time": "2024-06-12T11:45:44.981963Z",
     "start_time": "2024-06-12T11:45:44.965963Z"
    }
   },
   "outputs": [],
   "source": [
    "def clean_text(tweet):\n",
    "    tweets = \" \".join(filter(lambda x: x[0]!= '@' , tweet.split()))\n",
    "    tweets = re.sub('[^a-zA-Z]', ' ', tweets)\n",
    "    tweets = tweets.lower()\n",
    "    tweets = tweets.split()\n",
    "    tweets = [word for word in tweets if not word in set(stopwords.words('english'))]\n",
    "    tweets = [lemma.lemmatize(word) for word in tweets]\n",
    "    tweets = \" \".join(tweets)\n",
    "    return tweets"
   ]
  },
  {
   "cell_type": "code",
   "execution_count": 5,
   "metadata": {
    "ExecuteTime": {
     "end_time": "2024-06-12T11:45:45.771184Z",
     "start_time": "2024-06-12T11:45:45.757670Z"
    }
   },
   "outputs": [],
   "source": [
    "train_data = data1.astype(str).copy()"
   ]
  },
  {
   "cell_type": "code",
   "execution_count": 6,
   "metadata": {
    "ExecuteTime": {
     "end_time": "2024-06-12T11:46:07.269536Z",
     "start_time": "2024-06-12T11:45:46.126947Z"
    },
    "execution": {
     "iopub.execute_input": "2023-06-08T14:50:12.943209Z",
     "iopub.status.busy": "2023-06-08T14:50:12.942562Z",
     "iopub.status.idle": "2023-06-08T14:51:15.385674Z",
     "shell.execute_reply": "2023-06-08T14:51:15.384598Z",
     "shell.execute_reply.started": "2023-06-08T14:50:12.943167Z"
    },
    "id": "EksOwZ3fPZCE"
   },
   "outputs": [],
   "source": [
    "train_data['clean_tweet_text'] = train_data.Text.apply(clean_text)"
   ]
  },
  {
   "cell_type": "code",
   "execution_count": 7,
   "metadata": {
    "ExecuteTime": {
     "end_time": "2024-06-12T11:46:07.285044Z",
     "start_time": "2024-06-12T11:46:07.270529Z"
    },
    "execution": {
     "iopub.execute_input": "2023-06-08T14:51:15.387861Z",
     "iopub.status.busy": "2023-06-08T14:51:15.387433Z",
     "iopub.status.idle": "2023-06-08T14:51:15.39881Z",
     "shell.execute_reply": "2023-06-08T14:51:15.397586Z",
     "shell.execute_reply.started": "2023-06-08T14:51:15.387821Z"
    },
    "id": "lFIZ299MPZGG",
    "outputId": "f66a7c7a-e86d-4925-f071-17590f293b5d"
   },
   "outputs": [
    {
     "name": "stdout",
     "output_type": "stream",
     "text": [
      "                                                Text Sentiment  \\\n",
      "0  During the period of falling in love, each tim...  Positive   \n",
      "1         When I was involved in a traffic accident.  Negative   \n",
      "2  When I was driving home after  several days of...  Negative   \n",
      "3   When I lost the person who meant the most to me.  Negative   \n",
      "4  The time I knocked a deer down - the sight of ...  Negative   \n",
      "\n",
      "                                    clean_tweet_text  \n",
      "0  period falling love time met especially met lo...  \n",
      "1                          involved traffic accident  \n",
      "2  driving home several day hard work motorist ah...  \n",
      "3                                  lost person meant  \n",
      "4  time knocked deer sight animal injury helpless...  \n"
     ]
    }
   ],
   "source": [
    "print(train_data.head())"
   ]
  },
  {
   "cell_type": "code",
   "execution_count": 8,
   "metadata": {
    "ExecuteTime": {
     "end_time": "2024-06-12T11:49:19.122427Z",
     "start_time": "2024-06-12T11:49:19.114427Z"
    },
    "execution": {
     "iopub.execute_input": "2023-06-08T14:51:20.566097Z",
     "iopub.status.busy": "2023-06-08T14:51:20.56572Z",
     "iopub.status.idle": "2023-06-08T14:51:20.574943Z",
     "shell.execute_reply": "2023-06-08T14:51:20.573839Z",
     "shell.execute_reply.started": "2023-06-08T14:51:20.566057Z"
    },
    "id": "FgRRUAEqaOeb"
   },
   "outputs": [],
   "source": [
    "train_data=train_data.drop([\"Text\"],axis=1)"
   ]
  },
  {
   "cell_type": "code",
   "execution_count": 9,
   "metadata": {
    "ExecuteTime": {
     "end_time": "2024-06-12T11:49:21.515839Z",
     "start_time": "2024-06-12T11:49:21.509840Z"
    },
    "execution": {
     "iopub.execute_input": "2023-06-08T14:51:20.577147Z",
     "iopub.status.busy": "2023-06-08T14:51:20.576837Z",
     "iopub.status.idle": "2023-06-08T14:51:20.590134Z",
     "shell.execute_reply": "2023-06-08T14:51:20.588981Z",
     "shell.execute_reply.started": "2023-06-08T14:51:20.577119Z"
    },
    "id": "gLDi1WypaOnG",
    "outputId": "022cbe18-5c8e-44aa-cef6-574105f4f31f"
   },
   "outputs": [
    {
     "data": {
      "text/html": [
       "<div>\n",
       "<style scoped>\n",
       "    .dataframe tbody tr th:only-of-type {\n",
       "        vertical-align: middle;\n",
       "    }\n",
       "\n",
       "    .dataframe tbody tr th {\n",
       "        vertical-align: top;\n",
       "    }\n",
       "\n",
       "    .dataframe thead th {\n",
       "        text-align: right;\n",
       "    }\n",
       "</style>\n",
       "<table border=\"1\" class=\"dataframe\">\n",
       "  <thead>\n",
       "    <tr style=\"text-align: right;\">\n",
       "      <th></th>\n",
       "      <th>Sentiment</th>\n",
       "      <th>clean_tweet_text</th>\n",
       "    </tr>\n",
       "  </thead>\n",
       "  <tbody>\n",
       "    <tr>\n",
       "      <th>0</th>\n",
       "      <td>Positive</td>\n",
       "      <td>period falling love time met especially met lo...</td>\n",
       "    </tr>\n",
       "    <tr>\n",
       "      <th>1</th>\n",
       "      <td>Negative</td>\n",
       "      <td>involved traffic accident</td>\n",
       "    </tr>\n",
       "    <tr>\n",
       "      <th>2</th>\n",
       "      <td>Negative</td>\n",
       "      <td>driving home several day hard work motorist ah...</td>\n",
       "    </tr>\n",
       "    <tr>\n",
       "      <th>3</th>\n",
       "      <td>Negative</td>\n",
       "      <td>lost person meant</td>\n",
       "    </tr>\n",
       "    <tr>\n",
       "      <th>4</th>\n",
       "      <td>Negative</td>\n",
       "      <td>time knocked deer sight animal injury helpless...</td>\n",
       "    </tr>\n",
       "  </tbody>\n",
       "</table>\n",
       "</div>"
      ],
      "text/plain": [
       "  Sentiment                                   clean_tweet_text\n",
       "0  Positive  period falling love time met especially met lo...\n",
       "1  Negative                          involved traffic accident\n",
       "2  Negative  driving home several day hard work motorist ah...\n",
       "3  Negative                                  lost person meant\n",
       "4  Negative  time knocked deer sight animal injury helpless..."
      ]
     },
     "execution_count": 9,
     "metadata": {},
     "output_type": "execute_result"
    }
   ],
   "source": [
    "train_data.head()"
   ]
  },
  {
   "cell_type": "code",
   "execution_count": 10,
   "metadata": {
    "ExecuteTime": {
     "end_time": "2024-06-12T11:49:23.721480Z",
     "start_time": "2024-06-12T11:49:23.716477Z"
    },
    "execution": {
     "iopub.execute_input": "2023-06-08T14:51:20.592181Z",
     "iopub.status.busy": "2023-06-08T14:51:20.591798Z",
     "iopub.status.idle": "2023-06-08T14:51:20.598076Z",
     "shell.execute_reply": "2023-06-08T14:51:20.596846Z",
     "shell.execute_reply.started": "2023-06-08T14:51:20.592142Z"
    },
    "id": "iIfp49hcbyhB"
   },
   "outputs": [],
   "source": [
    "max_len=128\n",
    "text_data=train_data[\"clean_tweet_text\"]\n",
    "label_data=train_data[\"Sentiment\"]"
   ]
  },
  {
   "cell_type": "markdown",
   "metadata": {
    "id": "qdaPVMYbbbbO"
   },
   "source": [
    "# roberta_tokenizer"
   ]
  },
  {
   "cell_type": "code",
   "execution_count": 11,
   "metadata": {
    "ExecuteTime": {
     "end_time": "2024-06-12T11:49:25.726813Z",
     "start_time": "2024-06-12T11:49:25.465488Z"
    },
    "execution": {
     "iopub.execute_input": "2023-06-08T14:51:20.610689Z",
     "iopub.status.busy": "2023-06-08T14:51:20.610246Z",
     "iopub.status.idle": "2023-06-08T14:51:25.541375Z",
     "shell.execute_reply": "2023-06-08T14:51:25.540311Z",
     "shell.execute_reply.started": "2023-06-08T14:51:20.610653Z"
    },
    "id": "RqTbI32waOtk"
   },
   "outputs": [],
   "source": [
    "roberta_tokenizer = RobertaTokenizer.from_pretrained(\"roberta-base\")"
   ]
  },
  {
   "cell_type": "markdown",
   "metadata": {
    "id": "5n7J2DqbbjBT"
   },
   "source": [
    "# roberta_model"
   ]
  },
  {
   "cell_type": "code",
   "execution_count": 12,
   "metadata": {
    "ExecuteTime": {
     "end_time": "2024-06-12T11:49:29.614309Z",
     "start_time": "2024-06-12T11:49:29.600301Z"
    }
   },
   "outputs": [
    {
     "name": "stdout",
     "output_type": "stream",
     "text": [
      "tf.Tensor(969.34467, shape=(), dtype=float32)\n"
     ]
    }
   ],
   "source": [
    "import tensorflow as tf\n",
    "print(tf.reduce_sum(tf.random.normal([1000, 1000])))"
   ]
  },
  {
   "cell_type": "code",
   "execution_count": 13,
   "metadata": {
    "ExecuteTime": {
     "end_time": "2024-06-12T11:57:09.376759Z",
     "start_time": "2024-06-12T11:56:24.432392Z"
    },
    "execution": {
     "iopub.execute_input": "2023-06-08T14:51:25.543545Z",
     "iopub.status.busy": "2023-06-08T14:51:25.54285Z",
     "iopub.status.idle": "2023-06-08T14:51:54.528313Z",
     "shell.execute_reply": "2023-06-08T14:51:54.527226Z",
     "shell.execute_reply.started": "2023-06-08T14:51:25.543503Z"
    },
    "id": "D4AugOATaO0f",
    "outputId": "5ff24a49-842f-408e-9695-da1838840e9f"
   },
   "outputs": [
    {
     "name": "stderr",
     "output_type": "stream",
     "text": [
      "Some weights of the PyTorch model were not used when initializing the TF 2.0 model TFRobertaModel: ['lm_head.dense.bias', 'lm_head.bias', 'lm_head.layer_norm.weight', 'lm_head.layer_norm.bias', 'lm_head.dense.weight', 'roberta.embeddings.position_ids']\n",
      "- This IS expected if you are initializing TFRobertaModel from a PyTorch model trained on another task or with another architecture (e.g. initializing a TFBertForSequenceClassification model from a BertForPreTraining model).\n",
      "- This IS NOT expected if you are initializing TFRobertaModel from a PyTorch model that you expect to be exactly identical (e.g. initializing a TFBertForSequenceClassification model from a BertForSequenceClassification model).\n",
      "Some weights or buffers of the TF 2.0 model TFRobertaModel were not initialized from the PyTorch model and are newly initialized: ['roberta.pooler.dense.weight', 'roberta.pooler.dense.bias']\n",
      "You should probably TRAIN this model on a down-stream task to be able to use it for predictions and inference.\n"
     ]
    }
   ],
   "source": [
    "roberta_model = TFRobertaModel.from_pretrained(\"roberta-base\")"
   ]
  },
  {
   "cell_type": "markdown",
   "metadata": {
    "id": "Gg_dnb_7nMXe"
   },
   "source": [
    "# Sample Text"
   ]
  },
  {
   "cell_type": "code",
   "execution_count": 14,
   "metadata": {
    "ExecuteTime": {
     "end_time": "2024-06-12T11:57:30.682821Z",
     "start_time": "2024-06-12T11:57:30.669815Z"
    },
    "execution": {
     "iopub.execute_input": "2023-06-08T14:51:54.530782Z",
     "iopub.status.busy": "2023-06-08T14:51:54.529806Z",
     "iopub.status.idle": "2023-06-08T14:51:54.56176Z",
     "shell.execute_reply": "2023-06-08T14:51:54.56067Z",
     "shell.execute_reply.started": "2023-06-08T14:51:54.530737Z"
    },
    "id": "PR-jLsKJaPCy",
    "outputId": "58d8325a-dfa0-420c-b289-2b323223b58c"
   },
   "outputs": [
    {
     "data": {
      "text/plain": [
       "'somebody know well discovered told lie'"
      ]
     },
     "execution_count": 14,
     "metadata": {},
     "output_type": "execute_result"
    }
   ],
   "source": [
    "text_data[1300]"
   ]
  },
  {
   "cell_type": "code",
   "execution_count": 15,
   "metadata": {
    "ExecuteTime": {
     "end_time": "2024-06-12T11:57:31.424552Z",
     "start_time": "2024-06-12T11:57:31.413032Z"
    },
    "execution": {
     "iopub.execute_input": "2023-06-08T14:51:54.563939Z",
     "iopub.status.busy": "2023-06-08T14:51:54.563496Z",
     "iopub.status.idle": "2023-06-08T14:51:56.152577Z",
     "shell.execute_reply": "2023-06-08T14:51:56.151382Z",
     "shell.execute_reply.started": "2023-06-08T14:51:54.563899Z"
    },
    "id": "FGGUFczEaPMb",
    "outputId": "718d54a0-6963-4b6b-acd4-19e24fd9e841"
   },
   "outputs": [],
   "source": [
    "encode_data=roberta_tokenizer.encode_plus(text_data[1300],add_special_tokens = True,max_length =40,pad_to_max_length = True,truncation=True)"
   ]
  },
  {
   "cell_type": "code",
   "execution_count": 16,
   "metadata": {
    "ExecuteTime": {
     "end_time": "2024-06-12T11:57:32.150622Z",
     "start_time": "2024-06-12T11:57:32.137597Z"
    },
    "execution": {
     "iopub.execute_input": "2023-06-08T14:51:56.154582Z",
     "iopub.status.busy": "2023-06-08T14:51:56.154195Z",
     "iopub.status.idle": "2023-06-08T14:51:56.165647Z",
     "shell.execute_reply": "2023-06-08T14:51:56.164357Z",
     "shell.execute_reply.started": "2023-06-08T14:51:56.154551Z"
    },
    "id": "c1BKS6huPZf_",
    "outputId": "11aec23f-8385-4ab6-b250-1c6f64590815"
   },
   "outputs": [
    {
     "data": {
      "text/plain": [
       "{'input_ids': [0, 12465, 9773, 216, 157, 2967, 174, 6105, 2, 1, 1, 1, 1, 1, 1, 1, 1, 1, 1, 1, 1, 1, 1, 1, 1, 1, 1, 1, 1, 1, 1, 1, 1, 1, 1, 1, 1, 1, 1, 1], 'attention_mask': [1, 1, 1, 1, 1, 1, 1, 1, 1, 0, 0, 0, 0, 0, 0, 0, 0, 0, 0, 0, 0, 0, 0, 0, 0, 0, 0, 0, 0, 0, 0, 0, 0, 0, 0, 0, 0, 0, 0, 0]}"
      ]
     },
     "execution_count": 16,
     "metadata": {},
     "output_type": "execute_result"
    }
   ],
   "source": [
    "encode_data"
   ]
  },
  {
   "cell_type": "code",
   "execution_count": 17,
   "metadata": {
    "ExecuteTime": {
     "end_time": "2024-06-12T12:10:20.758319Z",
     "start_time": "2024-06-12T12:10:20.705148Z"
    },
    "execution": {
     "iopub.execute_input": "2023-06-08T14:51:56.168314Z",
     "iopub.status.busy": "2023-06-08T14:51:56.167868Z",
     "iopub.status.idle": "2023-06-08T14:51:56.299654Z",
     "shell.execute_reply": "2023-06-08T14:51:56.298658Z",
     "shell.execute_reply.started": "2023-06-08T14:51:56.168272Z"
    },
    "id": "e9Oul71epI0R",
    "outputId": "1f630b50-9a89-41a5-f532-1ab78cca25fd",
    "scrolled": true
   },
   "outputs": [],
   "source": [
    "test_input_id=np.asarray(encode_data['input_ids'])\n",
    "test_attention_mask=np.asarray(encode_data['attention_mask'])\n"
   ]
  },
  {
   "cell_type": "code",
   "execution_count": 18,
   "metadata": {},
   "outputs": [
    {
     "name": "stdout",
     "output_type": "stream",
     "text": [
      "(40,)\n",
      "(40,)\n",
      "(1, 40)\n"
     ]
    }
   ],
   "source": [
    "print(test_input_id.shape)\n",
    "print(test_attention_mask.shape)\n",
    "\n",
    "print(test_attention_mask.reshape(1,-1).shape)"
   ]
  },
  {
   "cell_type": "code",
   "execution_count": 19,
   "metadata": {
    "scrolled": true
   },
   "outputs": [
    {
     "name": "stdout",
     "output_type": "stream",
     "text": [
      "Requirement already satisfied: transformers in c:\\users\\alexh\\miniconda3\\lib\\site-packages (4.41.2)\n",
      "Requirement already satisfied: filelock in c:\\users\\alexh\\miniconda3\\lib\\site-packages (from transformers) (3.14.0)\n",
      "Requirement already satisfied: huggingface-hub<1.0,>=0.23.0 in c:\\users\\alexh\\miniconda3\\lib\\site-packages (from transformers) (0.23.3)\n",
      "Requirement already satisfied: numpy>=1.17 in c:\\users\\alexh\\miniconda3\\lib\\site-packages (from transformers) (1.26.4)\n",
      "Requirement already satisfied: packaging>=20.0 in c:\\users\\alexh\\miniconda3\\lib\\site-packages (from transformers) (23.2)\n",
      "Requirement already satisfied: pyyaml>=5.1 in c:\\users\\alexh\\miniconda3\\lib\\site-packages (from transformers) (6.0.1)\n",
      "Requirement already satisfied: regex!=2019.12.17 in c:\\users\\alexh\\miniconda3\\lib\\site-packages (from transformers) (2024.5.15)\n",
      "Requirement already satisfied: requests in c:\\users\\alexh\\miniconda3\\lib\\site-packages (from transformers) (2.31.0)\n",
      "Requirement already satisfied: tokenizers<0.20,>=0.19 in c:\\users\\alexh\\miniconda3\\lib\\site-packages (from transformers) (0.19.1)\n",
      "Requirement already satisfied: safetensors>=0.4.1 in c:\\users\\alexh\\miniconda3\\lib\\site-packages (from transformers) (0.4.3)\n",
      "Requirement already satisfied: tqdm>=4.27 in c:\\users\\alexh\\miniconda3\\lib\\site-packages (from transformers) (4.65.0)\n",
      "Requirement already satisfied: fsspec>=2023.5.0 in c:\\users\\alexh\\miniconda3\\lib\\site-packages (from huggingface-hub<1.0,>=0.23.0->transformers) (2024.6.0)\n",
      "Requirement already satisfied: typing-extensions>=3.7.4.3 in c:\\users\\alexh\\miniconda3\\lib\\site-packages (from huggingface-hub<1.0,>=0.23.0->transformers) (4.11.0)\n",
      "Requirement already satisfied: colorama in c:\\users\\alexh\\miniconda3\\lib\\site-packages (from tqdm>=4.27->transformers) (0.4.6)\n",
      "Requirement already satisfied: charset-normalizer<4,>=2 in c:\\users\\alexh\\miniconda3\\lib\\site-packages (from requests->transformers) (2.0.4)\n",
      "Requirement already satisfied: idna<4,>=2.5 in c:\\users\\alexh\\miniconda3\\lib\\site-packages (from requests->transformers) (3.4)\n",
      "Requirement already satisfied: urllib3<3,>=1.21.1 in c:\\users\\alexh\\miniconda3\\lib\\site-packages (from requests->transformers) (2.1.0)\n",
      "Requirement already satisfied: certifi>=2017.4.17 in c:\\users\\alexh\\miniconda3\\lib\\site-packages (from requests->transformers) (2024.6.2)\n",
      "Note: you may need to restart the kernel to use updated packages.\n"
     ]
    }
   ],
   "source": [
    "pip install transformers"
   ]
  },
  {
   "cell_type": "code",
   "execution_count": 20,
   "metadata": {},
   "outputs": [],
   "source": [
    "import transformers"
   ]
  },
  {
   "cell_type": "code",
   "execution_count": 21,
   "metadata": {},
   "outputs": [
    {
     "name": "stdout",
     "output_type": "stream",
     "text": [
      "True\n"
     ]
    }
   ],
   "source": [
    "print(isinstance(roberta_model, transformers.TFRobertaModel))  # Should return True\n"
   ]
  },
  {
   "cell_type": "code",
   "execution_count": 22,
   "metadata": {},
   "outputs": [
    {
     "data": {
      "text/plain": [
       "transformers.modeling_tf_outputs.TFBaseModelOutputWithPoolingAndCrossAttentions"
      ]
     },
     "execution_count": 22,
     "metadata": {},
     "output_type": "execute_result"
    }
   ],
   "source": [
    "output_data=roberta_model([test_input_id.reshape(1,-1),test_attention_mask.reshape(1,-1)])\n",
    "\n",
    "type(output_data)"
   ]
  },
  {
   "cell_type": "code",
   "execution_count": 23,
   "metadata": {
    "execution": {
     "iopub.execute_input": "2023-06-08T14:51:56.301902Z",
     "iopub.status.busy": "2023-06-08T14:51:56.301455Z",
     "iopub.status.idle": "2023-06-08T14:51:56.325282Z",
     "shell.execute_reply": "2023-06-08T14:51:56.324114Z",
     "shell.execute_reply.started": "2023-06-08T14:51:56.301857Z"
    },
    "id": "brkCVXRYpJdE",
    "outputId": "2017c028-dc99-45d5-8129-b1b4f3f057a2"
   },
   "outputs": [
    {
     "data": {
      "text/plain": [
       "TFBaseModelOutputWithPoolingAndCrossAttentions(last_hidden_state=<tf.Tensor: shape=(1, 40, 768), dtype=float32, numpy=\n",
       "array([[[-0.05656375,  0.05431781, -0.01716923, ..., -0.06862339,\n",
       "         -0.06087324, -0.01663019],\n",
       "        [-0.22868943, -0.23910716, -0.01222507, ...,  0.29204032,\n",
       "         -0.04429658,  0.17198972],\n",
       "        [ 0.09318247, -0.10966877, -0.2640286 , ..., -0.12940614,\n",
       "         -0.03594225,  0.06795804],\n",
       "        ...,\n",
       "        [-0.07438122, -0.10028975, -0.01777137, ..., -0.18840905,\n",
       "         -0.06338486,  0.05056664],\n",
       "        [-0.07438122, -0.10028975, -0.01777137, ..., -0.18840905,\n",
       "         -0.06338486,  0.05056664],\n",
       "        [-0.07438122, -0.10028975, -0.01777137, ..., -0.18840905,\n",
       "         -0.06338486,  0.05056664]]], dtype=float32)>, pooler_output=<tf.Tensor: shape=(1, 768), dtype=float32, numpy=\n",
       "array([[-0.32167432, -0.26477838, -0.01329902, -0.20126598, -0.15743142,\n",
       "        -0.16728404, -0.24815425,  0.2930095 , -0.14245425,  0.02399181,\n",
       "        -0.11459146, -0.06372134, -0.03724015, -0.16152427, -0.09690198,\n",
       "         0.20965028, -0.10755228,  0.33006868, -0.06809669, -0.02512764,\n",
       "        -0.32249206, -0.0114901 , -0.17922056, -0.23292397, -0.18900435,\n",
       "         0.24186847, -0.0332224 ,  0.1161871 , -0.12177765, -0.25754887,\n",
       "         0.03065462,  0.2198163 ,  0.10416796, -0.06271773, -0.00812073,\n",
       "        -0.18515633,  0.05368854, -0.02289023, -0.1609634 , -0.02165774,\n",
       "         0.24669923,  0.11669888,  0.14676076, -0.03825335, -0.11509654,\n",
       "         0.03604849,  0.30456504, -0.02690644,  0.01533708, -0.03783908,\n",
       "         0.3094996 ,  0.30344132, -0.26816055, -0.13161932, -0.29678908,\n",
       "        -0.03539066,  0.2912939 ,  0.08053725, -0.02929494, -0.26743597,\n",
       "        -0.23921646,  0.3507241 , -0.26201183, -0.05406592, -0.24890336,\n",
       "         0.07657178,  0.24350551,  0.15115523,  0.09839174, -0.12801334,\n",
       "        -0.2332223 ,  0.11846021, -0.12809594,  0.22250627,  0.36005837,\n",
       "         0.10671053,  0.08510327,  0.04386906, -0.01137411, -0.00192582,\n",
       "         0.27233753,  0.00847762,  0.02421648, -0.10024071,  0.35961047,\n",
       "        -0.2837523 , -0.18257244, -0.26424575,  0.14509602, -0.08406139,\n",
       "         0.00659238,  0.02924876,  0.17396365,  0.05304491, -0.17536354,\n",
       "        -0.24492042, -0.20731895, -0.21504875,  0.2997247 , -0.09011847,\n",
       "         0.06549573,  0.3780699 ,  0.05189477,  0.08664421,  0.10000834,\n",
       "        -0.10577988,  0.1750274 ,  0.090244  ,  0.31076828,  0.1316252 ,\n",
       "         0.11481316,  0.01458809,  0.34152034,  0.05980584,  0.25360537,\n",
       "         0.00499534,  0.46006086, -0.28269655, -0.10090386,  0.34803706,\n",
       "        -0.27750322, -0.0407794 , -0.38270122, -0.05019207,  0.15767047,\n",
       "         0.20274515,  0.22120477, -0.35235924,  0.08414213, -0.28796205,\n",
       "         0.00258567, -0.06431215, -0.00393494, -0.14939933,  0.16951588,\n",
       "         0.15670481, -0.2050236 ,  0.06078518,  0.08008041,  0.16595836,\n",
       "         0.22126143,  0.02525715, -0.00083082, -0.05932552,  0.09841807,\n",
       "        -0.18343855, -0.01439996, -0.28821406,  0.24797253,  0.24066602,\n",
       "         0.14031693,  0.11577526,  0.05288143, -0.18619049,  0.30587837,\n",
       "        -0.2799334 , -0.10245015,  0.01933764,  0.28744966,  0.18802881,\n",
       "        -0.15643856,  0.13547607, -0.17434363,  0.09333485, -0.11876444,\n",
       "        -0.24789868, -0.10917037,  0.18984473,  0.00580108,  0.16645782,\n",
       "         0.27732533,  0.14802852,  0.15408058, -0.19168133, -0.086168  ,\n",
       "         0.03804561,  0.05210382, -0.3745659 , -0.13243948, -0.12109498,\n",
       "         0.10663661, -0.14824487, -0.01889976, -0.00338185,  0.01297734,\n",
       "         0.34374464,  0.26586607, -0.09421511,  0.27933246, -0.09430082,\n",
       "         0.23429306, -0.22587904,  0.21768768, -0.07101183, -0.21641658,\n",
       "        -0.23483056, -0.19731595,  0.14766161, -0.08925044,  0.14066058,\n",
       "         0.04960357,  0.03067543, -0.18562263, -0.3318081 , -0.05920812,\n",
       "        -0.10330006, -0.06842954, -0.1593047 ,  0.09452432, -0.15550324,\n",
       "         0.0409524 , -0.38671187, -0.36466047, -0.03597954,  0.06632509,\n",
       "         0.07250932, -0.0896809 ,  0.05875007, -0.18705854,  0.28996012,\n",
       "         0.13009107, -0.05668203, -0.05113852, -0.07985333, -0.27340046,\n",
       "        -0.07541899,  0.1363856 , -0.27210236, -0.38295776, -0.25337252,\n",
       "         0.09417813,  0.07213905, -0.26475993, -0.22687337, -0.03757612,\n",
       "         0.19508131,  0.07134912,  0.10997293, -0.23729886, -0.10518054,\n",
       "         0.2727569 , -0.09581354,  0.09135203,  0.09419727, -0.1450677 ,\n",
       "        -0.18121457,  0.0452831 , -0.36215994, -0.03397758,  0.12754582,\n",
       "        -0.3952347 ,  0.28244397,  0.26732782, -0.25596917,  0.03769495,\n",
       "         0.30969295, -0.12321465,  0.13589309, -0.03223946, -0.01899502,\n",
       "         0.35111472, -0.2639679 , -0.08880143, -0.01806161, -0.3365487 ,\n",
       "         0.18531187, -0.19453266, -0.26228485, -0.17065091,  0.1861269 ,\n",
       "        -0.05102627, -0.04166775, -0.03073067, -0.06725003,  0.36364526,\n",
       "        -0.21307547,  0.09522638,  0.03749127,  0.28159168,  0.08962577,\n",
       "         0.0649529 ,  0.37142482, -0.02121493,  0.10777545,  0.05642568,\n",
       "        -0.15596725,  0.2047078 , -0.1370357 , -0.0811696 ,  0.00611402,\n",
       "         0.29265907,  0.17320414,  0.32801336,  0.00143074, -0.11150222,\n",
       "        -0.24680537,  0.33869618,  0.37982732,  0.19573303,  0.19843845,\n",
       "         0.19751957,  0.19436307,  0.39644766,  0.02055016, -0.1025277 ,\n",
       "         0.07123955,  0.05155649,  0.1336367 , -0.10578346, -0.04866563,\n",
       "         0.07142919,  0.10353976, -0.28006545, -0.03519326,  0.0447295 ,\n",
       "         0.20378573, -0.12412615, -0.39189097, -0.20544162, -0.00098273,\n",
       "         0.2584385 , -0.20461468,  0.2262236 , -0.19904722, -0.30591983,\n",
       "         0.08978333, -0.3595147 ,  0.08846667, -0.08346322,  0.28794596,\n",
       "        -0.12486563, -0.05480289, -0.11058036,  0.08488779, -0.03564683,\n",
       "        -0.03193086, -0.22923787, -0.18594618,  0.0171028 ,  0.07029733,\n",
       "         0.24875343,  0.17433043,  0.01468618,  0.16235843,  0.04891868,\n",
       "        -0.10987217,  0.14279534, -0.05440889,  0.04172028,  0.03646016,\n",
       "        -0.0896638 ,  0.09483538,  0.22140522, -0.21692456, -0.16534564,\n",
       "        -0.14833312, -0.36008427, -0.01020585,  0.20390555,  0.05870488,\n",
       "        -0.22275463,  0.12974204, -0.22303383,  0.08564062,  0.0692533 ,\n",
       "        -0.13497481,  0.21829784, -0.07608455, -0.10458741,  0.3147169 ,\n",
       "         0.03343739,  0.05252582,  0.10712741, -0.04203112,  0.04897622,\n",
       "        -0.22285864, -0.07272046, -0.20425452, -0.08935276,  0.3367372 ,\n",
       "         0.0387351 , -0.09541804,  0.21556263,  0.21456483, -0.20670664,\n",
       "        -0.21706921,  0.14837271,  0.24292648, -0.11755508,  0.26032546,\n",
       "        -0.05481573, -0.07038416, -0.1462995 ,  0.10520743,  0.05433896,\n",
       "         0.02657819,  0.08353332, -0.24543382,  0.24044691, -0.22255392,\n",
       "        -0.04554665, -0.05975597, -0.10888875,  0.15211412,  0.32800364,\n",
       "        -0.10506909,  0.21556124,  0.15102729,  0.2346594 , -0.01024963,\n",
       "        -0.01722161,  0.01467011,  0.02051246,  0.13970588, -0.00791043,\n",
       "         0.27413845, -0.2789702 , -0.03978847, -0.14372867,  0.32937023,\n",
       "         0.01099604, -0.20417798, -0.3737188 , -0.07573787, -0.03239568,\n",
       "         0.35326928,  0.2602842 ,  0.3005285 ,  0.21076685, -0.1696453 ,\n",
       "         0.00088858,  0.20345734,  0.04978822, -0.08720391, -0.09110177,\n",
       "        -0.2977403 ,  0.33587185,  0.17921798,  0.04059344, -0.26750597,\n",
       "         0.01832122, -0.20145276, -0.215949  , -0.09873497, -0.29635257,\n",
       "         0.02347406, -0.15850088,  0.22095636, -0.1125012 , -0.05914535,\n",
       "         0.15117195,  0.1062865 ,  0.13050069, -0.13775492,  0.05146378,\n",
       "        -0.17241119,  0.10983603, -0.06758084, -0.02855449, -0.01586364,\n",
       "        -0.12289845, -0.09782185,  0.070787  ,  0.01428034, -0.05491317,\n",
       "        -0.10888948,  0.17754509, -0.1328231 , -0.10336196,  0.1465891 ,\n",
       "         0.3684403 , -0.16150199, -0.16994429, -0.10453434, -0.3363345 ,\n",
       "        -0.15987489, -0.13456208,  0.27976242,  0.13078186,  0.259265  ,\n",
       "        -0.03092723,  0.100498  ,  0.02668498, -0.31820345, -0.2870647 ,\n",
       "         0.02162586,  0.19282979,  0.27999002,  0.3134645 , -0.02313381,\n",
       "        -0.06686744,  0.24161932,  0.19840905, -0.26377448, -0.06433481,\n",
       "         0.2192426 , -0.03227698, -0.09103117, -0.25654727,  0.3045834 ,\n",
       "         0.2861114 , -0.02802457,  0.21454632, -0.06537034, -0.14721818,\n",
       "        -0.18659177,  0.08890715,  0.22600064,  0.052981  ,  0.11975818,\n",
       "        -0.451572  , -0.03091091,  0.28921372,  0.26906818, -0.0504646 ,\n",
       "         0.02030732, -0.21113811, -0.15335536,  0.30267066,  0.10781119,\n",
       "         0.17650083, -0.24740396, -0.36335963, -0.00249751,  0.23160568,\n",
       "         0.27072617, -0.27767348, -0.16797282,  0.27031583,  0.13818741,\n",
       "         0.3863316 , -0.04822535,  0.1664001 , -0.16842932,  0.24453712,\n",
       "         0.10702971, -0.16662684,  0.1370949 ,  0.0217268 , -0.00539503,\n",
       "         0.1356566 ,  0.27413926,  0.18051966,  0.25369123,  0.1096627 ,\n",
       "         0.22329476,  0.29050475, -0.24140634, -0.15315062,  0.1691368 ,\n",
       "        -0.26806414,  0.34584326,  0.01369437, -0.19358793, -0.16419055,\n",
       "        -0.29215258,  0.15862979,  0.05649368,  0.01574097,  0.31056133,\n",
       "         0.23981592, -0.00787177, -0.19781293, -0.11935939, -0.43739903,\n",
       "         0.03260443,  0.35530308,  0.13826631,  0.01017142, -0.05740898,\n",
       "         0.3340152 ,  0.17770831,  0.083237  , -0.10577815,  0.18390462,\n",
       "        -0.24655105, -0.11594252, -0.385643  ,  0.02046823,  0.13013345,\n",
       "        -0.26956797, -0.24729522,  0.04287919, -0.03918831,  0.35673895,\n",
       "         0.04391052,  0.05827836,  0.08975151,  0.1080534 , -0.21041209,\n",
       "        -0.06344661, -0.03690596, -0.07390867, -0.2693595 ,  0.3372241 ,\n",
       "         0.23493731, -0.15697347, -0.26587132,  0.06661321, -0.27122378,\n",
       "        -0.10900935,  0.2548644 , -0.03465863, -0.3500712 ,  0.11633334,\n",
       "        -0.3521944 ,  0.15952666,  0.19344938,  0.25614038,  0.02832773,\n",
       "        -0.0962052 , -0.02672016,  0.04982273, -0.1014085 ,  0.1770931 ,\n",
       "        -0.12379361,  0.0049815 ,  0.05093931, -0.05361459, -0.18921357,\n",
       "         0.2284685 , -0.27782336,  0.07321122,  0.04344264, -0.09612069,\n",
       "        -0.3145743 ,  0.12083983,  0.43702948,  0.14907144, -0.34258816,\n",
       "        -0.01898855, -0.02172065, -0.00258439,  0.28429785,  0.2884683 ,\n",
       "         0.10192638,  0.13064569,  0.11711609,  0.22487761,  0.00821944,\n",
       "        -0.00445708,  0.07513722,  0.09965112,  0.12707528,  0.09627183,\n",
       "         0.29320282, -0.34127218,  0.26477563,  0.37151527, -0.08306573,\n",
       "        -0.18234304, -0.093505  ,  0.04564068,  0.12451946,  0.00280832,\n",
       "         0.08571875,  0.22785687,  0.13278778, -0.28215444, -0.09190765,\n",
       "         0.3675937 , -0.09444164, -0.04378669, -0.19070508, -0.39731693,\n",
       "         0.15196866, -0.1014048 ,  0.05605702,  0.15862717, -0.15035413,\n",
       "        -0.03920656,  0.38598898,  0.01343993,  0.01146366, -0.0528898 ,\n",
       "         0.0441838 ,  0.04780535, -0.33079216,  0.31841516, -0.0109121 ,\n",
       "        -0.14741234, -0.14127734,  0.15717295,  0.35639024, -0.37947097,\n",
       "        -0.1270231 , -0.08516757,  0.25966898,  0.16069199, -0.05466569,\n",
       "         0.24472302, -0.2755656 ,  0.17925632, -0.1927326 , -0.30998117,\n",
       "        -0.13246082,  0.25464854,  0.0656528 ,  0.00408854,  0.3553331 ,\n",
       "         0.19459492,  0.03286838, -0.1922123 , -0.04883797, -0.11915608,\n",
       "        -0.2001127 ,  0.22232082, -0.01712637, -0.24969137,  0.16314344,\n",
       "         0.22317483,  0.05981116, -0.19194442,  0.0129791 ,  0.04122739,\n",
       "        -0.04123222,  0.39996892, -0.01295395, -0.01197612,  0.39855635,\n",
       "        -0.1526222 , -0.06188769, -0.23364414,  0.12085926,  0.14550912,\n",
       "         0.23645589,  0.26473635, -0.22515674, -0.03570025, -0.06344535,\n",
       "        -0.09691577, -0.08247399, -0.33599696,  0.14095797, -0.17941286,\n",
       "        -0.09345837, -0.27696407,  0.21821454, -0.08404286, -0.12963624,\n",
       "        -0.3624771 ,  0.23392034, -0.08511777,  0.12675913, -0.04223596,\n",
       "         0.09670294,  0.1571997 ,  0.06928951,  0.00377246, -0.31276745,\n",
       "         0.02816806, -0.12890527, -0.27015626, -0.15058698,  0.14265184,\n",
       "        -0.00502877, -0.12001222,  0.03615484,  0.274491  ,  0.03972317,\n",
       "         0.16081323,  0.14521977,  0.17483106,  0.17782047, -0.03133459,\n",
       "        -0.05902994,  0.12252093, -0.17220902]], dtype=float32)>, past_key_values=None, hidden_states=None, attentions=None, cross_attentions=None)"
      ]
     },
     "execution_count": 23,
     "metadata": {},
     "output_type": "execute_result"
    }
   ],
   "source": [
    "output_data"
   ]
  },
  {
   "cell_type": "code",
   "execution_count": 24,
   "metadata": {
    "execution": {
     "iopub.execute_input": "2023-06-08T14:51:56.327408Z",
     "iopub.status.busy": "2023-06-08T14:51:56.326996Z",
     "iopub.status.idle": "2023-06-08T14:51:57.532854Z",
     "shell.execute_reply": "2023-06-08T14:51:57.531656Z",
     "shell.execute_reply.started": "2023-06-08T14:51:56.327368Z"
    },
    "id": "laNnYyo1pJhj",
    "outputId": "8a88369f-8a42-4ebb-da2c-dfc067863395"
   },
   "outputs": [
    {
     "data": {
      "text/plain": [
       "'<s>somebody know well discovered told lie</s><pad><pad><pad><pad><pad><pad><pad><pad><pad><pad><pad><pad><pad><pad><pad><pad><pad><pad><pad><pad><pad><pad><pad><pad><pad><pad><pad><pad><pad><pad><pad>'"
      ]
     },
     "execution_count": 24,
     "metadata": {},
     "output_type": "execute_result"
    }
   ],
   "source": [
    "roberta_tokenizer.decode(encode_data[\"input_ids\"])"
   ]
  },
  {
   "cell_type": "code",
   "execution_count": 25,
   "metadata": {
    "execution": {
     "iopub.execute_input": "2023-06-08T14:51:57.535843Z",
     "iopub.status.busy": "2023-06-08T14:51:57.53455Z",
     "iopub.status.idle": "2023-06-08T14:51:57.541252Z",
     "shell.execute_reply": "2023-06-08T14:51:57.540023Z",
     "shell.execute_reply.started": "2023-06-08T14:51:57.53579Z"
    },
    "id": "uuM-HefYpJl8"
   },
   "outputs": [],
   "source": [
    "final_text_data=train_data[\"clean_tweet_text\"]\n",
    "final_label_data=np.array(label_data)"
   ]
  },
  {
   "cell_type": "code",
   "execution_count": 26,
   "metadata": {},
   "outputs": [],
   "source": [
    "#new_final_label_data = np.array([0 if label==\"Negative\" else 1 if label==\"neutral\" else 2 for label in label_data])"
   ]
  },
  {
   "cell_type": "code",
   "execution_count": 27,
   "metadata": {},
   "outputs": [],
   "source": [
    "new_final_label_data = np.array([0 if label==\"Negative\" else 1 for label in label_data])"
   ]
  },
  {
   "cell_type": "code",
   "execution_count": 28,
   "metadata": {
    "scrolled": true
   },
   "outputs": [
    {
     "name": "stdout",
     "output_type": "stream",
     "text": [
      "[1 0 0 0 0 0 0 1 0 0 0 0 0 0 1 0 0 0 0 0 0 1 0 0 0]\n"
     ]
    }
   ],
   "source": [
    "print(new_final_label_data[:25])"
   ]
  },
  {
   "cell_type": "code",
   "execution_count": 29,
   "metadata": {
    "execution": {
     "iopub.execute_input": "2023-06-08T14:51:57.544417Z",
     "iopub.status.busy": "2023-06-08T14:51:57.543425Z",
     "iopub.status.idle": "2023-06-08T14:51:57.553051Z",
     "shell.execute_reply": "2023-06-08T14:51:57.552055Z",
     "shell.execute_reply.started": "2023-06-08T14:51:57.544377Z"
    },
    "id": "DCRWV-gRpJq2"
   },
   "outputs": [],
   "source": [
    "def roberta_encode(final_text_data,max_len):\n",
    "    input_ids=[]\n",
    "    attention_masks=[]\n",
    "    \n",
    "    for i in range(len(final_text_data)):\n",
    "        encode_data=roberta_tokenizer.encode_plus(final_text_data[i],add_special_tokens=True,max_length=max_len,pad_to_max_length=True,return_attention_mask=True)\n",
    "        input_ids.append(encode_data['input_ids'])\n",
    "        attention_masks.append(encode_data[\"attention_mask\"])\n",
    "    return np.array(input_ids),np.array(attention_masks)\n",
    "        "
   ]
  },
  {
   "cell_type": "code",
   "execution_count": 30,
   "metadata": {
    "execution": {
     "iopub.execute_input": "2023-06-08T14:51:57.555447Z",
     "iopub.status.busy": "2023-06-08T14:51:57.555Z",
     "iopub.status.idle": "2023-06-08T14:52:11.360111Z",
     "shell.execute_reply": "2023-06-08T14:52:11.358978Z",
     "shell.execute_reply.started": "2023-06-08T14:51:57.555398Z"
    },
    "id": "CZ5nCIlapJur",
    "outputId": "d26e651a-717c-49ab-cb95-64ca55801455"
   },
   "outputs": [
    {
     "name": "stderr",
     "output_type": "stream",
     "text": [
      "Truncation was not explicitly activated but `max_length` is provided a specific value, please use `truncation=True` to explicitly truncate examples to max length. Defaulting to 'longest_first' truncation strategy. If you encode pairs of sequences (GLUE-style) with the tokenizer you can select this strategy more precisely by providing a specific strategy to `truncation`.\n"
     ]
    }
   ],
   "source": [
    "text_input_ids,text_attention_masks = roberta_encode(final_text_data,max_len)"
   ]
  },
  {
   "cell_type": "code",
   "execution_count": 31,
   "metadata": {
    "execution": {
     "iopub.execute_input": "2023-06-08T14:52:11.362244Z",
     "iopub.status.busy": "2023-06-08T14:52:11.361866Z",
     "iopub.status.idle": "2023-06-08T14:52:11.372515Z",
     "shell.execute_reply": "2023-06-08T14:52:11.3713Z",
     "shell.execute_reply.started": "2023-06-08T14:52:11.362204Z"
    },
    "id": "ovMvAGgApJyB",
    "outputId": "361426d8-a9b9-466e-890d-eee27269530e"
   },
   "outputs": [
    {
     "name": "stdout",
     "output_type": "stream",
     "text": [
      "Text Input Ids Shape (7480, 128) \n",
      "Text Input Attention Mask Shape (7480, 128) \n",
      "Label Data shape (7480,)\n"
     ]
    }
   ],
   "source": [
    "print('Text Input Ids Shape {} \\nText Input Attention Mask Shape {} \\nLabel Data shape {}'.format(text_input_ids.shape,text_attention_masks.shape,new_final_label_data.shape))"
   ]
  },
  {
   "cell_type": "code",
   "execution_count": 32,
   "metadata": {
    "execution": {
     "iopub.execute_input": "2023-06-08T14:52:11.375539Z",
     "iopub.status.busy": "2023-06-08T14:52:11.37423Z",
     "iopub.status.idle": "2023-06-08T14:52:11.404837Z",
     "shell.execute_reply": "2023-06-08T14:52:11.403658Z",
     "shell.execute_reply.started": "2023-06-08T14:52:11.375496Z"
    },
    "id": "UKIjDuMspJ1g"
   },
   "outputs": [],
   "source": [
    "X_train_input,X_test_input,Y_train_label,Y_test_label,train_mask,test_mask=train_test_split(text_input_ids,new_final_label_data,text_attention_masks,test_size=0.9,random_state=42,shuffle=True)"
   ]
  },
  {
   "cell_type": "code",
   "execution_count": 33,
   "metadata": {
    "execution": {
     "iopub.execute_input": "2023-06-08T14:52:11.409319Z",
     "iopub.status.busy": "2023-06-08T14:52:11.408985Z",
     "iopub.status.idle": "2023-06-08T14:52:11.415926Z",
     "shell.execute_reply": "2023-06-08T14:52:11.414494Z",
     "shell.execute_reply.started": "2023-06-08T14:52:11.409289Z"
    },
    "id": "zqOK0UrPpJ7B",
    "outputId": "44cd5443-64ba-4ac7-9748-7c27f973c82b"
   },
   "outputs": [
    {
     "name": "stdout",
     "output_type": "stream",
     "text": [
      "Train input shape (748, 128)\n",
      "Test input shape (6732, 128)\n",
      "Train label shape (748,)\n",
      "Test label shape (6732,)\n",
      "Train attention mask shape (748, 128)\n",
      "Test attention mask shape (6732, 128)\n"
     ]
    }
   ],
   "source": [
    "print('Train input shape {}\\nTest input shape {}\\nTrain label shape {}\\nTest label shape {}\\nTrain attention mask shape {}\\nTest attention mask shape {}'.format(X_train_input.shape,X_test_input.shape,Y_train_label.shape,Y_test_label.shape,train_mask.shape,test_mask.shape))"
   ]
  },
  {
   "cell_type": "code",
   "execution_count": 34,
   "metadata": {},
   "outputs": [
    {
     "name": "stdout",
     "output_type": "stream",
     "text": [
      "[0 0 0 0 0 0 1 0 0 0 0 0 1 0 0 0 0 0 0 1 0 0 0 0 0 0 0 0 0 0 0 0 0 0 0 1 0\n",
      " 0 0 0 0 0 1 0 0 0 0 1 0 0 0 1 0 0 0 0 0 0 0 0 0 0 0 0 0 0 0 0 0 0 0 0 0 1\n",
      " 0 0 1 0 0 0 0 0 0 0 0 0 0 0 0 1 0 0 0 1 0 0 0 0 0 0 1 0 0 1 0 1 1 0 1 0 0\n",
      " 0 0 0 1 0 1 0 0 1 0 0 0 0 0 0 0 0 0 0 0 0 0 0 0 0 0 0 0 0 0 0 0 0 0 1 0 0\n",
      " 0 1 0 0 0 1 0 1 0 0 0 0 1 1 0 1 0 0 0 1 1 0 1 0 0 0 0 1 0 0 0 1 0 1 0 0 0\n",
      " 0 0 1 0 0 0 1 0 0 0 0 0 0 0 0 0 0 0 0 0 0 0 0 0 0 0 1 0 0 0 0 0 0 1 0 0 0\n",
      " 1 0 0 0 0 0 0 0 0 0 0 0 0 0 0 0 0 0 0 0 0 0 0 0 0 0 0 0 0 0 1 0 0 0 0 0 0\n",
      " 1 0 0 1 0 0 0 0 0 0 0 0 1 0 0 0 0 1 0 0 0 0 1 0 0 0 0 0 0 0 0 0 0 1 0 0 0\n",
      " 0 0 0 0 1 0 0 0 0 1 0 0 0 0 0 1 0 0 1 0 0 0 0 0 1 0 0 0 0 0 0 0 0 0 1 1 0\n",
      " 0 0 0 1 0 0 0 1 0 0 0 0 1 1 0 0 0 0 0 0 1 0 0 1 1 0 0 0 0 0 0 0 0 0 0 0 0\n",
      " 0 0 0 0 0 0 0 0 0 0 0 0 0 1 0 1 0 0 0 1 0 0 0 0 0 0 0 0 0 1 0 0 0 0 0 0 0\n",
      " 0 0 0 0 0 0 1 0 0 0 0 0 0 0 1 0 0 0 0 0 0 0 0 0 0 1 1 0 0 0 0 0 0 0 0 0 0\n",
      " 0 0 0 0 1 0 0 0 1 0 0 0 0 0 0 0 0 0 0 0 0 1 0 0 0 0 0 0 0 1 0 0 0 0 0 0 1\n",
      " 0 1 0 0 0 1 0 0 0 0 0 0 0 0 0 0 0 0 0 0 0 0 0 0 0 0 1 0 0 0 0 0 0 0 0 0 0\n",
      " 0 0 0 0 0 0 0 0 0 0 1 0 1 0 0 0 1 0 1 0 0 1 0 0 0 0 0 0 0 0 0 0 1 0 0 0 0\n",
      " 0 0 0 0 0 0 0 0 0 0 0 0 0 0 0 0 0 0 0 0 0 0 1 1 0 0 0 0 0 1 0 0 0 1 0 0 0\n",
      " 0 0 0 0 0 0 0 0 1 0 1 0 0 0 1 0 0 0 0 0 0 1 0 0 1 0 0 0 0 0 0 0 0 0 0 1 0\n",
      " 0 0 0 0 0 0 0 1 0 0 1 0 0 0 0 0 0 0 0 1 0 0 0 0 0 0 0 0 0 0 0 0 1 0 0 0 1\n",
      " 0 1 0 0 0 0 0 0 0 0 0 0 0 0 1 0 0 0 0 0 0 0 0 0 0 0 0 0 0 0 0 0 0 1 0 0 0\n",
      " 0 0 0 0 0 0 0 0 0 0 0 0 0 1 0 0 0 1 0 0 0 0 0 0 0 0 0 0 1 0 0 0 1 0 0 0 0\n",
      " 0 0 0 0 0 0 0 1]\n"
     ]
    }
   ],
   "source": [
    "print(Y_train_label)"
   ]
  },
  {
   "cell_type": "markdown",
   "metadata": {
    "id": "SyrrDENuy_4R"
   },
   "source": [
    "# Create Roberta Model"
   ]
  },
  {
   "cell_type": "code",
   "execution_count": 35,
   "metadata": {},
   "outputs": [],
   "source": [
    "from tensorflow.keras.layers import LeakyReLU\n"
   ]
  },
  {
   "cell_type": "code",
   "execution_count": 36,
   "metadata": {
    "execution": {
     "iopub.execute_input": "2023-06-08T14:52:11.418977Z",
     "iopub.status.busy": "2023-06-08T14:52:11.418666Z",
     "iopub.status.idle": "2023-06-08T14:52:11.431356Z",
     "shell.execute_reply": "2023-06-08T14:52:11.430291Z",
     "shell.execute_reply.started": "2023-06-08T14:52:11.418949Z"
    },
    "id": "5xKFWC6ATJPn"
   },
   "outputs": [],
   "source": [
    "def Create_Roberta_Model():\n",
    "    input_ids=tf.keras.Input(shape=(max_len,),dtype=\"int32\")\n",
    "    attention_masks=tf.keras.Input(shape=(max_len,),dtype=\"int32\")\n",
    "    \n",
    "    roberta_model = TFRobertaModel.from_pretrained(\"roberta-base\")\n",
    "    output_dim = roberta_model(input_ids=input_ids, attention_mask=attention_masks)[0][:,0,:]\n",
    "    \n",
    "    dense_layer = tf.keras.layers.Dense(32, activation=\"relu\")(output_dim)\n",
    "    dropout = tf.keras.layers.Dropout(0.3)(dense_layer)\n",
    "    final_layer = tf.keras.layers.Dense(2, activation='softmax')(dropout)\n",
    "\n",
    "    model = tf.keras.models.Model(inputs=[input_ids, attention_masks], outputs=final_layer)\n",
    "    \n",
    "    return model\n"
   ]
  },
  {
   "cell_type": "code",
   "execution_count": 37,
   "metadata": {
    "execution": {
     "iopub.execute_input": "2023-06-08T14:52:11.433791Z",
     "iopub.status.busy": "2023-06-08T14:52:11.43273Z",
     "iopub.status.idle": "2023-06-08T14:52:19.99564Z",
     "shell.execute_reply": "2023-06-08T14:52:19.994556Z",
     "shell.execute_reply.started": "2023-06-08T14:52:11.433742Z"
    },
    "id": "HfWpP1nRpKIx",
    "outputId": "2a6f624b-49aa-46f0-c8be-163afbd65fae",
    "scrolled": false
   },
   "outputs": [
    {
     "name": "stderr",
     "output_type": "stream",
     "text": [
      "Some weights of the PyTorch model were not used when initializing the TF 2.0 model TFRobertaModel: ['lm_head.dense.bias', 'lm_head.bias', 'lm_head.layer_norm.weight', 'lm_head.layer_norm.bias', 'lm_head.dense.weight', 'roberta.embeddings.position_ids']\n",
      "- This IS expected if you are initializing TFRobertaModel from a PyTorch model trained on another task or with another architecture (e.g. initializing a TFBertForSequenceClassification model from a BertForPreTraining model).\n",
      "- This IS NOT expected if you are initializing TFRobertaModel from a PyTorch model that you expect to be exactly identical (e.g. initializing a TFBertForSequenceClassification model from a BertForSequenceClassification model).\n",
      "Some weights or buffers of the TF 2.0 model TFRobertaModel were not initialized from the PyTorch model and are newly initialized: ['roberta.pooler.dense.weight', 'roberta.pooler.dense.bias']\n",
      "You should probably TRAIN this model on a down-stream task to be able to use it for predictions and inference.\n"
     ]
    }
   ],
   "source": [
    "model=Create_Roberta_Model()\n",
    "\n",
    "loss = tf.keras.losses.SparseCategoricalCrossentropy(from_logits=False)\n",
    "\n",
    "optimizer = tf.keras.optimizers.Adam(lr=1e-5)\n",
    "\n",
    "model.compile(loss=loss,optimizer=optimizer, metrics=[\"accuracy\"])"
   ]
  },
  {
   "cell_type": "code",
   "execution_count": 38,
   "metadata": {
    "scrolled": true
   },
   "outputs": [
    {
     "name": "stdout",
     "output_type": "stream",
     "text": [
      "Gradient for tf_roberta_model_1/roberta/encoder/layer_._0/attention/self/query/kernel:0 is okay\n",
      "Gradient for tf_roberta_model_1/roberta/encoder/layer_._0/attention/self/query/bias:0 is okay\n",
      "Gradient for tf_roberta_model_1/roberta/encoder/layer_._0/attention/self/key/kernel:0 is okay\n",
      "Gradient for tf_roberta_model_1/roberta/encoder/layer_._0/attention/self/key/bias:0 is okay\n",
      "Gradient for tf_roberta_model_1/roberta/encoder/layer_._0/attention/self/value/kernel:0 is okay\n",
      "Gradient for tf_roberta_model_1/roberta/encoder/layer_._0/attention/self/value/bias:0 is okay\n",
      "Gradient for tf_roberta_model_1/roberta/encoder/layer_._0/attention/output/dense/kernel:0 is okay\n",
      "Gradient for tf_roberta_model_1/roberta/encoder/layer_._0/attention/output/dense/bias:0 is okay\n",
      "Gradient for tf_roberta_model_1/roberta/encoder/layer_._0/attention/output/LayerNorm/gamma:0 is okay\n",
      "Gradient for tf_roberta_model_1/roberta/encoder/layer_._0/attention/output/LayerNorm/beta:0 is okay\n",
      "Gradient for tf_roberta_model_1/roberta/encoder/layer_._0/intermediate/dense/kernel:0 is okay\n",
      "Gradient for tf_roberta_model_1/roberta/encoder/layer_._0/intermediate/dense/bias:0 is okay\n",
      "Gradient for tf_roberta_model_1/roberta/encoder/layer_._0/output/dense/kernel:0 is okay\n",
      "Gradient for tf_roberta_model_1/roberta/encoder/layer_._0/output/dense/bias:0 is okay\n",
      "Gradient for tf_roberta_model_1/roberta/encoder/layer_._0/output/LayerNorm/gamma:0 is okay\n",
      "Gradient for tf_roberta_model_1/roberta/encoder/layer_._0/output/LayerNorm/beta:0 is okay\n",
      "Gradient for tf_roberta_model_1/roberta/encoder/layer_._1/attention/self/query/kernel:0 is okay\n",
      "Gradient for tf_roberta_model_1/roberta/encoder/layer_._1/attention/self/query/bias:0 is okay\n",
      "Gradient for tf_roberta_model_1/roberta/encoder/layer_._1/attention/self/key/kernel:0 is okay\n",
      "Gradient for tf_roberta_model_1/roberta/encoder/layer_._1/attention/self/key/bias:0 is okay\n",
      "Gradient for tf_roberta_model_1/roberta/encoder/layer_._1/attention/self/value/kernel:0 is okay\n",
      "Gradient for tf_roberta_model_1/roberta/encoder/layer_._1/attention/self/value/bias:0 is okay\n",
      "Gradient for tf_roberta_model_1/roberta/encoder/layer_._1/attention/output/dense/kernel:0 is okay\n",
      "Gradient for tf_roberta_model_1/roberta/encoder/layer_._1/attention/output/dense/bias:0 is okay\n",
      "Gradient for tf_roberta_model_1/roberta/encoder/layer_._1/attention/output/LayerNorm/gamma:0 is okay\n",
      "Gradient for tf_roberta_model_1/roberta/encoder/layer_._1/attention/output/LayerNorm/beta:0 is okay\n",
      "Gradient for tf_roberta_model_1/roberta/encoder/layer_._1/intermediate/dense/kernel:0 is okay\n",
      "Gradient for tf_roberta_model_1/roberta/encoder/layer_._1/intermediate/dense/bias:0 is okay\n",
      "Gradient for tf_roberta_model_1/roberta/encoder/layer_._1/output/dense/kernel:0 is okay\n",
      "Gradient for tf_roberta_model_1/roberta/encoder/layer_._1/output/dense/bias:0 is okay\n",
      "Gradient for tf_roberta_model_1/roberta/encoder/layer_._1/output/LayerNorm/gamma:0 is okay\n",
      "Gradient for tf_roberta_model_1/roberta/encoder/layer_._1/output/LayerNorm/beta:0 is okay\n",
      "Gradient for tf_roberta_model_1/roberta/encoder/layer_._2/attention/self/query/kernel:0 is okay\n",
      "Gradient for tf_roberta_model_1/roberta/encoder/layer_._2/attention/self/query/bias:0 is okay\n",
      "Gradient for tf_roberta_model_1/roberta/encoder/layer_._2/attention/self/key/kernel:0 is okay\n",
      "Gradient for tf_roberta_model_1/roberta/encoder/layer_._2/attention/self/key/bias:0 is okay\n",
      "Gradient for tf_roberta_model_1/roberta/encoder/layer_._2/attention/self/value/kernel:0 is okay\n",
      "Gradient for tf_roberta_model_1/roberta/encoder/layer_._2/attention/self/value/bias:0 is okay\n",
      "Gradient for tf_roberta_model_1/roberta/encoder/layer_._2/attention/output/dense/kernel:0 is okay\n",
      "Gradient for tf_roberta_model_1/roberta/encoder/layer_._2/attention/output/dense/bias:0 is okay\n",
      "Gradient for tf_roberta_model_1/roberta/encoder/layer_._2/attention/output/LayerNorm/gamma:0 is okay\n",
      "Gradient for tf_roberta_model_1/roberta/encoder/layer_._2/attention/output/LayerNorm/beta:0 is okay\n",
      "Gradient for tf_roberta_model_1/roberta/encoder/layer_._2/intermediate/dense/kernel:0 is okay\n",
      "Gradient for tf_roberta_model_1/roberta/encoder/layer_._2/intermediate/dense/bias:0 is okay\n",
      "Gradient for tf_roberta_model_1/roberta/encoder/layer_._2/output/dense/kernel:0 is okay\n",
      "Gradient for tf_roberta_model_1/roberta/encoder/layer_._2/output/dense/bias:0 is okay\n",
      "Gradient for tf_roberta_model_1/roberta/encoder/layer_._2/output/LayerNorm/gamma:0 is okay\n",
      "Gradient for tf_roberta_model_1/roberta/encoder/layer_._2/output/LayerNorm/beta:0 is okay\n",
      "Gradient for tf_roberta_model_1/roberta/encoder/layer_._3/attention/self/query/kernel:0 is okay\n",
      "Gradient for tf_roberta_model_1/roberta/encoder/layer_._3/attention/self/query/bias:0 is okay\n",
      "Gradient for tf_roberta_model_1/roberta/encoder/layer_._3/attention/self/key/kernel:0 is okay\n",
      "Gradient for tf_roberta_model_1/roberta/encoder/layer_._3/attention/self/key/bias:0 is okay\n",
      "Gradient for tf_roberta_model_1/roberta/encoder/layer_._3/attention/self/value/kernel:0 is okay\n",
      "Gradient for tf_roberta_model_1/roberta/encoder/layer_._3/attention/self/value/bias:0 is okay\n",
      "Gradient for tf_roberta_model_1/roberta/encoder/layer_._3/attention/output/dense/kernel:0 is okay\n",
      "Gradient for tf_roberta_model_1/roberta/encoder/layer_._3/attention/output/dense/bias:0 is okay\n",
      "Gradient for tf_roberta_model_1/roberta/encoder/layer_._3/attention/output/LayerNorm/gamma:0 is okay\n",
      "Gradient for tf_roberta_model_1/roberta/encoder/layer_._3/attention/output/LayerNorm/beta:0 is okay\n",
      "Gradient for tf_roberta_model_1/roberta/encoder/layer_._3/intermediate/dense/kernel:0 is okay\n",
      "Gradient for tf_roberta_model_1/roberta/encoder/layer_._3/intermediate/dense/bias:0 is okay\n",
      "Gradient for tf_roberta_model_1/roberta/encoder/layer_._3/output/dense/kernel:0 is okay\n",
      "Gradient for tf_roberta_model_1/roberta/encoder/layer_._3/output/dense/bias:0 is okay\n",
      "Gradient for tf_roberta_model_1/roberta/encoder/layer_._3/output/LayerNorm/gamma:0 is okay\n",
      "Gradient for tf_roberta_model_1/roberta/encoder/layer_._3/output/LayerNorm/beta:0 is okay\n",
      "Gradient for tf_roberta_model_1/roberta/encoder/layer_._4/attention/self/query/kernel:0 is okay\n",
      "Gradient for tf_roberta_model_1/roberta/encoder/layer_._4/attention/self/query/bias:0 is okay\n",
      "Gradient for tf_roberta_model_1/roberta/encoder/layer_._4/attention/self/key/kernel:0 is okay\n",
      "Gradient for tf_roberta_model_1/roberta/encoder/layer_._4/attention/self/key/bias:0 is okay\n",
      "Gradient for tf_roberta_model_1/roberta/encoder/layer_._4/attention/self/value/kernel:0 is okay\n",
      "Gradient for tf_roberta_model_1/roberta/encoder/layer_._4/attention/self/value/bias:0 is okay\n",
      "Gradient for tf_roberta_model_1/roberta/encoder/layer_._4/attention/output/dense/kernel:0 is okay\n",
      "Gradient for tf_roberta_model_1/roberta/encoder/layer_._4/attention/output/dense/bias:0 is okay\n",
      "Gradient for tf_roberta_model_1/roberta/encoder/layer_._4/attention/output/LayerNorm/gamma:0 is okay\n",
      "Gradient for tf_roberta_model_1/roberta/encoder/layer_._4/attention/output/LayerNorm/beta:0 is okay\n",
      "Gradient for tf_roberta_model_1/roberta/encoder/layer_._4/intermediate/dense/kernel:0 is okay\n",
      "Gradient for tf_roberta_model_1/roberta/encoder/layer_._4/intermediate/dense/bias:0 is okay\n",
      "Gradient for tf_roberta_model_1/roberta/encoder/layer_._4/output/dense/kernel:0 is okay\n",
      "Gradient for tf_roberta_model_1/roberta/encoder/layer_._4/output/dense/bias:0 is okay\n",
      "Gradient for tf_roberta_model_1/roberta/encoder/layer_._4/output/LayerNorm/gamma:0 is okay\n",
      "Gradient for tf_roberta_model_1/roberta/encoder/layer_._4/output/LayerNorm/beta:0 is okay\n",
      "Gradient for tf_roberta_model_1/roberta/encoder/layer_._5/attention/self/query/kernel:0 is okay\n",
      "Gradient for tf_roberta_model_1/roberta/encoder/layer_._5/attention/self/query/bias:0 is okay\n",
      "Gradient for tf_roberta_model_1/roberta/encoder/layer_._5/attention/self/key/kernel:0 is okay\n",
      "Gradient for tf_roberta_model_1/roberta/encoder/layer_._5/attention/self/key/bias:0 is okay\n",
      "Gradient for tf_roberta_model_1/roberta/encoder/layer_._5/attention/self/value/kernel:0 is okay\n",
      "Gradient for tf_roberta_model_1/roberta/encoder/layer_._5/attention/self/value/bias:0 is okay\n",
      "Gradient for tf_roberta_model_1/roberta/encoder/layer_._5/attention/output/dense/kernel:0 is okay\n",
      "Gradient for tf_roberta_model_1/roberta/encoder/layer_._5/attention/output/dense/bias:0 is okay\n",
      "Gradient for tf_roberta_model_1/roberta/encoder/layer_._5/attention/output/LayerNorm/gamma:0 is okay\n",
      "Gradient for tf_roberta_model_1/roberta/encoder/layer_._5/attention/output/LayerNorm/beta:0 is okay\n",
      "Gradient for tf_roberta_model_1/roberta/encoder/layer_._5/intermediate/dense/kernel:0 is okay\n",
      "Gradient for tf_roberta_model_1/roberta/encoder/layer_._5/intermediate/dense/bias:0 is okay\n",
      "Gradient for tf_roberta_model_1/roberta/encoder/layer_._5/output/dense/kernel:0 is okay\n",
      "Gradient for tf_roberta_model_1/roberta/encoder/layer_._5/output/dense/bias:0 is okay\n",
      "Gradient for tf_roberta_model_1/roberta/encoder/layer_._5/output/LayerNorm/gamma:0 is okay\n",
      "Gradient for tf_roberta_model_1/roberta/encoder/layer_._5/output/LayerNorm/beta:0 is okay\n",
      "Gradient for tf_roberta_model_1/roberta/encoder/layer_._6/attention/self/query/kernel:0 is okay\n",
      "Gradient for tf_roberta_model_1/roberta/encoder/layer_._6/attention/self/query/bias:0 is okay\n",
      "Gradient for tf_roberta_model_1/roberta/encoder/layer_._6/attention/self/key/kernel:0 is okay\n",
      "Gradient for tf_roberta_model_1/roberta/encoder/layer_._6/attention/self/key/bias:0 is okay\n",
      "Gradient for tf_roberta_model_1/roberta/encoder/layer_._6/attention/self/value/kernel:0 is okay\n",
      "Gradient for tf_roberta_model_1/roberta/encoder/layer_._6/attention/self/value/bias:0 is okay\n",
      "Gradient for tf_roberta_model_1/roberta/encoder/layer_._6/attention/output/dense/kernel:0 is okay\n",
      "Gradient for tf_roberta_model_1/roberta/encoder/layer_._6/attention/output/dense/bias:0 is okay\n",
      "Gradient for tf_roberta_model_1/roberta/encoder/layer_._6/attention/output/LayerNorm/gamma:0 is okay\n",
      "Gradient for tf_roberta_model_1/roberta/encoder/layer_._6/attention/output/LayerNorm/beta:0 is okay\n",
      "Gradient for tf_roberta_model_1/roberta/encoder/layer_._6/intermediate/dense/kernel:0 is okay\n",
      "Gradient for tf_roberta_model_1/roberta/encoder/layer_._6/intermediate/dense/bias:0 is okay\n",
      "Gradient for tf_roberta_model_1/roberta/encoder/layer_._6/output/dense/kernel:0 is okay\n",
      "Gradient for tf_roberta_model_1/roberta/encoder/layer_._6/output/dense/bias:0 is okay\n",
      "Gradient for tf_roberta_model_1/roberta/encoder/layer_._6/output/LayerNorm/gamma:0 is okay\n",
      "Gradient for tf_roberta_model_1/roberta/encoder/layer_._6/output/LayerNorm/beta:0 is okay\n",
      "Gradient for tf_roberta_model_1/roberta/encoder/layer_._7/attention/self/query/kernel:0 is okay\n",
      "Gradient for tf_roberta_model_1/roberta/encoder/layer_._7/attention/self/query/bias:0 is okay\n",
      "Gradient for tf_roberta_model_1/roberta/encoder/layer_._7/attention/self/key/kernel:0 is okay\n",
      "Gradient for tf_roberta_model_1/roberta/encoder/layer_._7/attention/self/key/bias:0 is okay\n",
      "Gradient for tf_roberta_model_1/roberta/encoder/layer_._7/attention/self/value/kernel:0 is okay\n",
      "Gradient for tf_roberta_model_1/roberta/encoder/layer_._7/attention/self/value/bias:0 is okay\n",
      "Gradient for tf_roberta_model_1/roberta/encoder/layer_._7/attention/output/dense/kernel:0 is okay\n",
      "Gradient for tf_roberta_model_1/roberta/encoder/layer_._7/attention/output/dense/bias:0 is okay\n",
      "Gradient for tf_roberta_model_1/roberta/encoder/layer_._7/attention/output/LayerNorm/gamma:0 is okay\n",
      "Gradient for tf_roberta_model_1/roberta/encoder/layer_._7/attention/output/LayerNorm/beta:0 is okay\n",
      "Gradient for tf_roberta_model_1/roberta/encoder/layer_._7/intermediate/dense/kernel:0 is okay\n",
      "Gradient for tf_roberta_model_1/roberta/encoder/layer_._7/intermediate/dense/bias:0 is okay\n",
      "Gradient for tf_roberta_model_1/roberta/encoder/layer_._7/output/dense/kernel:0 is okay\n",
      "Gradient for tf_roberta_model_1/roberta/encoder/layer_._7/output/dense/bias:0 is okay\n",
      "Gradient for tf_roberta_model_1/roberta/encoder/layer_._7/output/LayerNorm/gamma:0 is okay\n",
      "Gradient for tf_roberta_model_1/roberta/encoder/layer_._7/output/LayerNorm/beta:0 is okay\n",
      "Gradient for tf_roberta_model_1/roberta/encoder/layer_._8/attention/self/query/kernel:0 is okay\n",
      "Gradient for tf_roberta_model_1/roberta/encoder/layer_._8/attention/self/query/bias:0 is okay\n",
      "Gradient for tf_roberta_model_1/roberta/encoder/layer_._8/attention/self/key/kernel:0 is okay\n",
      "Gradient for tf_roberta_model_1/roberta/encoder/layer_._8/attention/self/key/bias:0 is okay\n",
      "Gradient for tf_roberta_model_1/roberta/encoder/layer_._8/attention/self/value/kernel:0 is okay\n",
      "Gradient for tf_roberta_model_1/roberta/encoder/layer_._8/attention/self/value/bias:0 is okay\n",
      "Gradient for tf_roberta_model_1/roberta/encoder/layer_._8/attention/output/dense/kernel:0 is okay\n",
      "Gradient for tf_roberta_model_1/roberta/encoder/layer_._8/attention/output/dense/bias:0 is okay\n",
      "Gradient for tf_roberta_model_1/roberta/encoder/layer_._8/attention/output/LayerNorm/gamma:0 is okay\n",
      "Gradient for tf_roberta_model_1/roberta/encoder/layer_._8/attention/output/LayerNorm/beta:0 is okay\n",
      "Gradient for tf_roberta_model_1/roberta/encoder/layer_._8/intermediate/dense/kernel:0 is okay\n",
      "Gradient for tf_roberta_model_1/roberta/encoder/layer_._8/intermediate/dense/bias:0 is okay\n",
      "Gradient for tf_roberta_model_1/roberta/encoder/layer_._8/output/dense/kernel:0 is okay\n",
      "Gradient for tf_roberta_model_1/roberta/encoder/layer_._8/output/dense/bias:0 is okay\n",
      "Gradient for tf_roberta_model_1/roberta/encoder/layer_._8/output/LayerNorm/gamma:0 is okay\n",
      "Gradient for tf_roberta_model_1/roberta/encoder/layer_._8/output/LayerNorm/beta:0 is okay\n",
      "Gradient for tf_roberta_model_1/roberta/encoder/layer_._9/attention/self/query/kernel:0 is okay\n",
      "Gradient for tf_roberta_model_1/roberta/encoder/layer_._9/attention/self/query/bias:0 is okay\n",
      "Gradient for tf_roberta_model_1/roberta/encoder/layer_._9/attention/self/key/kernel:0 is okay\n",
      "Gradient for tf_roberta_model_1/roberta/encoder/layer_._9/attention/self/key/bias:0 is okay\n",
      "Gradient for tf_roberta_model_1/roberta/encoder/layer_._9/attention/self/value/kernel:0 is okay\n",
      "Gradient for tf_roberta_model_1/roberta/encoder/layer_._9/attention/self/value/bias:0 is okay\n",
      "Gradient for tf_roberta_model_1/roberta/encoder/layer_._9/attention/output/dense/kernel:0 is okay\n",
      "Gradient for tf_roberta_model_1/roberta/encoder/layer_._9/attention/output/dense/bias:0 is okay\n",
      "Gradient for tf_roberta_model_1/roberta/encoder/layer_._9/attention/output/LayerNorm/gamma:0 is okay\n",
      "Gradient for tf_roberta_model_1/roberta/encoder/layer_._9/attention/output/LayerNorm/beta:0 is okay\n",
      "Gradient for tf_roberta_model_1/roberta/encoder/layer_._9/intermediate/dense/kernel:0 is okay\n",
      "Gradient for tf_roberta_model_1/roberta/encoder/layer_._9/intermediate/dense/bias:0 is okay\n",
      "Gradient for tf_roberta_model_1/roberta/encoder/layer_._9/output/dense/kernel:0 is okay\n",
      "Gradient for tf_roberta_model_1/roberta/encoder/layer_._9/output/dense/bias:0 is okay\n",
      "Gradient for tf_roberta_model_1/roberta/encoder/layer_._9/output/LayerNorm/gamma:0 is okay\n",
      "Gradient for tf_roberta_model_1/roberta/encoder/layer_._9/output/LayerNorm/beta:0 is okay\n",
      "Gradient for tf_roberta_model_1/roberta/encoder/layer_._10/attention/self/query/kernel:0 is okay\n",
      "Gradient for tf_roberta_model_1/roberta/encoder/layer_._10/attention/self/query/bias:0 is okay\n",
      "Gradient for tf_roberta_model_1/roberta/encoder/layer_._10/attention/self/key/kernel:0 is okay\n",
      "Gradient for tf_roberta_model_1/roberta/encoder/layer_._10/attention/self/key/bias:0 is okay\n",
      "Gradient for tf_roberta_model_1/roberta/encoder/layer_._10/attention/self/value/kernel:0 is okay\n",
      "Gradient for tf_roberta_model_1/roberta/encoder/layer_._10/attention/self/value/bias:0 is okay\n",
      "Gradient for tf_roberta_model_1/roberta/encoder/layer_._10/attention/output/dense/kernel:0 is okay\n",
      "Gradient for tf_roberta_model_1/roberta/encoder/layer_._10/attention/output/dense/bias:0 is okay\n",
      "Gradient for tf_roberta_model_1/roberta/encoder/layer_._10/attention/output/LayerNorm/gamma:0 is okay\n",
      "Gradient for tf_roberta_model_1/roberta/encoder/layer_._10/attention/output/LayerNorm/beta:0 is okay\n",
      "Gradient for tf_roberta_model_1/roberta/encoder/layer_._10/intermediate/dense/kernel:0 is okay\n",
      "Gradient for tf_roberta_model_1/roberta/encoder/layer_._10/intermediate/dense/bias:0 is okay\n",
      "Gradient for tf_roberta_model_1/roberta/encoder/layer_._10/output/dense/kernel:0 is okay\n",
      "Gradient for tf_roberta_model_1/roberta/encoder/layer_._10/output/dense/bias:0 is okay\n",
      "Gradient for tf_roberta_model_1/roberta/encoder/layer_._10/output/LayerNorm/gamma:0 is okay\n",
      "Gradient for tf_roberta_model_1/roberta/encoder/layer_._10/output/LayerNorm/beta:0 is okay\n",
      "Gradient for tf_roberta_model_1/roberta/encoder/layer_._11/attention/self/query/kernel:0 is okay\n",
      "Gradient for tf_roberta_model_1/roberta/encoder/layer_._11/attention/self/query/bias:0 is okay\n",
      "Gradient for tf_roberta_model_1/roberta/encoder/layer_._11/attention/self/key/kernel:0 is okay\n",
      "Gradient for tf_roberta_model_1/roberta/encoder/layer_._11/attention/self/key/bias:0 is okay\n",
      "Gradient for tf_roberta_model_1/roberta/encoder/layer_._11/attention/self/value/kernel:0 is okay\n",
      "Gradient for tf_roberta_model_1/roberta/encoder/layer_._11/attention/self/value/bias:0 is okay\n",
      "Gradient for tf_roberta_model_1/roberta/encoder/layer_._11/attention/output/dense/kernel:0 is okay\n",
      "Gradient for tf_roberta_model_1/roberta/encoder/layer_._11/attention/output/dense/bias:0 is okay\n",
      "Gradient for tf_roberta_model_1/roberta/encoder/layer_._11/attention/output/LayerNorm/gamma:0 is okay\n",
      "Gradient for tf_roberta_model_1/roberta/encoder/layer_._11/attention/output/LayerNorm/beta:0 is okay\n",
      "Gradient for tf_roberta_model_1/roberta/encoder/layer_._11/intermediate/dense/kernel:0 is okay\n",
      "Gradient for tf_roberta_model_1/roberta/encoder/layer_._11/intermediate/dense/bias:0 is okay\n",
      "Gradient for tf_roberta_model_1/roberta/encoder/layer_._11/output/dense/kernel:0 is okay\n",
      "Gradient for tf_roberta_model_1/roberta/encoder/layer_._11/output/dense/bias:0 is okay\n",
      "Gradient for tf_roberta_model_1/roberta/encoder/layer_._11/output/LayerNorm/gamma:0 is okay\n",
      "Gradient for tf_roberta_model_1/roberta/encoder/layer_._11/output/LayerNorm/beta:0 is okay\n",
      "No gradient for tf_roberta_model_1/roberta/pooler/dense/kernel:0\n",
      "No gradient for tf_roberta_model_1/roberta/pooler/dense/bias:0\n",
      "Gradient for tf_roberta_model_1/roberta/embeddings/word_embeddings/weight:0 is okay\n",
      "Gradient for tf_roberta_model_1/roberta/embeddings/token_type_embeddings/embeddings:0 is okay\n",
      "Gradient for tf_roberta_model_1/roberta/embeddings/position_embeddings/embeddings:0 is okay\n",
      "Gradient for tf_roberta_model_1/roberta/embeddings/LayerNorm/gamma:0 is okay\n",
      "Gradient for tf_roberta_model_1/roberta/embeddings/LayerNorm/beta:0 is okay\n",
      "Gradient for dense/kernel:0 is okay\n",
      "Gradient for dense/bias:0 is okay\n",
      "Gradient for dense_1/kernel:0 is okay\n",
      "Gradient for dense_1/bias:0 is okay\n"
     ]
    }
   ],
   "source": [
    "with tf.GradientTape() as tape:\n",
    "    predictions = model([X_train_input[:1], train_mask[:1]], training=True)\n",
    "    loss = tf.keras.losses.sparse_categorical_crossentropy(Y_train_label[:1], predictions)\n",
    "grads = tape.gradient(loss, model.trainable_weights)\n",
    "for grad, weight in zip(grads, model.trainable_weights):\n",
    "    if grad is not None:\n",
    "        print(f\"Gradient for {weight.name} is okay\")\n",
    "    else:\n",
    "        print(f\"No gradient for {weight.name}\")"
   ]
  },
  {
   "cell_type": "code",
   "execution_count": 39,
   "metadata": {
    "execution": {
     "iopub.execute_input": "2023-06-08T14:52:19.997402Z",
     "iopub.status.busy": "2023-06-08T14:52:19.997001Z",
     "iopub.status.idle": "2023-06-08T15:59:47.67389Z",
     "shell.execute_reply": "2023-06-08T15:59:47.672901Z",
     "shell.execute_reply.started": "2023-06-08T14:52:19.997363Z"
    },
    "id": "d1LGBF0tpKMM",
    "outputId": "0e669998-9ddb-43f2-be5b-b550d79e73ea"
   },
   "outputs": [
    {
     "name": "stdout",
     "output_type": "stream",
     "text": [
      "Epoch 1/10\n",
      "WARNING:tensorflow:Gradients do not exist for variables ['tf_roberta_model_1/roberta/pooler/dense/kernel:0', 'tf_roberta_model_1/roberta/pooler/dense/bias:0'] when minimizing the loss. If you're using `model.compile()`, did you forget to provide a `loss` argument?\n",
      "WARNING:tensorflow:Gradients do not exist for variables ['tf_roberta_model_1/roberta/pooler/dense/kernel:0', 'tf_roberta_model_1/roberta/pooler/dense/bias:0'] when minimizing the loss. If you're using `model.compile()`, did you forget to provide a `loss` argument?\n",
      "47/47 [==============================] - 58s 888ms/step - loss: 0.4893 - accuracy: 0.8289 - val_loss: 0.3847 - val_accuracy: 0.8543\n",
      "Epoch 2/10\n",
      "47/47 [==============================] - 39s 843ms/step - loss: 0.3607 - accuracy: 0.8690 - val_loss: 0.2954 - val_accuracy: 0.8687\n",
      "Epoch 3/10\n",
      "47/47 [==============================] - 37s 809ms/step - loss: 0.2019 - accuracy: 0.9198 - val_loss: 0.2911 - val_accuracy: 0.8480\n",
      "Epoch 4/10\n",
      "47/47 [==============================] - 37s 810ms/step - loss: 0.1732 - accuracy: 0.9198 - val_loss: 0.2379 - val_accuracy: 0.8936\n",
      "Epoch 5/10\n",
      "47/47 [==============================] - 41s 888ms/step - loss: 0.1111 - accuracy: 0.9586 - val_loss: 0.2667 - val_accuracy: 0.9144\n",
      "Epoch 6/10\n",
      "47/47 [==============================] - 40s 873ms/step - loss: 0.0583 - accuracy: 0.9826 - val_loss: 0.3251 - val_accuracy: 0.9046\n",
      "Epoch 7/10\n",
      "47/47 [==============================] - 39s 851ms/step - loss: 0.0454 - accuracy: 0.9853 - val_loss: 0.4249 - val_accuracy: 0.8968\n",
      "Epoch 8/10\n",
      "47/47 [==============================] - 39s 834ms/step - loss: 0.0463 - accuracy: 0.9906 - val_loss: 0.4675 - val_accuracy: 0.9165\n",
      "Epoch 9/10\n",
      "47/47 [==============================] - 38s 813ms/step - loss: 0.0082 - accuracy: 1.0000 - val_loss: 0.5821 - val_accuracy: 0.9180\n",
      "Epoch 10/10\n",
      "47/47 [==============================] - 39s 850ms/step - loss: 0.0218 - accuracy: 0.9933 - val_loss: 0.5525 - val_accuracy: 0.9128\n"
     ]
    }
   ],
   "source": [
    "history=model.fit([X_train_input,train_mask],Y_train_label,batch_size=16,epochs=10,validation_data=([X_test_input,test_mask],Y_test_label))"
   ]
  },
  {
   "cell_type": "code",
   "execution_count": 40,
   "metadata": {
    "execution": {
     "iopub.execute_input": "2023-06-08T15:59:47.67614Z",
     "iopub.status.busy": "2023-06-08T15:59:47.675766Z",
     "iopub.status.idle": "2023-06-08T15:59:47.689016Z",
     "shell.execute_reply": "2023-06-08T15:59:47.687651Z",
     "shell.execute_reply.started": "2023-06-08T15:59:47.676104Z"
    }
   },
   "outputs": [],
   "source": [
    "def model_loss_and_accuracy(history):\n",
    "    \n",
    "    fig=plt.figure(figsize=(15,15))\n",
    "    plt.subplot(221)\n",
    "    plt.plot(history.history[\"accuracy\"],marker=\"o\",linestyle=\":\",markersize=10,color=\"m\",label=\"accuracy\")\n",
    "    plt.plot(history.history[\"val_accuracy\"],marker=\"D\",linestyle=\":\",markersize=10,color=\"b\",label=\"val_accuracy\")\n",
    "    plt.title(\"Model Accuracy\\n\",fontsize=20,color=\"darkorange\")\n",
    "    plt.xlabel(\"Number of Epochs\",color=\"midnightblue\",fontsize=15)\n",
    "    plt.ylabel(\"Accuracy\",color=\"midnightblue\",fontsize=15)\n",
    "    plt.grid(color = 'green', linestyle = '--', linewidth = 1)\n",
    "    plt.legend(loc=\"best\")\n",
    "    plt.tight_layout()\n",
    "    \n",
    "  \n",
    "    plt.subplot(222)\n",
    "    plt.plot(history.history[\"accuracy\"],marker=\"v\",linestyle=\"-.\",markersize=10,color=\"g\",label=\"accuracy\")\n",
    "    plt.plot(history.history[\"val_accuracy\"],marker=\"s\",linestyle=\"--\",markersize=10,color=\"r\",label=\"val_accuracy\")\n",
    "    plt.title(\"Model Loss\\n\",fontsize=20,color=\"limegreen\")\n",
    "    plt.xlabel(\"Number of Epochs\",color=\"midnightblue\",fontsize=15)\n",
    "    plt.ylabel(\"Loss\",color=\"midnightblue\",fontsize=15)\n",
    "    plt.grid(color = 'green', linestyle = '--', linewidth = 1)\n",
    "    plt.legend(loc=\"best\")\n",
    "    plt.tight_layout()\n",
    "    plt.show()"
   ]
  },
  {
   "cell_type": "code",
   "execution_count": 41,
   "metadata": {
    "execution": {
     "iopub.execute_input": "2023-06-08T15:59:47.691061Z",
     "iopub.status.busy": "2023-06-08T15:59:47.690566Z",
     "iopub.status.idle": "2023-06-08T15:59:48.133763Z",
     "shell.execute_reply": "2023-06-08T15:59:48.132792Z",
     "shell.execute_reply.started": "2023-06-08T15:59:47.691002Z"
    }
   },
   "outputs": [
    {
     "data": {
      "image/png": "[encoded data removed]",
      "text/plain": [
       "<Figure size 1500x1500 with 2 Axes>"
      ]
     },
     "metadata": {},
     "output_type": "display_data"
    }
   ],
   "source": [
    "model_loss_and_accuracy(history)"
   ]
  },
  {
   "cell_type": "markdown",
   "metadata": {},
   "source": [
    "# F1 Score"
   ]
  },
  {
   "cell_type": "code",
   "execution_count": 42,
   "metadata": {
    "execution": {
     "iopub.execute_input": "2023-06-08T15:59:48.137362Z",
     "iopub.status.busy": "2023-06-08T15:59:48.137061Z",
     "iopub.status.idle": "2023-06-08T16:06:07.982369Z",
     "shell.execute_reply": "2023-06-08T16:06:07.981408Z",
     "shell.execute_reply.started": "2023-06-08T15:59:48.137334Z"
    }
   },
   "outputs": [
    {
     "name": "stdout",
     "output_type": "stream",
     "text": [
      "211/211 [==============================] - 33s 141ms/step\n",
      "211/211 [==============================] - 29s 137ms/step\n",
      "211/211 [==============================] - 28s 135ms/step\n",
      "211/211 [==============================] - 28s 134ms/step\n",
      "211/211 [==============================] - 29s 136ms/step\n",
      "211/211 [==============================] - 29s 135ms/step\n",
      "211/211 [==============================] - 29s 137ms/step\n",
      "211/211 [==============================] - 29s 135ms/step\n",
      "211/211 [==============================] - 29s 139ms/step\n",
      "211/211 [==============================] - 29s 137ms/step\n"
     ]
    },
    {
     "data": {
      "image/png": "[encoded data removed]",
      "text/plain": [
       "<Figure size 1000x1000 with 1 Axes>"
      ]
     },
     "metadata": {},
     "output_type": "display_data"
    }
   ],
   "source": [
    "def plot_f1_score(history):\n",
    "    f1_scores = []\n",
    "    for epoch in range(len(history.history['val_loss'])):\n",
    "        model.set_weights(history.model.get_weights())\n",
    "        predictions = model.predict([X_test_input, test_mask])\n",
    "        predictions = [round(p[0]) for p in predictions]\n",
    "    \n",
    "        f1_scores.append(f1_score(Y_test_label, predictions, average='weighted'))\n",
    "    plt.figure(figsize=(10,10))\n",
    "    plt.plot(range(len(history.history['val_loss'])), f1_scores, label='F1 score',marker=\"*\",color=\"g\",linestyle=\"--\",linewidth=4,markersize=8,markerfacecolor=\"r\")\n",
    "    plt.title(\"F1 Score\\n\",color=\"black\",fontsize=20)\n",
    "    plt.xlabel('Epochs',fontsize=15,color=\"black\")\n",
    "    plt.ylabel('F1 score',fontsize=15,color=\"black\")\n",
    "    plt.legend()\n",
    "    plt.show()\n",
    "\n",
    "\n",
    "plot_f1_score(history)\n"
   ]
  },
  {
   "cell_type": "markdown",
   "metadata": {},
   "source": [
    "# Label Names"
   ]
  },
  {
   "cell_type": "code",
   "execution_count": 43,
   "metadata": {
    "execution": {
     "iopub.execute_input": "2023-06-08T16:06:07.98453Z",
     "iopub.status.busy": "2023-06-08T16:06:07.984058Z",
     "iopub.status.idle": "2023-06-08T16:06:07.989632Z",
     "shell.execute_reply": "2023-06-08T16:06:07.988677Z",
     "shell.execute_reply.started": "2023-06-08T16:06:07.984492Z"
    }
   },
   "outputs": [],
   "source": [
    "label_name=[\"Negative\",\"neutral\", \"Positive\"]"
   ]
  },
  {
   "cell_type": "code",
   "execution_count": 44,
   "metadata": {
    "execution": {
     "iopub.execute_input": "2023-06-08T16:06:07.991738Z",
     "iopub.status.busy": "2023-06-08T16:06:07.990886Z",
     "iopub.status.idle": "2023-06-08T16:06:40.6963Z",
     "shell.execute_reply": "2023-06-08T16:06:40.695204Z",
     "shell.execute_reply.started": "2023-06-08T16:06:07.991699Z"
    }
   },
   "outputs": [
    {
     "name": "stdout",
     "output_type": "stream",
     "text": [
      "211/211 [==============================] - 29s 137ms/step\n"
     ]
    }
   ],
   "source": [
    "pred=model.predict([X_test_input, test_mask])\n",
    "prediction=np.argmax(pred, axis=1)"
   ]
  },
  {
   "cell_type": "code",
   "execution_count": 45,
   "metadata": {},
   "outputs": [
    {
     "name": "stdout",
     "output_type": "stream",
     "text": [
      "[[9.9999571e-01 4.3139139e-06]\n",
      " [9.9996328e-01 3.6703539e-05]\n",
      " [9.9999523e-01 4.7272902e-06]\n",
      " ...\n",
      " [9.9998796e-01 1.2058883e-05]\n",
      " [9.9999857e-01 1.4424552e-06]\n",
      " [9.9998736e-01 1.2635388e-05]]\n"
     ]
    }
   ],
   "source": [
    "print(pred)"
   ]
  },
  {
   "cell_type": "markdown",
   "metadata": {},
   "source": [
    "# Accuracy Score"
   ]
  },
  {
   "cell_type": "code",
   "execution_count": 46,
   "metadata": {
    "execution": {
     "iopub.execute_input": "2023-06-08T16:06:40.69845Z",
     "iopub.status.busy": "2023-06-08T16:06:40.698062Z",
     "iopub.status.idle": "2023-06-08T16:06:40.705539Z",
     "shell.execute_reply": "2023-06-08T16:06:40.704422Z",
     "shell.execute_reply.started": "2023-06-08T16:06:40.698412Z"
    }
   },
   "outputs": [
    {
     "name": "stdout",
     "output_type": "stream",
     "text": [
      "Accuracy Score is 0.9128045157456922\n"
     ]
    }
   ],
   "source": [
    "print(\"Accuracy Score is\",accuracy_score(Y_test_label,prediction))"
   ]
  },
  {
   "cell_type": "markdown",
   "metadata": {},
   "source": [
    "# ROC AUC Score"
   ]
  },
  {
   "cell_type": "code",
   "execution_count": 50,
   "metadata": {
    "execution": {
     "iopub.execute_input": "2023-06-08T16:06:40.708016Z",
     "iopub.status.busy": "2023-06-08T16:06:40.707308Z",
     "iopub.status.idle": "2023-06-08T16:06:40.71916Z",
     "shell.execute_reply": "2023-06-08T16:06:40.717897Z",
     "shell.execute_reply.started": "2023-06-08T16:06:40.707979Z"
    }
   },
   "outputs": [
    {
     "name": "stdout",
     "output_type": "stream",
     "text": [
      "ROC AUC Score is 0.919387861633247\n"
     ]
    }
   ],
   "source": [
    "print(\"ROC AUC Score is {}\".format(roc_auc_score(Y_test_label, pred[:,1], multi_class='ovr')))"
   ]
  },
  {
   "cell_type": "markdown",
   "metadata": {},
   "source": [
    "# Average Precision Score"
   ]
  },
  {
   "cell_type": "code",
   "execution_count": 51,
   "metadata": {},
   "outputs": [
    {
     "name": "stdout",
     "output_type": "stream",
     "text": [
      "              precision    recall  f1-score   support\n",
      "\n",
      "           0       0.93      0.98      0.95      5751\n",
      "           1       0.79      0.54      0.64       981\n",
      "\n",
      "    accuracy                           0.91      6732\n",
      "   macro avg       0.86      0.76      0.80      6732\n",
      "weighted avg       0.91      0.91      0.91      6732\n",
      "\n"
     ]
    }
   ],
   "source": [
    "print(classification_report(Y_test_label, np.argmax(pred, axis=1)))"
   ]
  },
  {
   "cell_type": "code",
   "execution_count": null,
   "metadata": {},
   "outputs": [],
   "source": []
  }
 ],
 "metadata": {
  "kaggle": {
   "accelerator": "none",
   "dataSources": [
    {
     "datasetId": 100982,
     "sourceId": 239192,
     "sourceType": "datasetVersion"
    },
    {
     "datasetId": 2428302,
     "sourceId": 5383266,
     "sourceType": "datasetVersion"
    }
   ],
   "dockerImageVersionId": 30301,
   "isGpuEnabled": false,
   "isInternetEnabled": false,
   "language": "python",
   "sourceType": "notebook"
  },
  "kernelspec": {
   "display_name": "Python 3 (ipykernel)",
   "language": "python",
   "name": "python3"
  },
  "language_info": {
   "codemirror_mode": {
    "name": "ipython",
    "version": 3
   },
   "file_extension": ".py",
   "mimetype": "text/x-python",
   "name": "python",
   "nbconvert_exporter": "python",
   "pygments_lexer": "ipython3",
   "version": "3.10.14"
  }
 },
 "nbformat": 4,
 "nbformat_minor": 4
}
