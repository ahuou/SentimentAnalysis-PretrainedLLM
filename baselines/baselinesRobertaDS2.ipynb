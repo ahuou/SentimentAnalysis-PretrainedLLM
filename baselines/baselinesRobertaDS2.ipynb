{
 "cells": [
  {
   "cell_type": "code",
   "execution_count": 1,
   "metadata": {
    "id": "RTbL6P0DPT-l",
    "jupyter": {
     "is_executing": true
    },
    "outputId": "ff792b6c-5e67-4439-a160-ff5b2e6f5051"
   },
   "outputs": [
    {
     "name": "stderr",
     "output_type": "stream",
     "text": [
      "[nltk_data] Downloading package omw-1.4 to\n",
      "[nltk_data]     C:\\Users\\alexh\\AppData\\Roaming\\nltk_data...\n",
      "[nltk_data]   Package omw-1.4 is already up-to-date!\n",
      "[nltk_data] Downloading package stopwords to\n",
      "[nltk_data]     C:\\Users\\alexh\\AppData\\Roaming\\nltk_data...\n",
      "[nltk_data]   Package stopwords is already up-to-date!\n",
      "[nltk_data] Downloading package wordnet to\n",
      "[nltk_data]     C:\\Users\\alexh\\AppData\\Roaming\\nltk_data...\n",
      "[nltk_data]   Package wordnet is already up-to-date!\n",
      "[nltk_data] Downloading package brown to\n",
      "[nltk_data]     C:\\Users\\alexh\\AppData\\Roaming\\nltk_data...\n",
      "[nltk_data]   Package brown is already up-to-date!\n"
     ]
    }
   ],
   "source": [
    "import numpy as np\n",
    "import pandas as pd \n",
    "import nltk\n",
    "import matplotlib.pyplot as plt\n",
    "from wordcloud import WordCloud,STOPWORDS\n",
    "from PIL import Image\n",
    "from sklearn.utils import resample\n",
    "import seaborn as sns\n",
    "from sklearn.feature_extraction.text import CountVectorizer\n",
    "import re\n",
    "from nltk.corpus import stopwords\n",
    "from nltk.stem import WordNetLemmatizer\n",
    "from nltk.probability import FreqDist\n",
    "from transformers import RobertaTokenizer\n",
    "from transformers import TFRobertaModel\n",
    "from sklearn.model_selection import train_test_split\n",
    "from tensorflow.keras.layers import Dense,Dropout\n",
    "from tensorflow.keras.layers import Flatten\n",
    "from sklearn.metrics import precision_recall_curve\n",
    "\n",
    "import tensorflow as tf\n",
    "from sklearn.metrics import roc_auc_score, roc_curve,auc\n",
    "from keras import regularizers\n",
    "from sklearn import preprocessing\n",
    "from sklearn.metrics import confusion_matrix,f1_score,classification_report\n",
    "from mlxtend.plotting import plot_confusion_matrix\n",
    "from sklearn.metrics import accuracy_score\n",
    "from sklearn.preprocessing import OneHotEncoder\n",
    "from sklearn.preprocessing import LabelEncoder\n",
    "from sklearn.preprocessing import label_binarize\n",
    "from sklearn.metrics import average_precision_score\n",
    "from itertools import cycle\n",
    "\n",
    "lemma = WordNetLemmatizer()\n",
    "stopword = set(STOPWORDS)\n",
    "nltk.download('omw-1.4')\n",
    "%matplotlib inline\n",
    "import nltk\n",
    "nltk.download('stopwords')\n",
    "import nltk\n",
    "nltk.download('wordnet')\n",
    "\n",
    "\n",
    "from nltk.corpus import brown\n",
    "nltk.download(\"brown\")\n",
    "import warnings\n",
    "warnings.filterwarnings(\"ignore\")\n"
   ]
  },
  {
   "cell_type": "code",
   "execution_count": 2,
   "metadata": {},
   "outputs": [
    {
     "data": {
      "text/plain": [
       "[PhysicalDevice(name='/physical_device:CPU:0', device_type='CPU'),\n",
       " PhysicalDevice(name='/physical_device:GPU:0', device_type='GPU')]"
      ]
     },
     "execution_count": 2,
     "metadata": {},
     "output_type": "execute_result"
    }
   ],
   "source": [
    "tf.config.get_visible_devices()"
   ]
  },
  {
   "cell_type": "markdown",
   "metadata": {
    "id": "4WMfDUifPu9s"
   },
   "source": [
    "# Import Train Data"
   ]
  },
  {
   "cell_type": "markdown",
   "metadata": {},
   "source": [
    "# Data preprocessing"
   ]
  },
  {
   "cell_type": "code",
   "execution_count": 3,
   "metadata": {
    "jupyter": {
     "is_executing": true
    }
   },
   "outputs": [
    {
     "name": "stdout",
     "output_type": "stream",
     "text": [
      "C:\\Users\\alexh\\PycharmProjects\\proj_bach\n",
      "File simple_emotions.txt already exists. Not overwriting.\n",
      "File simple_sentiments.txt already exists. Not overwriting.\n",
      "File clean_tweet_emotions.txt already exists. Not overwriting.\n",
      "File clean_tweet_sentiments.txt already exists. Not overwriting.\n",
      "                                                Text Sentiment\n",
      "0  During the period of falling in love, each tim...  Positive\n",
      "1         When I was involved in a traffic accident.  Negative\n",
      "2  When I was driving home after  several days of...  Negative\n",
      "3   When I lost the person who meant the most to me.  Negative\n",
      "4  The time I knocked a deer down - the sight of ...  Negative\n",
      "Index(['Text', 'Sentiment'], dtype='object')\n",
      "                                                   Text Sentiment\n",
      "0     During the period of falling in love, each tim...  Positive\n",
      "1            When I was involved in a traffic accident.  Negative\n",
      "2     When I was driving home after  several days of...  Negative\n",
      "3      When I lost the person who meant the most to me.  Negative\n",
      "4     The time I knocked a deer down - the sight of ...  Negative\n",
      "...                                                 ...       ...\n",
      "7475  Two years back someone invited me to be the tu...  Negative\n",
      "7476  I had taken the responsibility to do something...  Negative\n",
      "7477  I was at home and I heard a loud sound of spit...  Negative\n",
      "7478  I did not do the homework that the teacher had...  Negative\n",
      "7479  I had shouted at my younger brother and he was...  Negative\n",
      "\n",
      "[7480 rows x 2 columns]\n"
     ]
    }
   ],
   "source": [
    "%cd ..\n",
    "from data_retriever import data1, data2"
   ]
  },
  {
   "cell_type": "code",
   "execution_count": 4,
   "metadata": {
    "ExecuteTime": {
     "end_time": "2024-06-12T11:45:44.981963Z",
     "start_time": "2024-06-12T11:45:44.965963Z"
    }
   },
   "outputs": [],
   "source": [
    "def clean_text(tweet):\n",
    "    tweets = \" \".join(filter(lambda x: x[0]!= '@' , tweet.split()))\n",
    "    tweets = re.sub('[^a-zA-Z]', ' ', tweets)\n",
    "    tweets = tweets.lower()\n",
    "    tweets = tweets.split()\n",
    "    tweets = [word for word in tweets if not word in set(stopwords.words('english'))]\n",
    "    tweets = [lemma.lemmatize(word) for word in tweets]\n",
    "    tweets = \" \".join(tweets)\n",
    "    return tweets"
   ]
  },
  {
   "cell_type": "code",
   "execution_count": 5,
   "metadata": {
    "ExecuteTime": {
     "end_time": "2024-06-12T11:45:45.771184Z",
     "start_time": "2024-06-12T11:45:45.757670Z"
    }
   },
   "outputs": [],
   "source": [
    "train_data = data2.astype(str).copy()"
   ]
  },
  {
   "cell_type": "code",
   "execution_count": 6,
   "metadata": {
    "ExecuteTime": {
     "end_time": "2024-06-12T11:46:07.269536Z",
     "start_time": "2024-06-12T11:45:46.126947Z"
    },
    "execution": {
     "iopub.execute_input": "2023-06-08T14:50:12.943209Z",
     "iopub.status.busy": "2023-06-08T14:50:12.942562Z",
     "iopub.status.idle": "2023-06-08T14:51:15.385674Z",
     "shell.execute_reply": "2023-06-08T14:51:15.384598Z",
     "shell.execute_reply.started": "2023-06-08T14:50:12.943167Z"
    },
    "id": "EksOwZ3fPZCE"
   },
   "outputs": [],
   "source": [
    "train_data['clean_tweet_text'] = train_data.Text.apply(clean_text)"
   ]
  },
  {
   "cell_type": "code",
   "execution_count": 7,
   "metadata": {
    "ExecuteTime": {
     "end_time": "2024-06-12T11:46:07.285044Z",
     "start_time": "2024-06-12T11:46:07.270529Z"
    },
    "execution": {
     "iopub.execute_input": "2023-06-08T14:51:15.387861Z",
     "iopub.status.busy": "2023-06-08T14:51:15.387433Z",
     "iopub.status.idle": "2023-06-08T14:51:15.39881Z",
     "shell.execute_reply": "2023-06-08T14:51:15.397586Z",
     "shell.execute_reply.started": "2023-06-08T14:51:15.387821Z"
    },
    "id": "lFIZ299MPZGG",
    "outputId": "f66a7c7a-e86d-4925-f071-17590f293b5d"
   },
   "outputs": [
    {
     "name": "stdout",
     "output_type": "stream",
     "text": [
      "                                                Text Sentiment  \\\n",
      "0                                                nan   neutral   \n",
      "1                     Sage Act upgrade list tommorow  Positive   \n",
      "2  WAY HOMEGIRL BABY FUNERAL MAN HATE FUNERALS SH...  Negative   \n",
      "3  eye  true hazel eyeand brilliant  Regular feat...  Positive   \n",
      "4    ugh babe hugggzzz u  babe naamazed nga ako e...  Positive   \n",
      "\n",
      "                                    clean_tweet_text  \n",
      "0                                                nan  \n",
      "1                     sage act upgrade list tommorow  \n",
      "2  way homegirl baby funeral man hate funeral sho...  \n",
      "3  eye true hazel eyeand brilliant regular featur...  \n",
      "4  ugh babe hugggzzz u babe naamazed nga ako e ba...  \n"
     ]
    }
   ],
   "source": [
    "print(train_data.head())"
   ]
  },
  {
   "cell_type": "code",
   "execution_count": 8,
   "metadata": {
    "ExecuteTime": {
     "end_time": "2024-06-12T11:49:19.122427Z",
     "start_time": "2024-06-12T11:49:19.114427Z"
    },
    "execution": {
     "iopub.execute_input": "2023-06-08T14:51:20.566097Z",
     "iopub.status.busy": "2023-06-08T14:51:20.56572Z",
     "iopub.status.idle": "2023-06-08T14:51:20.574943Z",
     "shell.execute_reply": "2023-06-08T14:51:20.573839Z",
     "shell.execute_reply.started": "2023-06-08T14:51:20.566057Z"
    },
    "id": "FgRRUAEqaOeb"
   },
   "outputs": [],
   "source": [
    "train_data=train_data.drop([\"Text\"],axis=1)"
   ]
  },
  {
   "cell_type": "code",
   "execution_count": 9,
   "metadata": {
    "ExecuteTime": {
     "end_time": "2024-06-12T11:49:21.515839Z",
     "start_time": "2024-06-12T11:49:21.509840Z"
    },
    "execution": {
     "iopub.execute_input": "2023-06-08T14:51:20.577147Z",
     "iopub.status.busy": "2023-06-08T14:51:20.576837Z",
     "iopub.status.idle": "2023-06-08T14:51:20.590134Z",
     "shell.execute_reply": "2023-06-08T14:51:20.588981Z",
     "shell.execute_reply.started": "2023-06-08T14:51:20.577119Z"
    },
    "id": "gLDi1WypaOnG",
    "outputId": "022cbe18-5c8e-44aa-cef6-574105f4f31f"
   },
   "outputs": [
    {
     "data": {
      "text/html": [
       "<div>\n",
       "<style scoped>\n",
       "    .dataframe tbody tr th:only-of-type {\n",
       "        vertical-align: middle;\n",
       "    }\n",
       "\n",
       "    .dataframe tbody tr th {\n",
       "        vertical-align: top;\n",
       "    }\n",
       "\n",
       "    .dataframe thead th {\n",
       "        text-align: right;\n",
       "    }\n",
       "</style>\n",
       "<table border=\"1\" class=\"dataframe\">\n",
       "  <thead>\n",
       "    <tr style=\"text-align: right;\">\n",
       "      <th></th>\n",
       "      <th>Sentiment</th>\n",
       "      <th>clean_tweet_text</th>\n",
       "    </tr>\n",
       "  </thead>\n",
       "  <tbody>\n",
       "    <tr>\n",
       "      <th>0</th>\n",
       "      <td>neutral</td>\n",
       "      <td>nan</td>\n",
       "    </tr>\n",
       "    <tr>\n",
       "      <th>1</th>\n",
       "      <td>Positive</td>\n",
       "      <td>sage act upgrade list tommorow</td>\n",
       "    </tr>\n",
       "    <tr>\n",
       "      <th>2</th>\n",
       "      <td>Negative</td>\n",
       "      <td>way homegirl baby funeral man hate funeral sho...</td>\n",
       "    </tr>\n",
       "    <tr>\n",
       "      <th>3</th>\n",
       "      <td>Positive</td>\n",
       "      <td>eye true hazel eyeand brilliant regular featur...</td>\n",
       "    </tr>\n",
       "    <tr>\n",
       "      <th>4</th>\n",
       "      <td>Positive</td>\n",
       "      <td>ugh babe hugggzzz u babe naamazed nga ako e ba...</td>\n",
       "    </tr>\n",
       "  </tbody>\n",
       "</table>\n",
       "</div>"
      ],
      "text/plain": [
       "  Sentiment                                   clean_tweet_text\n",
       "0   neutral                                                nan\n",
       "1  Positive                     sage act upgrade list tommorow\n",
       "2  Negative  way homegirl baby funeral man hate funeral sho...\n",
       "3  Positive  eye true hazel eyeand brilliant regular featur...\n",
       "4  Positive  ugh babe hugggzzz u babe naamazed nga ako e ba..."
      ]
     },
     "execution_count": 9,
     "metadata": {},
     "output_type": "execute_result"
    }
   ],
   "source": [
    "train_data.head()"
   ]
  },
  {
   "cell_type": "code",
   "execution_count": 10,
   "metadata": {
    "ExecuteTime": {
     "end_time": "2024-06-12T11:49:23.721480Z",
     "start_time": "2024-06-12T11:49:23.716477Z"
    },
    "execution": {
     "iopub.execute_input": "2023-06-08T14:51:20.592181Z",
     "iopub.status.busy": "2023-06-08T14:51:20.591798Z",
     "iopub.status.idle": "2023-06-08T14:51:20.598076Z",
     "shell.execute_reply": "2023-06-08T14:51:20.596846Z",
     "shell.execute_reply.started": "2023-06-08T14:51:20.592142Z"
    },
    "id": "iIfp49hcbyhB"
   },
   "outputs": [],
   "source": [
    "max_len=128\n",
    "text_data=train_data[\"clean_tweet_text\"]\n",
    "label_data=train_data[\"Sentiment\"]"
   ]
  },
  {
   "cell_type": "markdown",
   "metadata": {
    "id": "qdaPVMYbbbbO"
   },
   "source": [
    "# roberta_tokenizer"
   ]
  },
  {
   "cell_type": "code",
   "execution_count": 11,
   "metadata": {
    "ExecuteTime": {
     "end_time": "2024-06-12T11:49:25.726813Z",
     "start_time": "2024-06-12T11:49:25.465488Z"
    },
    "execution": {
     "iopub.execute_input": "2023-06-08T14:51:20.610689Z",
     "iopub.status.busy": "2023-06-08T14:51:20.610246Z",
     "iopub.status.idle": "2023-06-08T14:51:25.541375Z",
     "shell.execute_reply": "2023-06-08T14:51:25.540311Z",
     "shell.execute_reply.started": "2023-06-08T14:51:20.610653Z"
    },
    "id": "RqTbI32waOtk"
   },
   "outputs": [],
   "source": [
    "roberta_tokenizer = RobertaTokenizer.from_pretrained(\"roberta-base\")"
   ]
  },
  {
   "cell_type": "markdown",
   "metadata": {
    "id": "5n7J2DqbbjBT"
   },
   "source": [
    "# roberta_model"
   ]
  },
  {
   "cell_type": "code",
   "execution_count": 12,
   "metadata": {
    "ExecuteTime": {
     "end_time": "2024-06-12T11:49:29.614309Z",
     "start_time": "2024-06-12T11:49:29.600301Z"
    }
   },
   "outputs": [
    {
     "name": "stdout",
     "output_type": "stream",
     "text": [
      "tf.Tensor(1044.412, shape=(), dtype=float32)\n"
     ]
    }
   ],
   "source": [
    "import tensorflow as tf\n",
    "print(tf.reduce_sum(tf.random.normal([1000, 1000])))"
   ]
  },
  {
   "cell_type": "code",
   "execution_count": 13,
   "metadata": {
    "ExecuteTime": {
     "end_time": "2024-06-12T11:57:09.376759Z",
     "start_time": "2024-06-12T11:56:24.432392Z"
    },
    "execution": {
     "iopub.execute_input": "2023-06-08T14:51:25.543545Z",
     "iopub.status.busy": "2023-06-08T14:51:25.54285Z",
     "iopub.status.idle": "2023-06-08T14:51:54.528313Z",
     "shell.execute_reply": "2023-06-08T14:51:54.527226Z",
     "shell.execute_reply.started": "2023-06-08T14:51:25.543503Z"
    },
    "id": "D4AugOATaO0f",
    "outputId": "5ff24a49-842f-408e-9695-da1838840e9f"
   },
   "outputs": [
    {
     "name": "stderr",
     "output_type": "stream",
     "text": [
      "Some weights of the PyTorch model were not used when initializing the TF 2.0 model TFRobertaModel: ['lm_head.dense.weight', 'lm_head.dense.bias', 'lm_head.layer_norm.weight', 'lm_head.layer_norm.bias', 'roberta.embeddings.position_ids', 'lm_head.bias']\n",
      "- This IS expected if you are initializing TFRobertaModel from a PyTorch model trained on another task or with another architecture (e.g. initializing a TFBertForSequenceClassification model from a BertForPreTraining model).\n",
      "- This IS NOT expected if you are initializing TFRobertaModel from a PyTorch model that you expect to be exactly identical (e.g. initializing a TFBertForSequenceClassification model from a BertForSequenceClassification model).\n",
      "Some weights or buffers of the TF 2.0 model TFRobertaModel were not initialized from the PyTorch model and are newly initialized: ['roberta.pooler.dense.weight', 'roberta.pooler.dense.bias']\n",
      "You should probably TRAIN this model on a down-stream task to be able to use it for predictions and inference.\n"
     ]
    }
   ],
   "source": [
    "roberta_model = TFRobertaModel.from_pretrained(\"roberta-base\")"
   ]
  },
  {
   "cell_type": "markdown",
   "metadata": {
    "id": "Gg_dnb_7nMXe"
   },
   "source": [
    "# Sample Text"
   ]
  },
  {
   "cell_type": "code",
   "execution_count": 14,
   "metadata": {
    "ExecuteTime": {
     "end_time": "2024-06-12T11:57:30.682821Z",
     "start_time": "2024-06-12T11:57:30.669815Z"
    },
    "execution": {
     "iopub.execute_input": "2023-06-08T14:51:54.530782Z",
     "iopub.status.busy": "2023-06-08T14:51:54.529806Z",
     "iopub.status.idle": "2023-06-08T14:51:54.56176Z",
     "shell.execute_reply": "2023-06-08T14:51:54.56067Z",
     "shell.execute_reply.started": "2023-06-08T14:51:54.530737Z"
    },
    "id": "PR-jLsKJaPCy",
    "outputId": "58d8325a-dfa0-420c-b289-2b323223b58c"
   },
   "outputs": [
    {
     "data": {
      "text/plain": [
       "'time elated vice said mr tyson'"
      ]
     },
     "execution_count": 14,
     "metadata": {},
     "output_type": "execute_result"
    }
   ],
   "source": [
    "text_data[1300]"
   ]
  },
  {
   "cell_type": "code",
   "execution_count": 15,
   "metadata": {
    "ExecuteTime": {
     "end_time": "2024-06-12T11:57:31.424552Z",
     "start_time": "2024-06-12T11:57:31.413032Z"
    },
    "execution": {
     "iopub.execute_input": "2023-06-08T14:51:54.563939Z",
     "iopub.status.busy": "2023-06-08T14:51:54.563496Z",
     "iopub.status.idle": "2023-06-08T14:51:56.152577Z",
     "shell.execute_reply": "2023-06-08T14:51:56.151382Z",
     "shell.execute_reply.started": "2023-06-08T14:51:54.563899Z"
    },
    "id": "FGGUFczEaPMb",
    "outputId": "718d54a0-6963-4b6b-acd4-19e24fd9e841"
   },
   "outputs": [],
   "source": [
    "encode_data=roberta_tokenizer.encode_plus(text_data[1300],add_special_tokens = True,max_length =40,pad_to_max_length = True,truncation=True)"
   ]
  },
  {
   "cell_type": "code",
   "execution_count": 16,
   "metadata": {
    "ExecuteTime": {
     "end_time": "2024-06-12T11:57:32.150622Z",
     "start_time": "2024-06-12T11:57:32.137597Z"
    },
    "execution": {
     "iopub.execute_input": "2023-06-08T14:51:56.154582Z",
     "iopub.status.busy": "2023-06-08T14:51:56.154195Z",
     "iopub.status.idle": "2023-06-08T14:51:56.165647Z",
     "shell.execute_reply": "2023-06-08T14:51:56.164357Z",
     "shell.execute_reply.started": "2023-06-08T14:51:56.154551Z"
    },
    "id": "c1BKS6huPZf_",
    "outputId": "11aec23f-8385-4ab6-b250-1c6f64590815"
   },
   "outputs": [
    {
     "data": {
      "text/plain": [
       "{'input_ids': [0, 958, 1615, 1070, 2626, 26, 475, 338, 326, 20216, 2, 1, 1, 1, 1, 1, 1, 1, 1, 1, 1, 1, 1, 1, 1, 1, 1, 1, 1, 1, 1, 1, 1, 1, 1, 1, 1, 1, 1, 1], 'attention_mask': [1, 1, 1, 1, 1, 1, 1, 1, 1, 1, 1, 0, 0, 0, 0, 0, 0, 0, 0, 0, 0, 0, 0, 0, 0, 0, 0, 0, 0, 0, 0, 0, 0, 0, 0, 0, 0, 0, 0, 0]}"
      ]
     },
     "execution_count": 16,
     "metadata": {},
     "output_type": "execute_result"
    }
   ],
   "source": [
    "encode_data"
   ]
  },
  {
   "cell_type": "code",
   "execution_count": 17,
   "metadata": {
    "ExecuteTime": {
     "end_time": "2024-06-12T12:10:20.758319Z",
     "start_time": "2024-06-12T12:10:20.705148Z"
    },
    "execution": {
     "iopub.execute_input": "2023-06-08T14:51:56.168314Z",
     "iopub.status.busy": "2023-06-08T14:51:56.167868Z",
     "iopub.status.idle": "2023-06-08T14:51:56.299654Z",
     "shell.execute_reply": "2023-06-08T14:51:56.298658Z",
     "shell.execute_reply.started": "2023-06-08T14:51:56.168272Z"
    },
    "id": "e9Oul71epI0R",
    "outputId": "1f630b50-9a89-41a5-f532-1ab78cca25fd",
    "scrolled": true
   },
   "outputs": [],
   "source": [
    "test_input_id=np.asarray(encode_data['input_ids'])\n",
    "test_attention_mask=np.asarray(encode_data['attention_mask'])\n"
   ]
  },
  {
   "cell_type": "code",
   "execution_count": 18,
   "metadata": {},
   "outputs": [
    {
     "name": "stdout",
     "output_type": "stream",
     "text": [
      "(40,)\n",
      "(40,)\n",
      "(1, 40)\n"
     ]
    }
   ],
   "source": [
    "print(test_input_id.shape)\n",
    "print(test_attention_mask.shape)\n",
    "\n",
    "print(test_attention_mask.reshape(1,-1).shape)"
   ]
  },
  {
   "cell_type": "code",
   "execution_count": 19,
   "metadata": {
    "scrolled": true
   },
   "outputs": [
    {
     "name": "stdout",
     "output_type": "stream",
     "text": [
      "Requirement already satisfied: transformers in c:\\users\\alexh\\miniconda3\\lib\\site-packages (4.41.2)Note: you may need to restart the kernel to use updated packages.\n",
      "\n",
      "Requirement already satisfied: filelock in c:\\users\\alexh\\miniconda3\\lib\\site-packages (from transformers) (3.14.0)\n",
      "Requirement already satisfied: huggingface-hub<1.0,>=0.23.0 in c:\\users\\alexh\\miniconda3\\lib\\site-packages (from transformers) (0.23.3)\n",
      "Requirement already satisfied: numpy>=1.17 in c:\\users\\alexh\\miniconda3\\lib\\site-packages (from transformers) (1.26.4)\n",
      "Requirement already satisfied: packaging>=20.0 in c:\\users\\alexh\\miniconda3\\lib\\site-packages (from transformers) (23.2)\n",
      "Requirement already satisfied: pyyaml>=5.1 in c:\\users\\alexh\\miniconda3\\lib\\site-packages (from transformers) (6.0.1)\n",
      "Requirement already satisfied: regex!=2019.12.17 in c:\\users\\alexh\\miniconda3\\lib\\site-packages (from transformers) (2024.5.15)\n",
      "Requirement already satisfied: requests in c:\\users\\alexh\\miniconda3\\lib\\site-packages (from transformers) (2.31.0)\n",
      "Requirement already satisfied: tokenizers<0.20,>=0.19 in c:\\users\\alexh\\miniconda3\\lib\\site-packages (from transformers) (0.19.1)\n",
      "Requirement already satisfied: safetensors>=0.4.1 in c:\\users\\alexh\\miniconda3\\lib\\site-packages (from transformers) (0.4.3)\n",
      "Requirement already satisfied: tqdm>=4.27 in c:\\users\\alexh\\miniconda3\\lib\\site-packages (from transformers) (4.65.0)\n",
      "Requirement already satisfied: fsspec>=2023.5.0 in c:\\users\\alexh\\miniconda3\\lib\\site-packages (from huggingface-hub<1.0,>=0.23.0->transformers) (2024.6.0)\n",
      "Requirement already satisfied: typing-extensions>=3.7.4.3 in c:\\users\\alexh\\miniconda3\\lib\\site-packages (from huggingface-hub<1.0,>=0.23.0->transformers) (4.11.0)\n",
      "Requirement already satisfied: colorama in c:\\users\\alexh\\miniconda3\\lib\\site-packages (from tqdm>=4.27->transformers) (0.4.6)\n",
      "Requirement already satisfied: charset-normalizer<4,>=2 in c:\\users\\alexh\\miniconda3\\lib\\site-packages (from requests->transformers) (2.0.4)\n",
      "Requirement already satisfied: idna<4,>=2.5 in c:\\users\\alexh\\miniconda3\\lib\\site-packages (from requests->transformers) (3.4)\n",
      "Requirement already satisfied: urllib3<3,>=1.21.1 in c:\\users\\alexh\\miniconda3\\lib\\site-packages (from requests->transformers) (2.1.0)\n",
      "Requirement already satisfied: certifi>=2017.4.17 in c:\\users\\alexh\\miniconda3\\lib\\site-packages (from requests->transformers) (2024.6.2)\n"
     ]
    }
   ],
   "source": [
    "pip install transformers"
   ]
  },
  {
   "cell_type": "code",
   "execution_count": 20,
   "metadata": {},
   "outputs": [],
   "source": [
    "import transformers"
   ]
  },
  {
   "cell_type": "code",
   "execution_count": 21,
   "metadata": {},
   "outputs": [
    {
     "name": "stdout",
     "output_type": "stream",
     "text": [
      "True\n"
     ]
    }
   ],
   "source": [
    "print(isinstance(roberta_model, transformers.TFRobertaModel))  # Should return True\n"
   ]
  },
  {
   "cell_type": "code",
   "execution_count": 22,
   "metadata": {},
   "outputs": [
    {
     "data": {
      "text/plain": [
       "transformers.modeling_tf_outputs.TFBaseModelOutputWithPoolingAndCrossAttentions"
      ]
     },
     "execution_count": 22,
     "metadata": {},
     "output_type": "execute_result"
    }
   ],
   "source": [
    "output_data=roberta_model([test_input_id.reshape(1,-1),test_attention_mask.reshape(1,-1)])\n",
    "\n",
    "type(output_data)"
   ]
  },
  {
   "cell_type": "code",
   "execution_count": 23,
   "metadata": {
    "execution": {
     "iopub.execute_input": "2023-06-08T14:51:56.301902Z",
     "iopub.status.busy": "2023-06-08T14:51:56.301455Z",
     "iopub.status.idle": "2023-06-08T14:51:56.325282Z",
     "shell.execute_reply": "2023-06-08T14:51:56.324114Z",
     "shell.execute_reply.started": "2023-06-08T14:51:56.301857Z"
    },
    "id": "brkCVXRYpJdE",
    "outputId": "2017c028-dc99-45d5-8129-b1b4f3f057a2"
   },
   "outputs": [
    {
     "data": {
      "text/plain": [
       "TFBaseModelOutputWithPoolingAndCrossAttentions(last_hidden_state=<tf.Tensor: shape=(1, 40, 768), dtype=float32, numpy=\n",
       "array([[[-0.06151576,  0.06928044, -0.02511747, ..., -0.11403868,\n",
       "         -0.06508613, -0.01430185],\n",
       "        [-0.22992018,  0.00537658, -0.2360584 , ..., -0.31573626,\n",
       "         -0.1950437 ,  0.00210309],\n",
       "        [ 0.07679282,  0.1645904 ,  0.03715213, ...,  0.05029377,\n",
       "          0.02517287,  0.10758667],\n",
       "        ...,\n",
       "        [ 0.04703602, -0.03357879, -0.10649902, ..., -0.4143144 ,\n",
       "         -0.0469461 ,  0.00187367],\n",
       "        [ 0.04703602, -0.03357879, -0.10649902, ..., -0.4143144 ,\n",
       "         -0.0469461 ,  0.00187367],\n",
       "        [ 0.04703602, -0.03357879, -0.10649902, ..., -0.4143144 ,\n",
       "         -0.0469461 ,  0.00187367]]], dtype=float32)>, pooler_output=<tf.Tensor: shape=(1, 768), dtype=float32, numpy=\n",
       "array([[-2.50649244e-01,  9.93642956e-02,  1.59080058e-01,\n",
       "         3.90634626e-01, -7.45110353e-03, -5.69602735e-02,\n",
       "        -2.41493925e-01,  2.22275585e-01, -1.20153114e-01,\n",
       "        -2.93174237e-01,  7.27146566e-02,  5.36008272e-03,\n",
       "         4.28800464e-01,  4.25716251e-01,  1.81237206e-01,\n",
       "        -9.66152698e-02,  1.50504962e-01,  3.65854621e-01,\n",
       "         1.94887836e-02,  3.61360908e-01,  4.11524624e-02,\n",
       "        -7.70067871e-02,  2.28554189e-01, -1.47369608e-01,\n",
       "        -1.12875156e-01,  1.52035011e-02, -2.27703542e-01,\n",
       "         4.84559266e-03,  1.25531644e-01, -8.57721362e-03,\n",
       "        -3.28933299e-01,  2.03324243e-01,  3.19389254e-01,\n",
       "         2.33611315e-02, -2.73131937e-01, -1.50669441e-02,\n",
       "        -3.74416932e-02, -5.13459183e-02,  2.01525301e-01,\n",
       "        -2.35246792e-02, -1.89031690e-01, -2.28247359e-01,\n",
       "         1.92622244e-01, -7.45100304e-02,  4.26557325e-02,\n",
       "         6.26942050e-03, -2.61296481e-01,  1.49815857e-01,\n",
       "        -1.04830660e-01, -3.56440395e-02,  2.83423085e-02,\n",
       "         4.18824591e-02,  1.28858551e-01, -1.49891615e-01,\n",
       "         1.58001274e-01,  2.27437824e-01, -9.84781161e-02,\n",
       "         2.38092586e-01, -3.58409584e-02,  5.27253076e-02,\n",
       "         2.28296101e-01,  4.50378098e-02, -3.23497653e-01,\n",
       "        -5.11821359e-03,  1.14913182e-02,  2.40462750e-01,\n",
       "        -1.40959173e-01,  3.42820495e-01,  1.54050559e-01,\n",
       "         3.97291362e-01,  3.74024719e-01,  3.57256025e-01,\n",
       "        -1.86617643e-01, -2.32578948e-01, -3.33571658e-02,\n",
       "        -3.18424165e-01,  1.55351222e-01, -1.34231567e-01,\n",
       "         3.01919967e-01, -5.62437885e-02, -1.42197400e-01,\n",
       "        -2.46866763e-01,  4.53208797e-02,  2.20689848e-01,\n",
       "        -2.27530718e-01,  3.34016323e-01,  1.70055702e-01,\n",
       "        -8.20286646e-02,  2.08587945e-01, -2.28646565e-02,\n",
       "         2.84506083e-01,  1.02202475e-01,  4.43251841e-02,\n",
       "        -1.61970146e-02,  1.15788378e-01,  1.61387637e-01,\n",
       "        -2.41088778e-01,  1.26807958e-01, -1.09740525e-01,\n",
       "        -5.36152199e-02,  2.09143773e-01, -9.98182073e-02,\n",
       "         2.00151697e-01, -3.87104392e-01,  1.60932526e-01,\n",
       "         2.53814369e-01,  1.27975300e-01,  1.00914851e-01,\n",
       "         1.33787006e-01, -4.27957267e-01, -2.91409492e-01,\n",
       "         7.32053071e-02, -1.96850508e-01,  1.69355609e-02,\n",
       "         1.91306457e-01, -2.52861112e-01,  1.26278132e-01,\n",
       "         3.66353273e-01, -2.45426491e-01,  7.97574222e-02,\n",
       "        -2.48773411e-01,  1.25235274e-01,  4.05106507e-02,\n",
       "        -3.49252522e-01,  2.01118037e-01, -4.38876040e-02,\n",
       "        -8.25543031e-02, -1.28729835e-01, -3.66800725e-01,\n",
       "         2.80787349e-01, -5.96086010e-02,  3.75217348e-01,\n",
       "        -2.50185162e-01,  1.25008538e-01, -3.44722420e-02,\n",
       "         1.21402524e-01,  3.02354902e-01, -3.09049785e-01,\n",
       "        -2.33660758e-01,  1.66932195e-02, -9.97869372e-02,\n",
       "         1.65917024e-01, -1.15614831e-01, -4.26488310e-01,\n",
       "         1.51023477e-01, -3.15404031e-04, -2.92156488e-01,\n",
       "         1.09840691e-01, -2.45723836e-02, -9.19887871e-02,\n",
       "         4.93173450e-02, -1.17187589e-01, -1.14228660e-02,\n",
       "        -2.36742496e-01,  3.21388215e-01,  4.98781912e-02,\n",
       "        -5.49872369e-02,  3.68111953e-02, -2.27130926e-03,\n",
       "         1.31646469e-01, -3.31215411e-02, -7.19120428e-02,\n",
       "         2.44705364e-01, -3.67434204e-01, -4.43717949e-02,\n",
       "        -3.15277278e-01, -1.71151564e-01,  1.87271565e-01,\n",
       "         1.37692690e-02, -2.04452485e-01, -3.45500261e-01,\n",
       "         9.36329458e-03, -2.35454425e-01, -1.06395423e-01,\n",
       "        -2.46498175e-02, -5.22940457e-02, -4.76394221e-02,\n",
       "         2.65872777e-01, -1.86813667e-01,  2.48531356e-01,\n",
       "        -7.17893317e-02,  1.75709918e-01, -9.27136615e-02,\n",
       "         2.61478841e-01, -1.14720292e-01,  6.65313676e-02,\n",
       "         1.07224369e-02,  1.63768113e-01, -2.69120634e-01,\n",
       "         1.67487845e-01, -6.75394759e-03,  2.20164835e-01,\n",
       "        -2.69180834e-01, -1.77038208e-01,  8.70857090e-02,\n",
       "        -3.82566154e-01, -2.61963755e-01, -1.40700683e-01,\n",
       "         8.17541033e-02,  5.14799403e-03, -3.37234288e-01,\n",
       "         3.80142957e-01, -1.32871583e-01,  8.68271366e-02,\n",
       "         2.05414563e-01,  3.49952638e-01,  3.90411556e-01,\n",
       "         2.01470718e-01, -3.08330745e-01,  2.17715904e-01,\n",
       "        -3.01343147e-02, -1.44879118e-01,  3.63589942e-01,\n",
       "        -2.69688427e-01,  1.84598327e-01,  2.73088962e-01,\n",
       "        -9.49471891e-02,  4.16978784e-02,  1.02455780e-01,\n",
       "         1.74030513e-02, -4.73118611e-02, -3.36888969e-01,\n",
       "        -1.19400620e-01, -1.25903293e-01, -4.34931740e-02,\n",
       "         7.86913931e-02, -2.24356517e-01,  5.03126793e-02,\n",
       "         2.97108203e-01, -1.12154491e-01,  1.34437084e-01,\n",
       "        -2.33299583e-01,  1.44766182e-01, -1.59361199e-01,\n",
       "        -2.62212753e-01, -1.77418396e-01,  1.36722982e-01,\n",
       "        -5.02636507e-02,  2.05286026e-01, -5.81399649e-02,\n",
       "         9.11165178e-02, -2.60922134e-01,  2.72776425e-01,\n",
       "        -8.61150622e-02, -1.66358456e-01, -4.09022123e-01,\n",
       "        -2.01491266e-03, -3.52423228e-02, -1.04946122e-01,\n",
       "        -1.69896394e-01,  3.01845036e-02, -3.32052797e-01,\n",
       "         3.32582593e-01, -3.64699870e-01,  1.94658175e-01,\n",
       "         2.81082064e-01, -9.67666805e-02, -2.82037146e-02,\n",
       "         1.97246015e-01, -1.24418445e-01, -2.90003955e-01,\n",
       "         1.58543959e-01,  2.01817662e-01,  1.35029465e-01,\n",
       "         1.36629388e-01,  3.80727872e-02,  5.09382319e-03,\n",
       "        -1.27061307e-01, -2.31062025e-01,  6.82683438e-02,\n",
       "         3.67898315e-01,  3.39626670e-01,  2.02583387e-01,\n",
       "         9.91768241e-02,  2.79323515e-02, -2.68931299e-01,\n",
       "        -1.27617240e-01,  2.27056652e-01,  3.11101880e-02,\n",
       "        -5.95689518e-03, -4.77211662e-02, -2.14881226e-01,\n",
       "        -6.32139966e-02,  3.84783074e-02,  2.34098509e-01,\n",
       "        -3.77980798e-01, -1.35339126e-01, -1.43489823e-01,\n",
       "         1.62506681e-02, -3.62700313e-01, -1.11753255e-01,\n",
       "        -2.08859459e-01,  1.17890172e-01,  2.58133173e-01,\n",
       "        -4.75904569e-02, -7.86422715e-02, -2.72731986e-02,\n",
       "         2.52953887e-01,  2.64684737e-01,  4.75899838e-02,\n",
       "        -2.05371127e-01, -1.35516096e-02, -1.15362540e-01,\n",
       "        -7.84604158e-03, -6.34374171e-02, -1.02131262e-01,\n",
       "         5.02031818e-02, -2.42585868e-01, -1.78420439e-01,\n",
       "         2.69264460e-01,  2.68327594e-01, -2.44617999e-01,\n",
       "         2.19123840e-01, -2.84956321e-02, -1.93950251e-01,\n",
       "        -1.56057119e-01, -2.18900710e-01,  1.11558743e-01,\n",
       "        -2.18559250e-01, -3.31629850e-02,  1.12452962e-01,\n",
       "         7.23515749e-02,  1.57213375e-01,  5.99545650e-02,\n",
       "        -3.15950751e-01,  1.77469254e-01,  1.42327875e-01,\n",
       "         1.37614265e-01,  5.92724327e-03, -4.02408898e-01,\n",
       "         1.40809253e-01,  2.95789182e-01,  2.54846334e-01,\n",
       "        -4.09028858e-01, -2.29098201e-02,  4.26242426e-02,\n",
       "        -4.85371128e-02,  2.32400209e-01, -1.78747654e-01,\n",
       "        -1.07407747e-02,  4.08427954e-01,  2.24608704e-01,\n",
       "        -7.79744685e-02, -1.21945940e-01, -1.30749783e-02,\n",
       "         3.05477413e-03, -1.65780321e-01, -1.20897867e-01,\n",
       "         3.87793854e-02, -7.40999877e-02, -2.21971735e-01,\n",
       "        -1.07299305e-01,  2.73333453e-02, -7.57897794e-02,\n",
       "        -1.47312149e-01,  1.55817848e-02, -2.95210928e-01,\n",
       "         3.08968425e-01,  5.36311865e-02,  1.32079378e-01,\n",
       "        -1.78563282e-01, -2.23046377e-01, -2.40505040e-01,\n",
       "        -2.56823003e-01,  1.78486437e-01, -2.78136671e-01,\n",
       "        -2.89386004e-01, -4.56528142e-02,  7.39790872e-02,\n",
       "         9.95920748e-02,  9.43162069e-02, -8.38840604e-02,\n",
       "        -2.94895977e-01, -1.29927415e-04,  3.97422552e-01,\n",
       "         2.77984887e-01,  2.83834457e-01,  1.37114525e-01,\n",
       "        -1.35731056e-01, -2.08484125e-04,  5.20784445e-02,\n",
       "         1.50762767e-01,  1.41633213e-01, -6.84326291e-02,\n",
       "        -5.25526479e-02, -1.61487889e-02,  2.24907547e-01,\n",
       "         7.84498230e-02,  3.83613497e-01,  4.05036002e-01,\n",
       "        -1.69230551e-01,  3.00816625e-01,  8.48796815e-02,\n",
       "        -1.84060737e-01, -3.25526185e-02, -3.52140889e-02,\n",
       "        -6.35307431e-02,  2.03720808e-01,  8.27824771e-02,\n",
       "         2.63186842e-02,  1.48732727e-02, -7.01643825e-02,\n",
       "         5.72044216e-02,  7.78131187e-02,  1.26624405e-02,\n",
       "        -7.24084303e-02, -2.20837101e-01, -6.21128269e-02,\n",
       "        -3.78753580e-02, -4.90266904e-02, -1.12454198e-01,\n",
       "         2.46869236e-01,  1.07893080e-01, -1.84693888e-01,\n",
       "         4.94697839e-02, -3.03990394e-01,  5.55972233e-02,\n",
       "         1.17329925e-01, -8.20785388e-02, -4.89563830e-02,\n",
       "        -1.55943781e-01,  3.86880757e-03,  1.18927114e-01,\n",
       "         3.14057320e-02,  6.97986931e-02, -2.41966937e-02,\n",
       "        -2.19110772e-01,  1.11916229e-01,  9.75352302e-02,\n",
       "        -4.37733904e-02,  1.98305890e-01, -1.77799121e-01,\n",
       "        -1.81889102e-01, -1.53411746e-01,  1.98844448e-01,\n",
       "         1.46720007e-01,  3.32106292e-01, -2.66177319e-02,\n",
       "        -3.49840134e-01, -1.27707273e-01, -1.57665849e-01,\n",
       "        -3.19327623e-01, -5.18223867e-02,  3.86538893e-01,\n",
       "        -1.84940044e-02, -8.38345364e-02,  1.82222918e-01,\n",
       "        -5.59835322e-02, -1.72731164e-03, -1.27214655e-01,\n",
       "        -6.09461777e-02, -2.02219009e-01, -1.27711073e-01,\n",
       "         1.36534080e-01, -3.41701843e-02,  2.82164633e-01,\n",
       "        -2.04750806e-01, -1.89899690e-02,  1.78615674e-01,\n",
       "        -2.99519479e-01,  4.51804996e-01,  1.15202079e-02,\n",
       "        -8.82672891e-02,  3.66651595e-01,  2.91781604e-01,\n",
       "         3.85001689e-01,  9.05180871e-02,  2.53084719e-01,\n",
       "         1.69394672e-01, -2.55619287e-01,  4.90587987e-02,\n",
       "        -5.69703206e-02, -1.37767773e-02,  1.83697179e-01,\n",
       "        -3.34564358e-01,  2.54034437e-02, -1.06566139e-02,\n",
       "         2.81456467e-02,  3.29052776e-01,  3.42681676e-01,\n",
       "        -2.80139595e-01, -2.76899822e-02, -2.72003233e-01,\n",
       "         9.94111076e-02,  3.33619714e-01, -6.04584962e-02,\n",
       "         9.53959078e-02, -9.34751481e-02,  2.90764980e-02,\n",
       "        -1.82896256e-01, -7.31774941e-02, -1.10256135e-01,\n",
       "        -4.32583719e-01,  1.41125530e-01,  2.86319673e-01,\n",
       "        -1.21450618e-01, -1.32528409e-01, -1.19980164e-01,\n",
       "        -5.60333394e-02, -3.41629028e-01, -1.04822487e-01,\n",
       "         2.85985861e-02,  6.75696356e-04,  4.86516096e-02,\n",
       "        -1.40924960e-01,  2.66696036e-01, -2.59977183e-03,\n",
       "        -2.05542833e-01, -1.83437422e-01,  3.98842879e-02,\n",
       "        -2.52834987e-02, -2.29772300e-01, -1.29059151e-01,\n",
       "        -8.82423073e-02,  3.99743021e-01,  3.08171436e-02,\n",
       "         3.15783471e-01, -8.82002935e-02, -1.12260632e-01,\n",
       "        -9.05910414e-03,  3.50656360e-01, -4.43306826e-02,\n",
       "        -1.64613068e-01, -4.93090525e-02, -5.20771742e-02,\n",
       "        -2.68334925e-01,  6.07481459e-03, -1.04387075e-01,\n",
       "         2.53461838e-01, -1.43496646e-02,  2.54410505e-01,\n",
       "         8.08011591e-02,  2.11528182e-01, -5.82177714e-02,\n",
       "         4.24307227e-01, -2.13763610e-01,  9.29326005e-03,\n",
       "        -3.42983603e-01,  7.77004808e-02,  1.47084966e-01,\n",
       "        -4.18409258e-01,  2.09400132e-01, -1.42664611e-01,\n",
       "        -3.75206172e-02, -1.95550993e-02, -7.28547797e-02,\n",
       "        -2.42232382e-01, -1.31634250e-01, -1.34252518e-01,\n",
       "        -4.85781506e-02, -4.24648635e-02,  3.59312207e-01,\n",
       "         1.95127115e-01,  3.85928713e-02, -9.47008729e-02,\n",
       "         8.82698596e-02, -1.49171844e-01,  4.65562195e-02,\n",
       "        -3.08600247e-01,  1.24085404e-01, -2.26049960e-01,\n",
       "        -2.11918905e-01,  6.28576651e-02,  1.64372876e-01,\n",
       "        -2.35077783e-01,  1.15015276e-01, -1.11297863e-02,\n",
       "         9.26189199e-02,  2.60631945e-02,  1.28382578e-01,\n",
       "        -1.05149209e-01,  1.02785029e-01,  3.37069899e-01,\n",
       "         1.41577244e-01, -5.56166880e-02,  1.14340074e-01,\n",
       "        -3.80676799e-02, -5.58400601e-02, -3.42151493e-01,\n",
       "        -8.17813426e-02,  9.99351498e-04,  6.51273951e-02,\n",
       "        -1.93386357e-02, -1.95466921e-01, -1.45850927e-01,\n",
       "        -2.36115269e-02, -4.42273542e-02, -1.67807311e-01,\n",
       "         1.42275497e-01,  1.33002445e-01, -2.09522530e-01,\n",
       "         1.41178355e-01,  2.41231844e-01,  1.13698710e-02,\n",
       "         1.27231792e-01,  2.38360152e-01,  2.61106402e-01,\n",
       "        -1.13336250e-01, -2.01393798e-01,  2.45008528e-01,\n",
       "        -1.02921605e-01,  4.67430651e-02, -2.94488445e-02,\n",
       "        -2.13746846e-01, -3.15302253e-01, -1.36929646e-01,\n",
       "        -1.05375037e-01, -1.11105712e-02, -8.28457028e-02,\n",
       "        -1.57477915e-01, -2.06671476e-01, -7.37107545e-02,\n",
       "         6.25113472e-02, -2.50591487e-01,  1.52331218e-01,\n",
       "         2.66982373e-02, -1.76258460e-01, -2.33118266e-01,\n",
       "        -4.04993206e-01, -7.42343664e-02,  8.54730383e-02,\n",
       "        -3.03491414e-01,  1.66569456e-01,  2.79984772e-01,\n",
       "        -1.72598884e-01, -1.56969085e-01,  2.71234453e-01,\n",
       "        -3.99264833e-03,  4.17516455e-02,  2.40819991e-01,\n",
       "        -5.56817353e-02,  1.42800465e-01, -1.72110628e-02,\n",
       "        -4.42835763e-02,  1.53571367e-01,  2.93868035e-01,\n",
       "        -1.01040646e-01,  1.49195949e-02,  2.48023584e-01,\n",
       "        -2.17942130e-02,  1.20308258e-01,  2.35276923e-01,\n",
       "         1.53796092e-01,  2.27680895e-02, -3.65812659e-01,\n",
       "        -2.01206133e-01,  4.34187651e-02, -1.02398321e-01,\n",
       "        -1.20213553e-01,  1.75751708e-02, -1.36679351e-01,\n",
       "        -1.37125850e-01, -2.05096841e-01, -1.88521587e-03,\n",
       "        -1.62246414e-02, -1.01382524e-01,  3.46994340e-01,\n",
       "        -2.70297915e-01, -1.03834331e-01,  2.68468469e-01,\n",
       "         3.06316726e-02,  3.68469417e-01, -1.33493707e-01,\n",
       "         8.29195008e-02,  1.10930040e-01,  3.92020792e-02,\n",
       "         3.06654096e-01,  3.08079511e-01, -8.47152919e-02,\n",
       "        -1.90350935e-01, -2.81818539e-01, -1.09979592e-01,\n",
       "        -6.92056268e-02, -2.15497836e-01, -1.12695865e-01,\n",
       "        -2.85299391e-01, -3.66305679e-01,  3.21943730e-01,\n",
       "         9.54083949e-02,  1.73827335e-02, -6.25566952e-03,\n",
       "        -3.07617158e-01,  1.31942108e-01,  1.49269685e-01,\n",
       "         3.81394267e-01,  2.27071255e-01, -1.45301610e-01,\n",
       "         1.35479644e-01, -3.04345638e-02,  1.12467065e-01,\n",
       "         7.26157725e-02, -1.09530613e-01, -3.29755433e-02,\n",
       "        -2.65592039e-01, -8.33498836e-02,  2.54679948e-01,\n",
       "        -2.61147190e-02,  8.10415298e-02,  1.98813736e-01,\n",
       "        -1.25740916e-01, -1.36639833e-01, -3.56476903e-02,\n",
       "         1.39818519e-01, -2.12948367e-01, -2.42194295e-01,\n",
       "         1.10200820e-02, -7.05172122e-02, -1.99539959e-02,\n",
       "        -1.18495025e-01,  8.28351080e-02,  3.48913759e-01,\n",
       "         2.07833529e-01,  3.47066432e-01, -2.48375848e-01,\n",
       "         3.10711056e-01,  3.32949013e-01, -6.88140327e-03,\n",
       "        -1.14797957e-01, -6.26106262e-02,  2.13150546e-01,\n",
       "         7.28340298e-02,  2.42458597e-01,  4.29536439e-02,\n",
       "         1.01765275e-01, -1.41540036e-01, -5.27210198e-02,\n",
       "        -2.33753487e-01, -2.71727532e-01,  5.09829931e-02,\n",
       "         1.20348400e-02, -2.31890716e-02, -8.06740019e-04,\n",
       "         1.32653452e-02,  4.35558677e-01, -2.22567931e-01,\n",
       "        -1.13135859e-01, -1.88687027e-01,  2.29874272e-02,\n",
       "        -1.00048207e-01,  1.78560913e-01,  1.37927279e-01,\n",
       "        -3.41846161e-02,  2.89612502e-01,  1.68212503e-01,\n",
       "        -5.69406003e-02,  9.09091905e-02, -3.54729265e-01,\n",
       "         2.60164291e-01,  2.99857646e-01, -3.00550014e-01,\n",
       "        -2.79201239e-01, -2.85051048e-01, -3.32818061e-01,\n",
       "        -1.16917625e-01, -2.00997576e-01, -5.21755836e-04,\n",
       "         1.68638587e-01,  1.32317515e-02, -7.96698704e-02,\n",
       "         3.96820664e-01,  6.38819784e-02, -2.62358397e-01,\n",
       "         2.91239858e-01,  5.09550422e-02, -2.76397228e-01,\n",
       "         3.87720406e-01,  1.26663625e-01, -1.26226798e-01]], dtype=float32)>, past_key_values=None, hidden_states=None, attentions=None, cross_attentions=None)"
      ]
     },
     "execution_count": 23,
     "metadata": {},
     "output_type": "execute_result"
    }
   ],
   "source": [
    "output_data"
   ]
  },
  {
   "cell_type": "code",
   "execution_count": 24,
   "metadata": {
    "execution": {
     "iopub.execute_input": "2023-06-08T14:51:56.327408Z",
     "iopub.status.busy": "2023-06-08T14:51:56.326996Z",
     "iopub.status.idle": "2023-06-08T14:51:57.532854Z",
     "shell.execute_reply": "2023-06-08T14:51:57.531656Z",
     "shell.execute_reply.started": "2023-06-08T14:51:56.327368Z"
    },
    "id": "laNnYyo1pJhj",
    "outputId": "8a88369f-8a42-4ebb-da2c-dfc067863395"
   },
   "outputs": [
    {
     "data": {
      "text/plain": [
       "'<s>time elated vice said mr tyson</s><pad><pad><pad><pad><pad><pad><pad><pad><pad><pad><pad><pad><pad><pad><pad><pad><pad><pad><pad><pad><pad><pad><pad><pad><pad><pad><pad><pad><pad>'"
      ]
     },
     "execution_count": 24,
     "metadata": {},
     "output_type": "execute_result"
    }
   ],
   "source": [
    "roberta_tokenizer.decode(encode_data[\"input_ids\"])"
   ]
  },
  {
   "cell_type": "code",
   "execution_count": 25,
   "metadata": {
    "execution": {
     "iopub.execute_input": "2023-06-08T14:51:57.535843Z",
     "iopub.status.busy": "2023-06-08T14:51:57.53455Z",
     "iopub.status.idle": "2023-06-08T14:51:57.541252Z",
     "shell.execute_reply": "2023-06-08T14:51:57.540023Z",
     "shell.execute_reply.started": "2023-06-08T14:51:57.53579Z"
    },
    "id": "uuM-HefYpJl8"
   },
   "outputs": [],
   "source": [
    "final_text_data=train_data[\"clean_tweet_text\"]\n",
    "final_label_data=np.array(label_data)"
   ]
  },
  {
   "cell_type": "code",
   "execution_count": 26,
   "metadata": {},
   "outputs": [],
   "source": [
    "new_final_label_data = np.array([0 if label==\"Negative\" else 1 if label==\"neutral\" else 2 for label in label_data])"
   ]
  },
  {
   "cell_type": "code",
   "execution_count": 27,
   "metadata": {},
   "outputs": [],
   "source": [
    "new_final_label_data = np.array([0 if label==\"Negative\" else 1 for label in label_data])"
   ]
  },
  {
   "cell_type": "code",
   "execution_count": 28,
   "metadata": {
    "scrolled": true
   },
   "outputs": [
    {
     "name": "stdout",
     "output_type": "stream",
     "text": [
      "[1 1 0 1 1 0 0 0 0 1 0 0 0 1 1 0 1 0 0 0 0 1 0 1 1]\n"
     ]
    }
   ],
   "source": [
    "print(new_final_label_data[:25])"
   ]
  },
  {
   "cell_type": "code",
   "execution_count": 29,
   "metadata": {},
   "outputs": [
    {
     "name": "stdout",
     "output_type": "stream",
     "text": [
      "0                                                      nan\n",
      "1                           sage act upgrade list tommorow\n",
      "2        way homegirl baby funeral man hate funeral sho...\n",
      "3        eye true hazel eyeand brilliant regular featur...\n",
      "4        ugh babe hugggzzz u babe naamazed nga ako e ba...\n",
      "                               ...                        \n",
      "30725                tuesday woken oscar cornet practice x\n",
      "30726           world didnt meso world definitely cnt away\n",
      "30727                                     man robbed today\n",
      "30728                                 youu jealousy losing\n",
      "30729                                think baby dream time\n",
      "Name: clean_tweet_text, Length: 30730, dtype: object\n"
     ]
    }
   ],
   "source": [
    "print(final_text_data)"
   ]
  },
  {
   "cell_type": "code",
   "execution_count": 30,
   "metadata": {
    "execution": {
     "iopub.execute_input": "2023-06-08T14:51:57.544417Z",
     "iopub.status.busy": "2023-06-08T14:51:57.543425Z",
     "iopub.status.idle": "2023-06-08T14:51:57.553051Z",
     "shell.execute_reply": "2023-06-08T14:51:57.552055Z",
     "shell.execute_reply.started": "2023-06-08T14:51:57.544377Z"
    },
    "id": "DCRWV-gRpJq2"
   },
   "outputs": [],
   "source": [
    "def roberta_encode(final_text_data,max_len):\n",
    "    input_ids=[]\n",
    "    attention_masks=[]\n",
    "    \n",
    "    for i in range(len(final_text_data)):\n",
    "        encode_data=roberta_tokenizer.encode_plus(final_text_data[i],add_special_tokens=True,max_length=max_len,pad_to_max_length=True,return_attention_mask=True)\n",
    "        input_ids.append(encode_data['input_ids'])\n",
    "        attention_masks.append(encode_data[\"attention_mask\"])\n",
    "    return np.array(input_ids),np.array(attention_masks)\n",
    "        "
   ]
  },
  {
   "cell_type": "code",
   "execution_count": 31,
   "metadata": {
    "execution": {
     "iopub.execute_input": "2023-06-08T14:51:57.555447Z",
     "iopub.status.busy": "2023-06-08T14:51:57.555Z",
     "iopub.status.idle": "2023-06-08T14:52:11.360111Z",
     "shell.execute_reply": "2023-06-08T14:52:11.358978Z",
     "shell.execute_reply.started": "2023-06-08T14:51:57.555398Z"
    },
    "id": "CZ5nCIlapJur",
    "outputId": "d26e651a-717c-49ab-cb95-64ca55801455"
   },
   "outputs": [
    {
     "name": "stderr",
     "output_type": "stream",
     "text": [
      "Truncation was not explicitly activated but `max_length` is provided a specific value, please use `truncation=True` to explicitly truncate examples to max length. Defaulting to 'longest_first' truncation strategy. If you encode pairs of sequences (GLUE-style) with the tokenizer you can select this strategy more precisely by providing a specific strategy to `truncation`.\n"
     ]
    }
   ],
   "source": [
    "text_input_ids,text_attention_masks = roberta_encode(final_text_data,max_len)"
   ]
  },
  {
   "cell_type": "code",
   "execution_count": 32,
   "metadata": {
    "execution": {
     "iopub.execute_input": "2023-06-08T14:52:11.362244Z",
     "iopub.status.busy": "2023-06-08T14:52:11.361866Z",
     "iopub.status.idle": "2023-06-08T14:52:11.372515Z",
     "shell.execute_reply": "2023-06-08T14:52:11.3713Z",
     "shell.execute_reply.started": "2023-06-08T14:52:11.362204Z"
    },
    "id": "ovMvAGgApJyB",
    "outputId": "361426d8-a9b9-466e-890d-eee27269530e"
   },
   "outputs": [
    {
     "name": "stdout",
     "output_type": "stream",
     "text": [
      "Text Input Ids Shape (30730, 128) \n",
      "Text Input Attention Mask Shape (30730, 128) \n",
      "Label Data shape (30730,)\n"
     ]
    }
   ],
   "source": [
    "print('Text Input Ids Shape {} \\nText Input Attention Mask Shape {} \\nLabel Data shape {}'.format(text_input_ids.shape,text_attention_masks.shape,new_final_label_data.shape))"
   ]
  },
  {
   "cell_type": "code",
   "execution_count": 33,
   "metadata": {
    "execution": {
     "iopub.execute_input": "2023-06-08T14:52:11.375539Z",
     "iopub.status.busy": "2023-06-08T14:52:11.37423Z",
     "iopub.status.idle": "2023-06-08T14:52:11.404837Z",
     "shell.execute_reply": "2023-06-08T14:52:11.403658Z",
     "shell.execute_reply.started": "2023-06-08T14:52:11.375496Z"
    },
    "id": "UKIjDuMspJ1g"
   },
   "outputs": [],
   "source": [
    "X_train_input,X_test_input,Y_train_label,Y_test_label,train_mask,test_mask=train_test_split(text_input_ids,new_final_label_data,text_attention_masks,test_size=0.2,random_state=42,shuffle=True)"
   ]
  },
  {
   "cell_type": "code",
   "execution_count": 34,
   "metadata": {
    "execution": {
     "iopub.execute_input": "2023-06-08T14:52:11.409319Z",
     "iopub.status.busy": "2023-06-08T14:52:11.408985Z",
     "iopub.status.idle": "2023-06-08T14:52:11.415926Z",
     "shell.execute_reply": "2023-06-08T14:52:11.414494Z",
     "shell.execute_reply.started": "2023-06-08T14:52:11.409289Z"
    },
    "id": "zqOK0UrPpJ7B",
    "outputId": "44cd5443-64ba-4ac7-9748-7c27f973c82b"
   },
   "outputs": [
    {
     "name": "stdout",
     "output_type": "stream",
     "text": [
      "Train input shape (24584, 128)\n",
      "Test input shape (6146, 128)\n",
      "Train label shape (24584,)\n",
      "Test label shape (6146,)\n",
      "Train attention mask shape (24584, 128)\n",
      "Test attention mask shape (6146, 128)\n"
     ]
    }
   ],
   "source": [
    "print('Train input shape {}\\nTest input shape {}\\nTrain label shape {}\\nTest label shape {}\\nTrain attention mask shape {}\\nTest attention mask shape {}'.format(X_train_input.shape,X_test_input.shape,Y_train_label.shape,Y_test_label.shape,train_mask.shape,test_mask.shape))"
   ]
  },
  {
   "cell_type": "code",
   "execution_count": 35,
   "metadata": {},
   "outputs": [
    {
     "name": "stdout",
     "output_type": "stream",
     "text": [
      "[0 0 1 0 1 0 1 1 0 0 1 1 1 0 1 1 0 1 1 0 0 1 1 1 0 0 1 1 1 0 0 0 1 1 0 1 1\n",
      " 0 1 0 1 0 1 1 1 0 0 1 1 1 0 1 0 1 0 1 1 1 0 0 1 0 0 1 0 0 1 1 1 1 0 0 0 0\n",
      " 1]\n"
     ]
    }
   ],
   "source": [
    "print(Y_train_label[675:750])"
   ]
  },
  {
   "cell_type": "markdown",
   "metadata": {
    "id": "SyrrDENuy_4R"
   },
   "source": [
    "# Create Roberta Model"
   ]
  },
  {
   "cell_type": "code",
   "execution_count": 36,
   "metadata": {},
   "outputs": [],
   "source": [
    "from tensorflow.keras.layers import LeakyReLU\n"
   ]
  },
  {
   "cell_type": "code",
   "execution_count": 37,
   "metadata": {
    "execution": {
     "iopub.execute_input": "2023-06-08T14:52:11.418977Z",
     "iopub.status.busy": "2023-06-08T14:52:11.418666Z",
     "iopub.status.idle": "2023-06-08T14:52:11.431356Z",
     "shell.execute_reply": "2023-06-08T14:52:11.430291Z",
     "shell.execute_reply.started": "2023-06-08T14:52:11.418949Z"
    },
    "id": "5xKFWC6ATJPn"
   },
   "outputs": [],
   "source": [
    "def Create_Roberta_Model():\n",
    "    input_ids=tf.keras.Input(shape=(max_len,),dtype=\"int32\")\n",
    "    attention_masks=tf.keras.Input(shape=(max_len,),dtype=\"int32\")\n",
    "    \n",
    "    roberta_model = TFRobertaModel.from_pretrained(\"roberta-base\")\n",
    "    output_dim = roberta_model(input_ids=input_ids, attention_mask=attention_masks)[0][:,0,:]\n",
    "    \n",
    "    dense_layer = tf.keras.layers.Dense(32, activation=\"relu\")(output_dim)\n",
    "    dropout = tf.keras.layers.Dropout(0.3)(dense_layer)\n",
    "    final_layer = tf.keras.layers.Dense(2, activation='softmax')(dropout)\n",
    "\n",
    "    model = tf.keras.models.Model(inputs=[input_ids, attention_masks], outputs=final_layer)\n",
    "    \n",
    "    return model\n"
   ]
  },
  {
   "cell_type": "code",
   "execution_count": 38,
   "metadata": {},
   "outputs": [
    {
     "name": "stdout",
     "output_type": "stream",
     "text": [
      "[1 1 0 ... 0 0 0]\n"
     ]
    }
   ],
   "source": [
    "print(new_final_label_data)"
   ]
  },
  {
   "cell_type": "code",
   "execution_count": 39,
   "metadata": {
    "execution": {
     "iopub.execute_input": "2023-06-08T14:52:11.433791Z",
     "iopub.status.busy": "2023-06-08T14:52:11.43273Z",
     "iopub.status.idle": "2023-06-08T14:52:19.99564Z",
     "shell.execute_reply": "2023-06-08T14:52:19.994556Z",
     "shell.execute_reply.started": "2023-06-08T14:52:11.433742Z"
    },
    "id": "HfWpP1nRpKIx",
    "outputId": "2a6f624b-49aa-46f0-c8be-163afbd65fae",
    "scrolled": false
   },
   "outputs": [
    {
     "name": "stderr",
     "output_type": "stream",
     "text": [
      "Some weights of the PyTorch model were not used when initializing the TF 2.0 model TFRobertaModel: ['lm_head.dense.weight', 'lm_head.dense.bias', 'lm_head.layer_norm.weight', 'lm_head.layer_norm.bias', 'roberta.embeddings.position_ids', 'lm_head.bias']\n",
      "- This IS expected if you are initializing TFRobertaModel from a PyTorch model trained on another task or with another architecture (e.g. initializing a TFBertForSequenceClassification model from a BertForPreTraining model).\n",
      "- This IS NOT expected if you are initializing TFRobertaModel from a PyTorch model that you expect to be exactly identical (e.g. initializing a TFBertForSequenceClassification model from a BertForSequenceClassification model).\n",
      "Some weights or buffers of the TF 2.0 model TFRobertaModel were not initialized from the PyTorch model and are newly initialized: ['roberta.pooler.dense.weight', 'roberta.pooler.dense.bias']\n",
      "You should probably TRAIN this model on a down-stream task to be able to use it for predictions and inference.\n"
     ]
    }
   ],
   "source": [
    "model=Create_Roberta_Model()\n",
    "\n",
    "loss = tf.keras.losses.SparseCategoricalCrossentropy(from_logits=False)\n",
    "\n",
    "optimizer = tf.keras.optimizers.Adam(lr=1e-5)\n",
    "\n",
    "model.compile(loss=loss,optimizer=optimizer, metrics=[\"accuracy\"])"
   ]
  },
  {
   "cell_type": "code",
   "execution_count": 40,
   "metadata": {
    "execution": {
     "iopub.execute_input": "2023-06-08T14:52:19.997402Z",
     "iopub.status.busy": "2023-06-08T14:52:19.997001Z",
     "iopub.status.idle": "2023-06-08T15:59:47.67389Z",
     "shell.execute_reply": "2023-06-08T15:59:47.672901Z",
     "shell.execute_reply.started": "2023-06-08T14:52:19.997363Z"
    },
    "id": "d1LGBF0tpKMM",
    "outputId": "0e669998-9ddb-43f2-be5b-b550d79e73ea"
   },
   "outputs": [
    {
     "name": "stdout",
     "output_type": "stream",
     "text": [
      "Epoch 1/10\n",
      "WARNING:tensorflow:Gradients do not exist for variables ['tf_roberta_model_1/roberta/pooler/dense/kernel:0', 'tf_roberta_model_1/roberta/pooler/dense/bias:0'] when minimizing the loss. If you're using `model.compile()`, did you forget to provide a `loss` argument?\n",
      "WARNING:tensorflow:Gradients do not exist for variables ['tf_roberta_model_1/roberta/pooler/dense/kernel:0', 'tf_roberta_model_1/roberta/pooler/dense/bias:0'] when minimizing the loss. If you're using `model.compile()`, did you forget to provide a `loss` argument?\n",
      " 633/1537 [===========>..................] - ETA: 3:16 - loss: 0.5190 - accuracy: 0.7488"
     ]
    },
    {
     "ename": "KeyboardInterrupt",
     "evalue": "",
     "output_type": "error",
     "traceback": [
      "\u001B[1;31m---------------------------------------------------------------------------\u001B[0m",
      "\u001B[1;31mKeyboardInterrupt\u001B[0m                         Traceback (most recent call last)",
      "Cell \u001B[1;32mIn[40], line 1\u001B[0m\n\u001B[1;32m----> 1\u001B[0m history\u001B[38;5;241m=\u001B[39m\u001B[43mmodel\u001B[49m\u001B[38;5;241;43m.\u001B[39;49m\u001B[43mfit\u001B[49m\u001B[43m(\u001B[49m\u001B[43m[\u001B[49m\u001B[43mX_train_input\u001B[49m\u001B[43m,\u001B[49m\u001B[43mtrain_mask\u001B[49m\u001B[43m]\u001B[49m\u001B[43m,\u001B[49m\u001B[43mY_train_label\u001B[49m\u001B[43m,\u001B[49m\u001B[43mbatch_size\u001B[49m\u001B[38;5;241;43m=\u001B[39;49m\u001B[38;5;241;43m16\u001B[39;49m\u001B[43m,\u001B[49m\u001B[43mepochs\u001B[49m\u001B[38;5;241;43m=\u001B[39;49m\u001B[38;5;241;43m10\u001B[39;49m\u001B[43m,\u001B[49m\u001B[43mvalidation_data\u001B[49m\u001B[38;5;241;43m=\u001B[39;49m\u001B[43m(\u001B[49m\u001B[43m[\u001B[49m\u001B[43mX_test_input\u001B[49m\u001B[43m,\u001B[49m\u001B[43mtest_mask\u001B[49m\u001B[43m]\u001B[49m\u001B[43m,\u001B[49m\u001B[43mY_test_label\u001B[49m\u001B[43m)\u001B[49m\u001B[43m)\u001B[49m\n",
      "File \u001B[1;32m~\\miniconda3\\lib\\site-packages\\keras\\utils\\traceback_utils.py:65\u001B[0m, in \u001B[0;36mfilter_traceback.<locals>.error_handler\u001B[1;34m(*args, **kwargs)\u001B[0m\n\u001B[0;32m     63\u001B[0m filtered_tb \u001B[38;5;241m=\u001B[39m \u001B[38;5;28;01mNone\u001B[39;00m\n\u001B[0;32m     64\u001B[0m \u001B[38;5;28;01mtry\u001B[39;00m:\n\u001B[1;32m---> 65\u001B[0m     \u001B[38;5;28;01mreturn\u001B[39;00m fn(\u001B[38;5;241m*\u001B[39margs, \u001B[38;5;241m*\u001B[39m\u001B[38;5;241m*\u001B[39mkwargs)\n\u001B[0;32m     66\u001B[0m \u001B[38;5;28;01mexcept\u001B[39;00m \u001B[38;5;167;01mException\u001B[39;00m \u001B[38;5;28;01mas\u001B[39;00m e:\n\u001B[0;32m     67\u001B[0m     filtered_tb \u001B[38;5;241m=\u001B[39m _process_traceback_frames(e\u001B[38;5;241m.\u001B[39m__traceback__)\n",
      "File \u001B[1;32m~\\miniconda3\\lib\\site-packages\\keras\\engine\\training.py:1564\u001B[0m, in \u001B[0;36mModel.fit\u001B[1;34m(self, x, y, batch_size, epochs, verbose, callbacks, validation_split, validation_data, shuffle, class_weight, sample_weight, initial_epoch, steps_per_epoch, validation_steps, validation_batch_size, validation_freq, max_queue_size, workers, use_multiprocessing)\u001B[0m\n\u001B[0;32m   1556\u001B[0m \u001B[38;5;28;01mwith\u001B[39;00m tf\u001B[38;5;241m.\u001B[39mprofiler\u001B[38;5;241m.\u001B[39mexperimental\u001B[38;5;241m.\u001B[39mTrace(\n\u001B[0;32m   1557\u001B[0m     \u001B[38;5;124m\"\u001B[39m\u001B[38;5;124mtrain\u001B[39m\u001B[38;5;124m\"\u001B[39m,\n\u001B[0;32m   1558\u001B[0m     epoch_num\u001B[38;5;241m=\u001B[39mepoch,\n\u001B[1;32m   (...)\u001B[0m\n\u001B[0;32m   1561\u001B[0m     _r\u001B[38;5;241m=\u001B[39m\u001B[38;5;241m1\u001B[39m,\n\u001B[0;32m   1562\u001B[0m ):\n\u001B[0;32m   1563\u001B[0m     callbacks\u001B[38;5;241m.\u001B[39mon_train_batch_begin(step)\n\u001B[1;32m-> 1564\u001B[0m     tmp_logs \u001B[38;5;241m=\u001B[39m \u001B[38;5;28;43mself\u001B[39;49m\u001B[38;5;241;43m.\u001B[39;49m\u001B[43mtrain_function\u001B[49m\u001B[43m(\u001B[49m\u001B[43miterator\u001B[49m\u001B[43m)\u001B[49m\n\u001B[0;32m   1565\u001B[0m     \u001B[38;5;28;01mif\u001B[39;00m data_handler\u001B[38;5;241m.\u001B[39mshould_sync:\n\u001B[0;32m   1566\u001B[0m         context\u001B[38;5;241m.\u001B[39masync_wait()\n",
      "File \u001B[1;32m~\\AppData\\Roaming\\Python\\Python310\\site-packages\\tensorflow\\python\\util\\traceback_utils.py:150\u001B[0m, in \u001B[0;36mfilter_traceback.<locals>.error_handler\u001B[1;34m(*args, **kwargs)\u001B[0m\n\u001B[0;32m    148\u001B[0m filtered_tb \u001B[38;5;241m=\u001B[39m \u001B[38;5;28;01mNone\u001B[39;00m\n\u001B[0;32m    149\u001B[0m \u001B[38;5;28;01mtry\u001B[39;00m:\n\u001B[1;32m--> 150\u001B[0m   \u001B[38;5;28;01mreturn\u001B[39;00m fn(\u001B[38;5;241m*\u001B[39margs, \u001B[38;5;241m*\u001B[39m\u001B[38;5;241m*\u001B[39mkwargs)\n\u001B[0;32m    151\u001B[0m \u001B[38;5;28;01mexcept\u001B[39;00m \u001B[38;5;167;01mException\u001B[39;00m \u001B[38;5;28;01mas\u001B[39;00m e:\n\u001B[0;32m    152\u001B[0m   filtered_tb \u001B[38;5;241m=\u001B[39m _process_traceback_frames(e\u001B[38;5;241m.\u001B[39m__traceback__)\n",
      "File \u001B[1;32m~\\AppData\\Roaming\\Python\\Python310\\site-packages\\tensorflow\\python\\eager\\def_function.py:915\u001B[0m, in \u001B[0;36mFunction.__call__\u001B[1;34m(self, *args, **kwds)\u001B[0m\n\u001B[0;32m    912\u001B[0m compiler \u001B[38;5;241m=\u001B[39m \u001B[38;5;124m\"\u001B[39m\u001B[38;5;124mxla\u001B[39m\u001B[38;5;124m\"\u001B[39m \u001B[38;5;28;01mif\u001B[39;00m \u001B[38;5;28mself\u001B[39m\u001B[38;5;241m.\u001B[39m_jit_compile \u001B[38;5;28;01melse\u001B[39;00m \u001B[38;5;124m\"\u001B[39m\u001B[38;5;124mnonXla\u001B[39m\u001B[38;5;124m\"\u001B[39m\n\u001B[0;32m    914\u001B[0m \u001B[38;5;28;01mwith\u001B[39;00m OptionalXlaContext(\u001B[38;5;28mself\u001B[39m\u001B[38;5;241m.\u001B[39m_jit_compile):\n\u001B[1;32m--> 915\u001B[0m   result \u001B[38;5;241m=\u001B[39m \u001B[38;5;28mself\u001B[39m\u001B[38;5;241m.\u001B[39m_call(\u001B[38;5;241m*\u001B[39margs, \u001B[38;5;241m*\u001B[39m\u001B[38;5;241m*\u001B[39mkwds)\n\u001B[0;32m    917\u001B[0m new_tracing_count \u001B[38;5;241m=\u001B[39m \u001B[38;5;28mself\u001B[39m\u001B[38;5;241m.\u001B[39mexperimental_get_tracing_count()\n\u001B[0;32m    918\u001B[0m without_tracing \u001B[38;5;241m=\u001B[39m (tracing_count \u001B[38;5;241m==\u001B[39m new_tracing_count)\n",
      "File \u001B[1;32m~\\AppData\\Roaming\\Python\\Python310\\site-packages\\tensorflow\\python\\eager\\def_function.py:947\u001B[0m, in \u001B[0;36mFunction._call\u001B[1;34m(self, *args, **kwds)\u001B[0m\n\u001B[0;32m    944\u001B[0m   \u001B[38;5;28mself\u001B[39m\u001B[38;5;241m.\u001B[39m_lock\u001B[38;5;241m.\u001B[39mrelease()\n\u001B[0;32m    945\u001B[0m   \u001B[38;5;66;03m# In this case we have created variables on the first call, so we run the\u001B[39;00m\n\u001B[0;32m    946\u001B[0m   \u001B[38;5;66;03m# defunned version which is guaranteed to never create variables.\u001B[39;00m\n\u001B[1;32m--> 947\u001B[0m   \u001B[38;5;28;01mreturn\u001B[39;00m \u001B[38;5;28mself\u001B[39m\u001B[38;5;241m.\u001B[39m_stateless_fn(\u001B[38;5;241m*\u001B[39margs, \u001B[38;5;241m*\u001B[39m\u001B[38;5;241m*\u001B[39mkwds)  \u001B[38;5;66;03m# pylint: disable=not-callable\u001B[39;00m\n\u001B[0;32m    948\u001B[0m \u001B[38;5;28;01melif\u001B[39;00m \u001B[38;5;28mself\u001B[39m\u001B[38;5;241m.\u001B[39m_stateful_fn \u001B[38;5;129;01mis\u001B[39;00m \u001B[38;5;129;01mnot\u001B[39;00m \u001B[38;5;28;01mNone\u001B[39;00m:\n\u001B[0;32m    949\u001B[0m   \u001B[38;5;66;03m# Release the lock early so that multiple threads can perform the call\u001B[39;00m\n\u001B[0;32m    950\u001B[0m   \u001B[38;5;66;03m# in parallel.\u001B[39;00m\n\u001B[0;32m    951\u001B[0m   \u001B[38;5;28mself\u001B[39m\u001B[38;5;241m.\u001B[39m_lock\u001B[38;5;241m.\u001B[39mrelease()\n",
      "File \u001B[1;32m~\\AppData\\Roaming\\Python\\Python310\\site-packages\\tensorflow\\python\\eager\\function.py:2496\u001B[0m, in \u001B[0;36mFunction.__call__\u001B[1;34m(self, *args, **kwargs)\u001B[0m\n\u001B[0;32m   2493\u001B[0m \u001B[38;5;28;01mwith\u001B[39;00m \u001B[38;5;28mself\u001B[39m\u001B[38;5;241m.\u001B[39m_lock:\n\u001B[0;32m   2494\u001B[0m   (graph_function,\n\u001B[0;32m   2495\u001B[0m    filtered_flat_args) \u001B[38;5;241m=\u001B[39m \u001B[38;5;28mself\u001B[39m\u001B[38;5;241m.\u001B[39m_maybe_define_function(args, kwargs)\n\u001B[1;32m-> 2496\u001B[0m \u001B[38;5;28;01mreturn\u001B[39;00m \u001B[43mgraph_function\u001B[49m\u001B[38;5;241;43m.\u001B[39;49m\u001B[43m_call_flat\u001B[49m\u001B[43m(\u001B[49m\n\u001B[0;32m   2497\u001B[0m \u001B[43m    \u001B[49m\u001B[43mfiltered_flat_args\u001B[49m\u001B[43m,\u001B[49m\u001B[43m \u001B[49m\u001B[43mcaptured_inputs\u001B[49m\u001B[38;5;241;43m=\u001B[39;49m\u001B[43mgraph_function\u001B[49m\u001B[38;5;241;43m.\u001B[39;49m\u001B[43mcaptured_inputs\u001B[49m\u001B[43m)\u001B[49m\n",
      "File \u001B[1;32m~\\AppData\\Roaming\\Python\\Python310\\site-packages\\tensorflow\\python\\eager\\function.py:1862\u001B[0m, in \u001B[0;36mConcreteFunction._call_flat\u001B[1;34m(self, args, captured_inputs, cancellation_manager)\u001B[0m\n\u001B[0;32m   1858\u001B[0m possible_gradient_type \u001B[38;5;241m=\u001B[39m gradients_util\u001B[38;5;241m.\u001B[39mPossibleTapeGradientTypes(args)\n\u001B[0;32m   1859\u001B[0m \u001B[38;5;28;01mif\u001B[39;00m (possible_gradient_type \u001B[38;5;241m==\u001B[39m gradients_util\u001B[38;5;241m.\u001B[39mPOSSIBLE_GRADIENT_TYPES_NONE\n\u001B[0;32m   1860\u001B[0m     \u001B[38;5;129;01mand\u001B[39;00m executing_eagerly):\n\u001B[0;32m   1861\u001B[0m   \u001B[38;5;66;03m# No tape is watching; skip to running the function.\u001B[39;00m\n\u001B[1;32m-> 1862\u001B[0m   \u001B[38;5;28;01mreturn\u001B[39;00m \u001B[38;5;28mself\u001B[39m\u001B[38;5;241m.\u001B[39m_build_call_outputs(\u001B[38;5;28;43mself\u001B[39;49m\u001B[38;5;241;43m.\u001B[39;49m\u001B[43m_inference_function\u001B[49m\u001B[38;5;241;43m.\u001B[39;49m\u001B[43mcall\u001B[49m\u001B[43m(\u001B[49m\n\u001B[0;32m   1863\u001B[0m \u001B[43m      \u001B[49m\u001B[43mctx\u001B[49m\u001B[43m,\u001B[49m\u001B[43m \u001B[49m\u001B[43margs\u001B[49m\u001B[43m,\u001B[49m\u001B[43m \u001B[49m\u001B[43mcancellation_manager\u001B[49m\u001B[38;5;241;43m=\u001B[39;49m\u001B[43mcancellation_manager\u001B[49m\u001B[43m)\u001B[49m)\n\u001B[0;32m   1864\u001B[0m forward_backward \u001B[38;5;241m=\u001B[39m \u001B[38;5;28mself\u001B[39m\u001B[38;5;241m.\u001B[39m_select_forward_and_backward_functions(\n\u001B[0;32m   1865\u001B[0m     args,\n\u001B[0;32m   1866\u001B[0m     possible_gradient_type,\n\u001B[0;32m   1867\u001B[0m     executing_eagerly)\n\u001B[0;32m   1868\u001B[0m forward_function, args_with_tangents \u001B[38;5;241m=\u001B[39m forward_backward\u001B[38;5;241m.\u001B[39mforward()\n",
      "File \u001B[1;32m~\\AppData\\Roaming\\Python\\Python310\\site-packages\\tensorflow\\python\\eager\\function.py:499\u001B[0m, in \u001B[0;36m_EagerDefinedFunction.call\u001B[1;34m(self, ctx, args, cancellation_manager)\u001B[0m\n\u001B[0;32m    497\u001B[0m \u001B[38;5;28;01mwith\u001B[39;00m _InterpolateFunctionError(\u001B[38;5;28mself\u001B[39m):\n\u001B[0;32m    498\u001B[0m   \u001B[38;5;28;01mif\u001B[39;00m cancellation_manager \u001B[38;5;129;01mis\u001B[39;00m \u001B[38;5;28;01mNone\u001B[39;00m:\n\u001B[1;32m--> 499\u001B[0m     outputs \u001B[38;5;241m=\u001B[39m \u001B[43mexecute\u001B[49m\u001B[38;5;241;43m.\u001B[39;49m\u001B[43mexecute\u001B[49m\u001B[43m(\u001B[49m\n\u001B[0;32m    500\u001B[0m \u001B[43m        \u001B[49m\u001B[38;5;28;43mstr\u001B[39;49m\u001B[43m(\u001B[49m\u001B[38;5;28;43mself\u001B[39;49m\u001B[38;5;241;43m.\u001B[39;49m\u001B[43msignature\u001B[49m\u001B[38;5;241;43m.\u001B[39;49m\u001B[43mname\u001B[49m\u001B[43m)\u001B[49m\u001B[43m,\u001B[49m\n\u001B[0;32m    501\u001B[0m \u001B[43m        \u001B[49m\u001B[43mnum_outputs\u001B[49m\u001B[38;5;241;43m=\u001B[39;49m\u001B[38;5;28;43mself\u001B[39;49m\u001B[38;5;241;43m.\u001B[39;49m\u001B[43m_num_outputs\u001B[49m\u001B[43m,\u001B[49m\n\u001B[0;32m    502\u001B[0m \u001B[43m        \u001B[49m\u001B[43minputs\u001B[49m\u001B[38;5;241;43m=\u001B[39;49m\u001B[43margs\u001B[49m\u001B[43m,\u001B[49m\n\u001B[0;32m    503\u001B[0m \u001B[43m        \u001B[49m\u001B[43mattrs\u001B[49m\u001B[38;5;241;43m=\u001B[39;49m\u001B[43mattrs\u001B[49m\u001B[43m,\u001B[49m\n\u001B[0;32m    504\u001B[0m \u001B[43m        \u001B[49m\u001B[43mctx\u001B[49m\u001B[38;5;241;43m=\u001B[39;49m\u001B[43mctx\u001B[49m\u001B[43m)\u001B[49m\n\u001B[0;32m    505\u001B[0m   \u001B[38;5;28;01melse\u001B[39;00m:\n\u001B[0;32m    506\u001B[0m     outputs \u001B[38;5;241m=\u001B[39m execute\u001B[38;5;241m.\u001B[39mexecute_with_cancellation(\n\u001B[0;32m    507\u001B[0m         \u001B[38;5;28mstr\u001B[39m(\u001B[38;5;28mself\u001B[39m\u001B[38;5;241m.\u001B[39msignature\u001B[38;5;241m.\u001B[39mname),\n\u001B[0;32m    508\u001B[0m         num_outputs\u001B[38;5;241m=\u001B[39m\u001B[38;5;28mself\u001B[39m\u001B[38;5;241m.\u001B[39m_num_outputs,\n\u001B[1;32m   (...)\u001B[0m\n\u001B[0;32m    511\u001B[0m         ctx\u001B[38;5;241m=\u001B[39mctx,\n\u001B[0;32m    512\u001B[0m         cancellation_manager\u001B[38;5;241m=\u001B[39mcancellation_manager)\n",
      "File \u001B[1;32m~\\AppData\\Roaming\\Python\\Python310\\site-packages\\tensorflow\\python\\eager\\execute.py:54\u001B[0m, in \u001B[0;36mquick_execute\u001B[1;34m(op_name, num_outputs, inputs, attrs, ctx, name)\u001B[0m\n\u001B[0;32m     52\u001B[0m \u001B[38;5;28;01mtry\u001B[39;00m:\n\u001B[0;32m     53\u001B[0m   ctx\u001B[38;5;241m.\u001B[39mensure_initialized()\n\u001B[1;32m---> 54\u001B[0m   tensors \u001B[38;5;241m=\u001B[39m \u001B[43mpywrap_tfe\u001B[49m\u001B[38;5;241;43m.\u001B[39;49m\u001B[43mTFE_Py_Execute\u001B[49m\u001B[43m(\u001B[49m\u001B[43mctx\u001B[49m\u001B[38;5;241;43m.\u001B[39;49m\u001B[43m_handle\u001B[49m\u001B[43m,\u001B[49m\u001B[43m \u001B[49m\u001B[43mdevice_name\u001B[49m\u001B[43m,\u001B[49m\u001B[43m \u001B[49m\u001B[43mop_name\u001B[49m\u001B[43m,\u001B[49m\n\u001B[0;32m     55\u001B[0m \u001B[43m                                      \u001B[49m\u001B[43minputs\u001B[49m\u001B[43m,\u001B[49m\u001B[43m \u001B[49m\u001B[43mattrs\u001B[49m\u001B[43m,\u001B[49m\u001B[43m \u001B[49m\u001B[43mnum_outputs\u001B[49m\u001B[43m)\u001B[49m\n\u001B[0;32m     56\u001B[0m \u001B[38;5;28;01mexcept\u001B[39;00m core\u001B[38;5;241m.\u001B[39m_NotOkStatusException \u001B[38;5;28;01mas\u001B[39;00m e:\n\u001B[0;32m     57\u001B[0m   \u001B[38;5;28;01mif\u001B[39;00m name \u001B[38;5;129;01mis\u001B[39;00m \u001B[38;5;129;01mnot\u001B[39;00m \u001B[38;5;28;01mNone\u001B[39;00m:\n",
      "\u001B[1;31mKeyboardInterrupt\u001B[0m: "
     ]
    }
   ],
   "source": [
    "history=model.fit([X_train_input,train_mask],Y_train_label,batch_size=16,epochs=10,validation_data=([X_test_input,test_mask],Y_test_label), verbose=1)"
   ]
  },
  {
   "cell_type": "code",
   "execution_count": null,
   "metadata": {},
   "outputs": [],
   "source": []
  },
  {
   "cell_type": "code",
   "execution_count": null,
   "metadata": {
    "execution": {
     "iopub.execute_input": "2023-06-08T15:59:47.67614Z",
     "iopub.status.busy": "2023-06-08T15:59:47.675766Z",
     "iopub.status.idle": "2023-06-08T15:59:47.689016Z",
     "shell.execute_reply": "2023-06-08T15:59:47.687651Z",
     "shell.execute_reply.started": "2023-06-08T15:59:47.676104Z"
    }
   },
   "outputs": [],
   "source": [
    "def model_loss_and_accuracy(history):\n",
    "    \n",
    "    fig=plt.figure(figsize=(15,15))\n",
    "    plt.subplot(221)\n",
    "    plt.plot(history.history[\"accuracy\"],marker=\"o\",linestyle=\":\",markersize=10,color=\"m\",label=\"accuracy\")\n",
    "    plt.plot(history.history[\"val_accuracy\"],marker=\"D\",linestyle=\":\",markersize=10,color=\"b\",label=\"val_accuracy\")\n",
    "    plt.title(\"Model Accuracy\\n\",fontsize=20,color=\"darkorange\")\n",
    "    plt.xlabel(\"Number of Epochs\",color=\"midnightblue\",fontsize=15)\n",
    "    plt.ylabel(\"Accuracy\",color=\"midnightblue\",fontsize=15)\n",
    "    plt.grid(color = 'green', linestyle = '--', linewidth = 1)\n",
    "    plt.legend(loc=\"best\")\n",
    "    plt.tight_layout()\n",
    "    \n",
    "  \n",
    "    plt.subplot(222)\n",
    "    plt.plot(history.history[\"accuracy\"],marker=\"v\",linestyle=\"-.\",markersize=10,color=\"g\",label=\"accuracy\")\n",
    "    plt.plot(history.history[\"val_accuracy\"],marker=\"s\",linestyle=\"--\",markersize=10,color=\"r\",label=\"val_accuracy\")\n",
    "    plt.title(\"Model Loss\\n\",fontsize=20,color=\"limegreen\")\n",
    "    plt.xlabel(\"Number of Epochs\",color=\"midnightblue\",fontsize=15)\n",
    "    plt.ylabel(\"Loss\",color=\"midnightblue\",fontsize=15)\n",
    "    plt.grid(color = 'green', linestyle = '--', linewidth = 1)\n",
    "    plt.legend(loc=\"best\")\n",
    "    plt.tight_layout()\n",
    "    plt.show()"
   ]
  },
  {
   "cell_type": "code",
   "execution_count": null,
   "metadata": {
    "execution": {
     "iopub.execute_input": "2023-06-08T15:59:47.691061Z",
     "iopub.status.busy": "2023-06-08T15:59:47.690566Z",
     "iopub.status.idle": "2023-06-08T15:59:48.133763Z",
     "shell.execute_reply": "2023-06-08T15:59:48.132792Z",
     "shell.execute_reply.started": "2023-06-08T15:59:47.691002Z"
    }
   },
   "outputs": [],
   "source": [
    "model_loss_and_accuracy(history)"
   ]
  },
  {
   "cell_type": "markdown",
   "metadata": {},
   "source": [
    "# F1 Score"
   ]
  },
  {
   "cell_type": "code",
   "execution_count": null,
   "metadata": {
    "execution": {
     "iopub.execute_input": "2023-06-08T15:59:48.137362Z",
     "iopub.status.busy": "2023-06-08T15:59:48.137061Z",
     "iopub.status.idle": "2023-06-08T16:06:07.982369Z",
     "shell.execute_reply": "2023-06-08T16:06:07.981408Z",
     "shell.execute_reply.started": "2023-06-08T15:59:48.137334Z"
    }
   },
   "outputs": [],
   "source": [
    "def plot_f1_score(history):\n",
    "    f1_scores = []\n",
    "    for epoch in range(len(history.history['val_loss'])):\n",
    "        model.set_weights(history.model.get_weights())\n",
    "        predictions = model.predict([X_test_input, test_mask])\n",
    "        predictions = [round(p[0]) for p in predictions]\n",
    "    \n",
    "        f1_scores.append(f1_score(Y_test_label, predictions, average='weighted'))\n",
    "    plt.figure(figsize=(10,10))\n",
    "    plt.plot(range(len(history.history['val_loss'])), f1_scores, label='F1 score',marker=\"*\",color=\"g\",linestyle=\"--\",linewidth=4,markersize=8,markerfacecolor=\"r\")\n",
    "    plt.title(\"F1 Score\\n\",color=\"black\",fontsize=20)\n",
    "    plt.xlabel('Epochs',fontsize=15,color=\"black\")\n",
    "    plt.ylabel('F1 score',fontsize=15,color=\"black\")\n",
    "    plt.legend()\n",
    "    plt.show()\n",
    "\n",
    "\n",
    "plot_f1_score(history)\n"
   ]
  },
  {
   "cell_type": "markdown",
   "metadata": {},
   "source": [
    "# Label Names"
   ]
  },
  {
   "cell_type": "code",
   "execution_count": null,
   "metadata": {
    "execution": {
     "iopub.execute_input": "2023-06-08T16:06:07.98453Z",
     "iopub.status.busy": "2023-06-08T16:06:07.984058Z",
     "iopub.status.idle": "2023-06-08T16:06:07.989632Z",
     "shell.execute_reply": "2023-06-08T16:06:07.988677Z",
     "shell.execute_reply.started": "2023-06-08T16:06:07.984492Z"
    }
   },
   "outputs": [],
   "source": [
    "label_name=[\"Positive\",\"Racist and Sexist\"]"
   ]
  },
  {
   "cell_type": "code",
   "execution_count": null,
   "metadata": {
    "execution": {
     "iopub.execute_input": "2023-06-08T16:06:07.991738Z",
     "iopub.status.busy": "2023-06-08T16:06:07.990886Z",
     "iopub.status.idle": "2023-06-08T16:06:40.6963Z",
     "shell.execute_reply": "2023-06-08T16:06:40.695204Z",
     "shell.execute_reply.started": "2023-06-08T16:06:07.991699Z"
    }
   },
   "outputs": [],
   "source": [
    "pred=model.predict([X_test_input, test_mask])\n",
    "prediction=np.argmax(pred, axis=1)"
   ]
  },
  {
   "cell_type": "markdown",
   "metadata": {},
   "source": [
    "# Accuracy Score"
   ]
  },
  {
   "cell_type": "code",
   "execution_count": null,
   "metadata": {
    "execution": {
     "iopub.execute_input": "2023-06-08T16:06:40.69845Z",
     "iopub.status.busy": "2023-06-08T16:06:40.698062Z",
     "iopub.status.idle": "2023-06-08T16:06:40.705539Z",
     "shell.execute_reply": "2023-06-08T16:06:40.704422Z",
     "shell.execute_reply.started": "2023-06-08T16:06:40.698412Z"
    }
   },
   "outputs": [],
   "source": [
    "print(\"Accuracy Score is\",accuracy_score(Y_test_label,prediction))"
   ]
  },
  {
   "cell_type": "markdown",
   "metadata": {},
   "source": [
    "# ROC AUC Score"
   ]
  },
  {
   "cell_type": "code",
   "execution_count": null,
   "metadata": {
    "execution": {
     "iopub.execute_input": "2023-06-08T16:06:40.708016Z",
     "iopub.status.busy": "2023-06-08T16:06:40.707308Z",
     "iopub.status.idle": "2023-06-08T16:06:40.71916Z",
     "shell.execute_reply": "2023-06-08T16:06:40.717897Z",
     "shell.execute_reply.started": "2023-06-08T16:06:40.707979Z"
    }
   },
   "outputs": [],
   "source": [
    "print(\"ROC AUC Score is {}\".format(roc_auc_score(Y_test_label, pred[:,1])))"
   ]
  },
  {
   "cell_type": "markdown",
   "metadata": {},
   "source": [
    "# Average Precision Score"
   ]
  },
  {
   "metadata": {
    "jupyter": {
     "is_executing": true
    }
   },
   "cell_type": "code",
   "source": "print(classification_report(Y_test_label, np.argmax(pred, axis=1)))",
   "outputs": [],
   "execution_count": null
  },
  {
   "metadata": {},
   "cell_type": "code",
   "outputs": [],
   "execution_count": null,
   "source": ""
  }
 ],
 "metadata": {
  "kaggle": {
   "accelerator": "none",
   "dataSources": [
    {
     "datasetId": 100982,
     "sourceId": 239192,
     "sourceType": "datasetVersion"
    },
    {
     "datasetId": 2428302,
     "sourceId": 5383266,
     "sourceType": "datasetVersion"
    }
   ],
   "dockerImageVersionId": 30301,
   "isGpuEnabled": false,
   "isInternetEnabled": false,
   "language": "python",
   "sourceType": "notebook"
  },
  "kernelspec": {
   "display_name": "Python 3 (ipykernel)",
   "language": "python",
   "name": "python3"
  },
  "language_info": {
   "codemirror_mode": {
    "name": "ipython",
    "version": 3
   },
   "file_extension": ".py",
   "mimetype": "text/x-python",
   "name": "python",
   "nbconvert_exporter": "python",
   "pygments_lexer": "ipython3",
   "version": "3.10.14"
  }
 },
 "nbformat": 4,
 "nbformat_minor": 4
}
